{
 "cells": [
  {
   "cell_type": "markdown",
   "metadata": {},
   "source": [
    "# Project 1\n",
    "\n",
    "In this first project you will create a framework to scope out data science projects. This framework will provide you with a guide to develop a well-articulated problem statement and analysis plan that will be robust and reproducible."
   ]
  },
  {
   "cell_type": "markdown",
   "metadata": {},
   "source": [
    "### Read and evaluate the following problem statement: \n",
    "Determine which free-tier customers will covert to paying customers, using demographic data collected at signup (age, gender, location, and profession) and customer useage data (days since last log in, and activity score 1 = active user, 0= inactive user) based on Hooli data from Jan-Apr 2015. \n"
   ]
  },
  {
   "cell_type": "markdown",
   "metadata": {},
   "source": [
    "#### 1. What is the outcome?"
   ]
  },
  {
   "cell_type": "markdown",
   "metadata": {},
   "source": [
    "Answer: The outcome measure in this instance is the conversion of free tier customers to paying customers."
   ]
  },
  {
   "cell_type": "markdown",
   "metadata": {},
   "source": [
    "Correct"
   ]
  },
  {
   "cell_type": "markdown",
   "metadata": {},
   "source": [
    "#### 2. What are the predictors/covariates? "
   ]
  },
  {
   "cell_type": "markdown",
   "metadata": {},
   "source": [
    "Answer: The covariates in this analysis are demographic data collected from users and usage data gathered from system use encompassing age, gender, location and profession as well as days since last login and categorical data around level of activity on the system."
   ]
  },
  {
   "cell_type": "markdown",
   "metadata": {},
   "source": [
    "Correct"
   ]
  },
  {
   "cell_type": "markdown",
   "metadata": {},
   "source": [
    "#### 3. What timeframe is this data relevent for?"
   ]
  },
  {
   "cell_type": "markdown",
   "metadata": {},
   "source": [
    "Answer: January to April 2015 (although it is unclear whether the timeframe amounts to whole month January to whole month April of that year). Sensitivities to seasonal variation may be present, since data only applies to half a year. Methodological sensitivities may be present if seeking to extrapolate whole year data trends from half yearly data."
   ]
  },
  {
   "cell_type": "markdown",
   "metadata": {},
   "source": [
    "Correct"
   ]
  },
  {
   "cell_type": "markdown",
   "metadata": {},
   "source": [
    "#### 4. What is the hypothesis?"
   ]
  },
  {
   "cell_type": "markdown",
   "metadata": {},
   "source": [
    "Answer: The null hypothesis is that the covariates have no effect on the conversion of free-tier customers to paying customers.  The null hypothesis will be rejected if we can demonstrate a statistically significant relationship between one or more covariates and the outcome variable."
   ]
  },
  {
   "cell_type": "markdown",
   "metadata": {},
   "source": [
    "Correct"
   ]
  },
  {
   "cell_type": "markdown",
   "metadata": {},
   "source": [
    "## Let's get started with our dataset"
   ]
  },
  {
   "cell_type": "markdown",
   "metadata": {},
   "source": [
    "#### 1. Create a data dictionary "
   ]
  },
  {
   "cell_type": "markdown",
   "metadata": {},
   "source": [
    "Answer: This admissions dataset contains data drawn from UCLA admissions data.  The following data dictionary provides further detail on the contents of the dataset:\n",
    "\n",
    "Variable | Description | Type of Variable\n",
    ":--------|:-----------:|----------------:|\n",
    "admission| 0 = student not admitted 1 = student admitted | categorical/binary|\n",
    "GPA[1] | 0.0 - 4.0 | discrete |\n",
    "GRE[2] | 0 - 800   | discrete|\n",
    "Prestige[3] | 1-4     | discrete|\n",
    "\n",
    "[1] Grade point average (GPA) is calculated by dividing the total amount of grade points earned by the total amount of credit hours attempted. Your grade point average may range from 0.0 to a 4.0. For example: A = 4.00 grade points. A- = 3.70 grade points.\n",
    "\n",
    "[2] The Graduate Record Examination (GRE) is a broad assessment of critical thinking, analytical writing, verbal reasoning, and quantitative reasoning skills — all skills developed over the course of many years.  It is often used by US universities as a means to determine critical and analytical thinking capability.  The scores are out of a maximum of 800.\n",
    "\n",
    "[3] Prestige here is a measure on a scale of 1-4 of the graduate's alma mater.  The scale is reverse scored, so 1 is the highest rank and 4 is the lowest.\n"
   ]
  },
  {
   "cell_type": "markdown",
   "metadata": {},
   "source": [
    "# Notes\n",
    "The point of the exercise was to differentiate between continuous and categorical, in a sense all measurements of data will be discrete. \n",
    "\n",
    "However you are technically correct, so I'll give you points regardless!\n",
    "\n",
    "Solution Code has Prestige as Categorical and GRE/GPA as continuous, remember that GPA can technically be 3.111777 if it is calculated using multiple grades."
   ]
  },
  {
   "cell_type": "markdown",
   "metadata": {},
   "source": [
    "#### 2. What is the outcome?"
   ]
  },
  {
   "cell_type": "markdown",
   "metadata": {},
   "source": [
    "Answer: We are seeking to predict the factors that influence admission into graduate school."
   ]
  },
  {
   "cell_type": "markdown",
   "metadata": {},
   "source": [
    "Correct"
   ]
  },
  {
   "cell_type": "markdown",
   "metadata": {},
   "source": [
    "#### 3. What are the predictors/covariates? "
   ]
  },
  {
   "cell_type": "markdown",
   "metadata": {},
   "source": [
    "Answer: The covariates in this example are a graduate students' grade point average, grade record examination results and the prestige of their alma mater.  Please see the data dictionary above for further information as to how each of these variables is measured and what they are."
   ]
  },
  {
   "cell_type": "markdown",
   "metadata": {},
   "source": [
    "Correct"
   ]
  },
  {
   "cell_type": "markdown",
   "metadata": {},
   "source": [
    "#### 4. What timeframe is this data relevent for?"
   ]
  },
  {
   "cell_type": "markdown",
   "metadata": {},
   "source": [
    "Answer: This is unclear.  Not datetime data is within the sample and the accompanying materials do not detail this.  However, via research, we can establish that the data must predate 2011, when the GRE test transitioned from a 0-800 scale to a tripartite scale of 0-170 for verbal reasoning, 0-170 for quantitative reasoning and 0-6 for critical analysis."
   ]
  },
  {
   "cell_type": "markdown",
   "metadata": {},
   "source": [
    "Correct"
   ]
  },
  {
   "cell_type": "markdown",
   "metadata": {},
   "source": [
    "#### 4. What is the hypothesis?"
   ]
  },
  {
   "cell_type": "markdown",
   "metadata": {},
   "source": [
    "Answer: The null hypothesis is that none of GPA, GRE, Prestige of the alma mater influence the outcome variable which is the admission of the student."
   ]
  },
  {
   "cell_type": "markdown",
   "metadata": {},
   "source": [
    "    Using the above information, write a well-formed problem statement. \n"
   ]
  },
  {
   "cell_type": "markdown",
   "metadata": {},
   "source": [
    "Answer is fine, but try to be specific with a hypothesis rather than a null hypothesis, like:\n",
    "\n",
    "Answer: Students that more prestigious undergraduate schools will have higher admissions rates into graduate school.\n"
   ]
  },
  {
   "cell_type": "markdown",
   "metadata": {},
   "source": [
    "## Problem Statement"
   ]
  },
  {
   "cell_type": "markdown",
   "metadata": {},
   "source": [
    "### Exploratory Analysis Plan"
   ]
  },
  {
   "cell_type": "markdown",
   "metadata": {},
   "source": [
    "Using the lab from a class as a guide, create an exploratory analysis plan. "
   ]
  },
  {
   "cell_type": "markdown",
   "metadata": {},
   "source": [
    "#### 1. What are the goals of the exploratory analysis? "
   ]
  },
  {
   "cell_type": "markdown",
   "metadata": {
    "collapsed": true
   },
   "source": [
    "Answer: The exploratory analysis seeks to understand the size, shape and quality of the data and what the data contains and measures.  We can understand the data better by distinguishing between the different types of variable, summarising data numerically and summarising data graphically.   We can also use theoretical distributions to learn more about variables.\n",
    "\n",
    "We are seeking to learn what we can about what features are important for a graduate student gaining entry to UCLA to study, whether that is their GPA, their GRE or how prestigious their alma mater was.  "
   ]
  },
  {
   "cell_type": "markdown",
   "metadata": {},
   "source": [
    "# Notes \n",
    "Also used to find missing values."
   ]
  },
  {
   "cell_type": "markdown",
   "metadata": {},
   "source": [
    "#### 2a. What are the assumptions of the distribution of data? "
   ]
  },
  {
   "cell_type": "markdown",
   "metadata": {},
   "source": [
    "Answer: We assume that the distribution of sample means in the population is normal. However, within the sample, given that the statistics pertain to a meritocratic process for entry to a university, it's likely that we will see some negative skew in the variables that relate to academic standard, such as the GPA and GRE and likely prestige.  "
   ]
  },
  {
   "cell_type": "markdown",
   "metadata": {},
   "source": [
    "Correct"
   ]
  },
  {
   "cell_type": "markdown",
   "metadata": {},
   "source": [
    "#### 2b. How will determine the distribution of your data? "
   ]
  },
  {
   "cell_type": "markdown",
   "metadata": {
    "collapsed": true
   },
   "source": [
    "Answer: we will use exploratory graphical data analysis to determine the distribution of our data using boxplots, swarmplots and histograms as appropriate.  \n",
    "\n",
    "Histograms are typically biased according to the number of bins deployed, and swarmplots offer benefits in terms of identifying the pattern of distributions better, however they are more constrained where there are few categories (and thus they may not be suitable for analysing prestige vs admission, for example).\n",
    "\n",
    "We will supplement graphical analysis with cutting and recutting data to establish patterns."
   ]
  },
  {
   "cell_type": "markdown",
   "metadata": {},
   "source": [
    "Correct"
   ]
  },
  {
   "cell_type": "markdown",
   "metadata": {},
   "source": [
    "#### 3a. How might outliers impact your analysis? "
   ]
  },
  {
   "cell_type": "markdown",
   "metadata": {
    "collapsed": true
   },
   "source": [
    "Answer: All four variables are discrete relating to scales that are exogenous to the study under analysis.  For example, the GRE and GPA are measured on a finite scale, which should help us to distinguish erroneous variables that lie outwith those scales (i.e. a GPA over 4.0 or a GRE over 800)."
   ]
  },
  {
   "cell_type": "markdown",
   "metadata": {},
   "source": [
    "Technically correct but outliers in the data skew the data."
   ]
  },
  {
   "cell_type": "markdown",
   "metadata": {},
   "source": [
    "#### 3b. How will you test for outliers? "
   ]
  },
  {
   "cell_type": "markdown",
   "metadata": {},
   "source": [
    "Answer: We will analyse the data and set out inner and outer fences that constitute 1.5 times the interquartile range. Those that fall outside that range will be subject to further scrutiny, and we will determine how many of these are due to experimental/transcription or clerical error in gathering the data. However, the outliers should not be discarded if they are simply higher or lower values than bounds since they might connote interesting features about the data, or lead to interesting new null hypotheses and further analysis.  \n",
    "\n",
    "One factor that can lead to outliers is the quality of the data or its accuracy.  Since we were not responsible for collecting this data, we must exercise some judgement as to the kinds of inaccuracy or error we might expect.  \n",
    "\n",
    "In this study, one would expect the data quality with regard to GPA and GRE to be fairly consistent since it would be drawn from externally verified sources and documented to the educational establishment.  Clerical error is a possibility that may lead to outliers.\n",
    "\n",
    "We have to assume that the admission binary classification is accurate.  Again, minor clerical errors may be present, but given the importance of admissions to a university, we have to assume that this data is mostly accurate.\n",
    "\n",
    "In the case of prestige of a graduate's school, this is essentially measuring a construct, and we do not know whether each school is accorded a consistent score; we cannot verify within the scope of the data we have whether, say, Cornell or the LSE are accorded the same score consistently, or whether the scoring varies by an applicant's major focus (shifting with the reputation of individual courses at each school).  If there is any particular structural weakness in the data, it is likely to be here given the high level of subjectivity that underpins it. It is also the dataset about which we cannot necessarily find additional information/underpinning methodology in the 'real world'."
   ]
  },
  {
   "cell_type": "markdown",
   "metadata": {},
   "source": [
    "Great answer, boxplots are good way to describe the data."
   ]
  },
  {
   "cell_type": "markdown",
   "metadata": {},
   "source": [
    "#### 4a. What is colinearity? "
   ]
  },
  {
   "cell_type": "markdown",
   "metadata": {
    "collapsed": true
   },
   "source": [
    "Answer: Collinearity is when two or more predictor variables in a multiple regression analysis are highly correlated, to the extent that one can be predicted using the other with a significant degree of accuracy."
   ]
  },
  {
   "cell_type": "markdown",
   "metadata": {},
   "source": [
    "Correct"
   ]
  },
  {
   "cell_type": "markdown",
   "metadata": {},
   "source": [
    "#### 4b. How will you test for colinearity? "
   ]
  },
  {
   "cell_type": "markdown",
   "metadata": {},
   "source": [
    "Answer: An initial first step will be to rule out whether any of the variables included can be derived or calculated from one another.  This does not appear to be the case with regard to GPA, GRE or prestige.\n",
    "\n",
    "A second step will be to establish whether the structure of the data or the way matters are classified can result in multicollinearity.  For example, were we to run logistic regression with prestige as the predictor variable, we might need to dummify the columns (binary 0 for absent and 1 for present) across the four grades of prestige for the alma maters in the dataset.  If running logistic regression, given that the presence of all four grades of prestige in the regression could lead to perfect multicollinearity, we will hold back one grade of prestige in order to avoid the dummy variable trap."
   ]
  },
  {
   "cell_type": "markdown",
   "metadata": {},
   "source": [
    "Correct"
   ]
  },
  {
   "cell_type": "markdown",
   "metadata": {},
   "source": [
    "#### 5. What is your exploratory analysis plan?\n",
    "Using the above information, write an exploratory analysis plan that would allow you or a colleague to reproduce your analysis 1 year from now. "
   ]
  },
  {
   "cell_type": "markdown",
   "metadata": {},
   "source": [
    "Answer: Colleagues should:\n",
    "\n",
    "1. Identify the problem:\n",
    "    - build on the findings of previous analysis in order to learn lessons for the next analysis\n",
    "    - Evaluate the previous hypotheses and criteria for success\n",
    "    - Evaluate the dataset and choices made in its adaptation for analysis the previous year\n",
    "    - Based on the above, identify and hypothesise goals and criteria for success, balancing the benefits of repeated, iterative analysis on a longitudinal basis with opportunities for fresh insights\n",
    "    - Identify the right tools for the analysis (building on the toolset used the previous year - see provided iPython Notebooks)\n",
    "2. Acquire the data:\n",
    "    - the data was acquired in .csv format and imported into pandas.  iPython notebooks have been provided on-file for use and code annotated and commented in markdown and python script in order to aid reproducibility. If data is not available in the same format next year, colleagues should update the data dictionary accordingly and review the previous method statement and issue an updated statement if required\n",
    "    - if colleagues are able to obtain a key or sub-dictionary for the methodology underpinning the prestige criterion, that should be used to supplement the data dictionary next year and also to scrutinise the rigour with which the prestige criterion is applied\n",
    "    - colleagues should note any changes made to the way in which UCLA screens and admits students from the previous year and explicitly state any methdological changes, and any resulting changes in the exploratory analysis plan\n",
    "    - establish initial qualitative and quantitative analysis vis-a-vis the quality of the data \n",
    "3. Parse the Data\n",
    "    - Colleagues should read any documentation associated with the dataset\n",
    "    - They should perform exploratory data analysis, building on the analysis completed and reported the previous year and documented in iPython notebooks in code and markdown\n",
    "    - Colleagues should via graphical and exploratory data analysis:\n",
    "        * construct graphs to measure the distribution of data\n",
    "        * understand and make observations concerning the relationship between key variables\n",
    "        * identify any structural or methodological issues with the data and how these might be rectified, documenting how this can be achieved\n",
    "        * identify measures to accommodate outliers and multicollinearity, building on the processes observed the previous year\n",
    "   - Colleagues should review the above steps and adapt or amend the exploratory data analysis plan for next year's iteration, as appropriate"
   ]
  },
  {
   "cell_type": "markdown",
   "metadata": {},
   "source": [
    "Very good and thorough answer, ahead of the curve!"
   ]
  },
  {
   "cell_type": "markdown",
   "metadata": {},
   "source": [
    "## Bonus Questions:\n",
    "1. Outline your analysis method for predicting your outcome\n",
    "2. Write an alternative problem statement for your dataset\n",
    "3. Articulate the assumptions and risks of the alternative model"
   ]
  },
  {
   "cell_type": "markdown",
   "metadata": {
    "collapsed": true
   },
   "source": [
    "Please see attached code-along of the regression analysis in partial fulfillment of the above."
   ]
  },
  {
   "cell_type": "code",
   "execution_count": null,
   "metadata": {
    "collapsed": true
   },
   "outputs": [],
   "source": []
  }
 ],
 "metadata": {
  "anaconda-cloud": {},
  "kernelspec": {
   "display_name": "Python 2",
   "language": "python",
   "name": "python2"
  },
  "language_info": {
   "codemirror_mode": {
    "name": "ipython",
    "version": 2
   },
   "file_extension": ".py",
   "mimetype": "text/x-python",
   "name": "python",
   "nbconvert_exporter": "python",
   "pygments_lexer": "ipython2",
   "version": "2.7.13"
  }
 },
 "nbformat": 4,
 "nbformat_minor": 1
}
