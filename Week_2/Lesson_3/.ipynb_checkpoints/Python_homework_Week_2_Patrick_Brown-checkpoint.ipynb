{
 "cells": [
  {
   "cell_type": "code",
   "execution_count": 8,
   "metadata": {
    "collapsed": true
   },
   "outputs": [],
   "source": [
    "import itertools\n",
    "import doctest\n",
    "import numpy as np\n",
    "from itertools import chain"
   ]
  },
  {
   "cell_type": "markdown",
   "metadata": {},
   "source": [
    "# sort_rows"
   ]
  },
  {
   "cell_type": "code",
   "execution_count": 9,
   "metadata": {
    "collapsed": true
   },
   "outputs": [],
   "source": [
    "def sort_rows(mat):\n",
    "    '''\n",
    "    INPUT: 2 dimensional list of integers (matrix)\n",
    "    OUTPUT: 2 dimensional list of integers (matrix)\n",
    "\n",
    "    Use list comprehension to modify each row of the matrix to be sorted.\n",
    "\n",
    "    Example:\n",
    "    >>> M = [[4, 5, 2, 8], [3, 9, 6, 7]]\n",
    "    >>> sort_rows(M)\n",
    "    >>> M\n",
    "    [[2, 4, 5, 8], [3, 6, 7, 9]]\n",
    "    '''\n",
    "  \n",
    "    mat_sorted = [sorted(x) for x in mat]\n",
    "    return mat_sorted\n",
    "    \n",
    "    pass"
   ]
  },
  {
   "cell_type": "code",
   "execution_count": 10,
   "metadata": {
    "collapsed": true
   },
   "outputs": [],
   "source": [
    "m = [[4, 5, 2, 8], [3, 9, 6, 7]]"
   ]
  },
  {
   "cell_type": "code",
   "execution_count": 11,
   "metadata": {},
   "outputs": [
    {
     "data": {
      "text/plain": [
       "[[2, 4, 5, 8], [3, 6, 7, 9]]"
      ]
     },
     "execution_count": 11,
     "metadata": {},
     "output_type": "execute_result"
    }
   ],
   "source": [
    "sort_rows(m)"
   ]
  },
  {
   "cell_type": "markdown",
   "metadata": {},
   "source": [
    "# average_rows1"
   ]
  },
  {
   "cell_type": "code",
   "execution_count": 76,
   "metadata": {
    "collapsed": true
   },
   "outputs": [],
   "source": [
    "def average_rows1(mat):\n",
    "    '''\n",
    "    INPUT: 2 dimensional list of integers (matrix)\n",
    "    OUTPUT: list of floats\n",
    "\n",
    "    Use list comprehension to take the average of each row in the matrix and\n",
    "    return it as a list.\n",
    "\n",
    "    Example:\n",
    "    >>> average_rows1([[4, 5, 2, 8], [3, 9, 6, 7]])\n",
    "    [4.75, 6.25]\n",
    "    '''\n",
    "    mat_mean = [np.mean(x) for x in mat]\n",
    "    return mat_mean\n",
    "    pass"
   ]
  },
  {
   "cell_type": "code",
   "execution_count": 77,
   "metadata": {
    "collapsed": true
   },
   "outputs": [],
   "source": [
    "n = [[4, 5, 2, 8], [3, 9, 6, 7]]"
   ]
  },
  {
   "cell_type": "code",
   "execution_count": 78,
   "metadata": {},
   "outputs": [
    {
     "data": {
      "text/plain": [
       "[4.75, 6.25]"
      ]
     },
     "execution_count": 78,
     "metadata": {},
     "output_type": "execute_result"
    }
   ],
   "source": [
    "average_rows1(n)"
   ]
  },
  {
   "cell_type": "markdown",
   "metadata": {},
   "source": [
    "# average_rows2"
   ]
  },
  {
   "cell_type": "code",
   "execution_count": 21,
   "metadata": {
    "collapsed": true
   },
   "outputs": [],
   "source": [
    "def average_rows2(mat):\n",
    "    '''\n",
    "    INPUT: 2 dimensional list of integers (matrix)\n",
    "    OUTPUT: list of floats\n",
    "\n",
    "    Use map to take the average of each row in the matrix and\n",
    "    return it as a list.\n",
    "\n",
    "    Example:\n",
    "    >>> average_rows1([[4, 5, 2, 8], [3, 9, 6, 7]])\n",
    "    [4.75, 6.25]\n",
    "    '''\n",
    "    outcome = map(np.mean,mat)\n",
    "    return outcome \n",
    "    pass"
   ]
  },
  {
   "cell_type": "code",
   "execution_count": 22,
   "metadata": {},
   "outputs": [
    {
     "data": {
      "text/plain": [
       "[4.75, 6.25]"
      ]
     },
     "execution_count": 22,
     "metadata": {},
     "output_type": "execute_result"
    }
   ],
   "source": [
    "average_rows2(n)"
   ]
  },
  {
   "cell_type": "markdown",
   "metadata": {},
   "source": [
    "# word_lengths1"
   ]
  },
  {
   "cell_type": "code",
   "execution_count": 23,
   "metadata": {
    "collapsed": true
   },
   "outputs": [],
   "source": [
    "def word_lengths1(phrase):\n",
    "    '''\n",
    "    INPUT: string\n",
    "    OUTPUT: list of integers\n",
    "\n",
    "    Use list comprehension to find the length of each word in the phrase\n",
    "    (broken by spaces) and return the values in a list.\n",
    "\n",
    "    Example:\n",
    "    >>> word_lengths1(\"Welcome to Zipfian Academy!\")\n",
    "    [7, 2, 7, 8]\n",
    "    '''\n",
    "    phrase = phrase.split()\n",
    "    phrase_lengths = [len(x) for x in phrase]\n",
    "    return phrase_lengths\n",
    "    \n",
    "    pass"
   ]
  },
  {
   "cell_type": "code",
   "execution_count": 24,
   "metadata": {
    "collapsed": true
   },
   "outputs": [],
   "source": [
    "test_string = \"Welcome to Zipfian Academy!\""
   ]
  },
  {
   "cell_type": "code",
   "execution_count": 25,
   "metadata": {},
   "outputs": [
    {
     "data": {
      "text/plain": [
       "[7, 2, 7, 8]"
      ]
     },
     "execution_count": 25,
     "metadata": {},
     "output_type": "execute_result"
    }
   ],
   "source": [
    "word_lengths1(test_string)"
   ]
  },
  {
   "cell_type": "markdown",
   "metadata": {},
   "source": [
    "# word_lengths2"
   ]
  },
  {
   "cell_type": "code",
   "execution_count": 26,
   "metadata": {
    "collapsed": true
   },
   "outputs": [],
   "source": [
    "def word_lengths2(phrase):\n",
    "    '''\n",
    "    INPUT: string\n",
    "    OUTPUT: list of integers\n",
    "\n",
    "    Use map to find the length of each word in the phrase\n",
    "    (broken by spaces) and return the values in a list.\n",
    "\n",
    "    Example:\n",
    "    >>> word_lengths2(\"Welcome to Zipfian Academy!\")\n",
    "    [7, 2, 7, 8]\n",
    "    '''\n",
    "    \n",
    "    phrase_lengths = map(len,phrase.split())\n",
    "    return phrase_lengths\n",
    "    \n",
    "    pass"
   ]
  },
  {
   "cell_type": "code",
   "execution_count": 27,
   "metadata": {
    "collapsed": true
   },
   "outputs": [],
   "source": [
    "test_string2 = \"Welcome to Zipfian Academy!\""
   ]
  },
  {
   "cell_type": "code",
   "execution_count": 28,
   "metadata": {},
   "outputs": [
    {
     "data": {
      "text/plain": [
       "[7, 2, 7, 8]"
      ]
     },
     "execution_count": 28,
     "metadata": {},
     "output_type": "execute_result"
    }
   ],
   "source": [
    "word_lengths2(test_string2)"
   ]
  },
  {
   "cell_type": "markdown",
   "metadata": {},
   "source": [
    "# even_odd1"
   ]
  },
  {
   "cell_type": "code",
   "execution_count": 29,
   "metadata": {
    "collapsed": true
   },
   "outputs": [],
   "source": [
    "def even_odd1(L):\n",
    "    '''\n",
    "    INPUT: list of integers\n",
    "    OUTPUT: list of strings\n",
    "\n",
    "    Use list comprehension to return a list of the same length with the strings\n",
    "    \"even\" or \"odd\" depending on whether the element in L is even or odd.\n",
    "\n",
    "    Example:\n",
    "    >>> even_odd1([6, 4, 1, 3, 8, 5])\n",
    "    ['even', 'even', 'odd', 'odd', 'even', 'odd']\n",
    "    '''\n",
    "    num_classifier = []\n",
    "    even = 'even'\n",
    "    odd = 'odd'\n",
    "    num_classifer = [num_classifier.append(even) if x % 2 == 0 else num_classifier.append(odd) for x in L]\n",
    "    return num_classifier\n",
    "    \n",
    "    pass"
   ]
  },
  {
   "cell_type": "code",
   "execution_count": 30,
   "metadata": {
    "collapsed": true
   },
   "outputs": [],
   "source": [
    "my_list = [6, 4, 1, 3, 8, 5]"
   ]
  },
  {
   "cell_type": "code",
   "execution_count": 31,
   "metadata": {},
   "outputs": [
    {
     "data": {
      "text/plain": [
       "['even', 'even', 'odd', 'odd', 'even', 'odd']"
      ]
     },
     "execution_count": 31,
     "metadata": {},
     "output_type": "execute_result"
    }
   ],
   "source": [
    "even_odd1(my_list)"
   ]
  },
  {
   "cell_type": "markdown",
   "metadata": {},
   "source": [
    "# even_odd2"
   ]
  },
  {
   "cell_type": "code",
   "execution_count": 34,
   "metadata": {
    "collapsed": true
   },
   "outputs": [],
   "source": [
    "def even_odd2(L):\n",
    "    '''\n",
    "    INPUT: list of integers\n",
    "    OUTPUT: list of strings\n",
    "\n",
    "    Use map to return a list of the same length with the strings\n",
    "    \"even\" or \"odd\" depending on whether the element in L is even or odd.\n",
    "\n",
    "    Example:\n",
    "    >>> even_odd2([6, 4, 1, 3, 8, 5])\n",
    "    ['even', 'even', 'odd', 'odd', 'even', 'odd']\n",
    "    '''\n",
    "    result = map(lambda x: 'even' if x % 2 == 0 else 'odd', L)\n",
    "    return result\n",
    "                 \n",
    "    pass"
   ]
  },
  {
   "cell_type": "code",
   "execution_count": 35,
   "metadata": {},
   "outputs": [
    {
     "data": {
      "text/plain": [
       "['even', 'even', 'odd', 'odd', 'even', 'odd']"
      ]
     },
     "execution_count": 35,
     "metadata": {},
     "output_type": "execute_result"
    }
   ],
   "source": [
    "even_odd2(my_list)"
   ]
  },
  {
   "cell_type": "markdown",
   "metadata": {},
   "source": [
    "# shift_on_character"
   ]
  },
  {
   "cell_type": "code",
   "execution_count": 151,
   "metadata": {
    "collapsed": true
   },
   "outputs": [],
   "source": [
    "def shift_on_character(string, char):\n",
    "    '''\n",
    "    INPUT: string, string\n",
    "    OUTPUT: string\n",
    "\n",
    "    Find the first occurence of the character char and return the string witth\n",
    "    everything before char moved to the end of the string. If char doesn't\n",
    "    appear, return the same string.\n",
    "\n",
    "    This function may use more than one line.\n",
    "\n",
    "    Example:\n",
    "    >>> shift_on_character(\"zipfian\", \"f\")\n",
    "    'fianzip'\n",
    "    '''\n",
    "    strip_string = string.split(char,1)[0]\n",
    "    string_reassemble = %s + strip_string (char)\n",
    "    return strip_reassemble\n",
    "    \n",
    "    #dear god I can't work this out.  Can I grab 2 mins with you next lesson to walk me through?\n",
    "    \n",
    "    pass"
   ]
  },
  {
   "cell_type": "code",
   "execution_count": 1,
   "metadata": {},
   "outputs": [
    {
     "ename": "NameError",
     "evalue": "name 'shift_on_character' is not defined",
     "output_type": "error",
     "traceback": [
      "\u001b[0;31m---------------------------------------------------------------------------\u001b[0m",
      "\u001b[0;31mNameError\u001b[0m                                 Traceback (most recent call last)",
      "\u001b[0;32m<ipython-input-1-f0aef154e537>\u001b[0m in \u001b[0;36m<module>\u001b[0;34m()\u001b[0m\n\u001b[0;32m----> 1\u001b[0;31m \u001b[0mshift_on_character\u001b[0m\u001b[0;34m(\u001b[0m\u001b[0;34m\"zipfian\"\u001b[0m\u001b[0;34m,\u001b[0m \u001b[0;34m\"f\"\u001b[0m\u001b[0;34m)\u001b[0m\u001b[0;34m\u001b[0m\u001b[0m\n\u001b[0m",
      "\u001b[0;31mNameError\u001b[0m: name 'shift_on_character' is not defined"
     ]
    }
   ],
   "source": [
    "shift_on_character(\"zipfian\", \"f\")"
   ]
  },
  {
   "cell_type": "markdown",
   "metadata": {},
   "source": [
    "# is_Palindrome"
   ]
  },
  {
   "cell_type": "code",
   "execution_count": 102,
   "metadata": {
    "collapsed": true
   },
   "outputs": [],
   "source": [
    "def is_palindrome(string):\n",
    "    '''\n",
    "    INPUT: string\n",
    "    OUTPUT: boolean\n",
    "\n",
    "    Return whether the given string is the same forwards and backwards.\n",
    "\n",
    "    Example:\n",
    "    >>> is_palindrome(\"rats live on no evil star\")\n",
    "    True\n",
    "\n",
    "    >>> is_palindrome(\"the moon waxes poetic in sunlight\")\n",
    "    False\n",
    "    '''\n",
    "    if str(string) == str(string)[::-1]:\n",
    "        palindrome = True\n",
    "    else:\n",
    "        palindrome = False\n",
    "    return(palindrome)\n",
    "    pass"
   ]
  },
  {
   "cell_type": "code",
   "execution_count": 103,
   "metadata": {
    "collapsed": true
   },
   "outputs": [],
   "source": [
    "test = \"rats live on no evil star\"\n",
    "test2 = \"the moon waxes poetic in sunlight\""
   ]
  },
  {
   "cell_type": "code",
   "execution_count": 104,
   "metadata": {},
   "outputs": [
    {
     "data": {
      "text/plain": [
       "False"
      ]
     },
     "execution_count": 104,
     "metadata": {},
     "output_type": "execute_result"
    }
   ],
   "source": [
    "is_palindrome(test2)"
   ]
  },
  {
   "cell_type": "code",
   "execution_count": null,
   "metadata": {
    "collapsed": true
   },
   "outputs": [],
   "source": []
  }
 ],
 "metadata": {
  "kernelspec": {
   "display_name": "Python 2",
   "language": "python",
   "name": "python2"
  },
  "language_info": {
   "codemirror_mode": {
    "name": "ipython",
    "version": 2
   },
   "file_extension": ".py",
   "mimetype": "text/x-python",
   "name": "python",
   "nbconvert_exporter": "python",
   "pygments_lexer": "ipython2",
   "version": "2.7.13"
  }
 },
 "nbformat": 4,
 "nbformat_minor": 2
}
