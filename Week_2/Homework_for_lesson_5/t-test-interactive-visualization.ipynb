{
 "cells": [
  {
   "cell_type": "code",
   "execution_count": 1,
   "metadata": {
    "collapsed": true
   },
   "outputs": [],
   "source": [
    "import numpy as np\n",
    "import scipy.stats as stats\n",
    "import seaborn as sns\n",
    "import matplotlib.pyplot as plt\n",
    "import pandas as pd\n",
    "\n",
    "sns.set_style('darkgrid')\n",
    "\n",
    "from ipywidgets import *\n",
    "from IPython.display import display\n",
    "\n",
    "%config InlineBackend.figure_format = 'retina'\n",
    "%matplotlib inline\n"
   ]
  },
  {
   "cell_type": "code",
   "execution_count": 2,
   "metadata": {
    "collapsed": true
   },
   "outputs": [],
   "source": [
    "def generate_gaussian_sample(n, mean, std):\n",
    "    return np.random.normal(mean, std, size=n)\n",
    "\n",
    "def generate_multiple_sample_means(n, m, s, random_samples):\n",
    "    return np.array([np.mean(generate_gaussian_sample(n, m, s)) for i in range(random_samples)])\n",
    "    \n",
    "def generate_t_sample(n, m, s, df):\n",
    "    return stats.t.rvs(df, loc=m, scale=s, size=n)"
   ]
  },
  {
   "cell_type": "code",
   "execution_count": 3,
   "metadata": {
    "collapsed": true
   },
   "outputs": [],
   "source": [
    "def tstat_visualization(n, mean1, mean2, std1, std2):\n",
    "        \n",
    "    sample1_means = generate_multiple_sample_means(n, mean1, std1, 5000)\n",
    "    sample2_means = generate_multiple_sample_means(n, mean2, std2, 5000)\n",
    "    \n",
    "    mean_diffs = sample1_means - sample2_means\n",
    "    mean_difference = np.mean(sample1_means) - np.mean(sample2_means)\n",
    "    \n",
    "    std_err_mean = np.sqrt((std1**2/n) + (std2**2/n))\n",
    "\n",
    "    df = n-1\n",
    "    \n",
    "    #diff_std = np.sqrt((std1**2/n1) + (std2**2/n2))\n",
    "    null_distribution = generate_t_sample(5000, 0, std_err_mean, df)\n",
    "    \n",
    "    t_stat = mean_difference / std_err_mean\n",
    "    p_val = stats.t.sf(np.abs(t_stat), df)*2\n",
    "    \n",
    "    print 't-statistic:', t_stat\n",
    "    print 'p-value:', p_val\n",
    "        \n",
    "    fig, axarr = plt.subplots(2, 2, figsize=(15, 13), sharex=False, sharey=False)\n",
    "    \n",
    "    xmin = np.min([mean1-(std1*4), mean2-(std2*4)])\n",
    "    xmax = np.max([mean1+(std1*4), mean2+(std2*4)])\n",
    "    xpoints = np.linspace(xmin, xmax, 500)\n",
    "    \n",
    "    # use stats.t.pdf to get values on the probability density function for the t-distribution\n",
    "    ypoints_s1 = stats.norm.pdf(xpoints, mean1, std1)\n",
    "    ypoints_s2 = stats.norm.pdf(xpoints, mean2, std2)\n",
    "    \n",
    "    axarr[0,0].set_title('True distributions of samples\\n', fontsize=16)\n",
    "    axarr[0,0].plot(xpoints, ypoints_s1, linewidth=3, color='darkred', label='sample 1 true dist')\n",
    "    axarr[0,0].plot(xpoints, ypoints_s2, linewidth=3, color='steelblue', label='sample 2 true dist')\n",
    "    \n",
    "    samp1 = generate_gaussian_sample(n, mean1, std1)\n",
    "    samp2 = generate_gaussian_sample(n, mean2, std2)\n",
    "    \n",
    "    axarr[0,1].set_title('Drawn samples\\n', fontsize=16)\n",
    "    axarr[0,1].hist(samp1, np.minimum(20, n), \n",
    "                    normed=False, facecolor='darkred', alpha=0.3, label='sample 1')\n",
    "    axarr[0,1].hist(samp2, np.minimum(20, n), \n",
    "                    normed=False, facecolor='steelblue', alpha=0.3, label='sample 2')\n",
    "    \n",
    "    axarr[1,0].set_title('H0 & H1 t-distributions (5000 n-size samples mean diffs.)\\n', fontsize=16)\n",
    "    axarr[1,0].hist(null_distribution, 60, normed=True, facecolor='grey', \n",
    "                    alpha=0.3)\n",
    "    axarr[1,0].hist(mean_diffs, 60, normed=True, facecolor='gold', \n",
    "                    alpha=0.3)\n",
    "    \n",
    "    xmin, xmax = axarr[1,0].get_xlim()\n",
    "    xpoints = np.linspace(xmin, xmax, 500)\n",
    "    \n",
    "    # use stats.t.pdf to get values on the probability density function for the t-distribution\n",
    "    ypoints_null = stats.norm.pdf(xpoints, 0, std_err_mean)\n",
    "    ypoints_exp = stats.norm.pdf(xpoints, np.mean(mean_diffs), np.std(mean_diffs))\n",
    "    \n",
    "    axarr[1,0].plot(xpoints, ypoints_null, linewidth=3, color='grey', \n",
    "                    label='H0 t-distribution')\n",
    "    axarr[1,0].plot(xpoints, ypoints_exp, linewidth=3, color='gold', \n",
    "                    label='H1 t-distribution')\n",
    "    \n",
    "    # generate points on the x axis between -4 and 4:\n",
    "    xpoints = np.linspace(np.minimum(-4, t_stat), np.maximum(4, t_stat), 500)\n",
    "\n",
    "    # use stats.t.pdf to get values on the probability density function for the t-distribution\n",
    "    ypoints = stats.t.pdf(xpoints, df, 0, 1)\n",
    "    \n",
    "    # plot the lines using matplotlib's plot function:\n",
    "    axarr[1,1].set_title('Null (H0) t-distribution and alternative t-statistic\\n', fontsize=16)\n",
    "    axarr[1,1].plot(xpoints, ypoints, linewidth=3, color='grey', label='H0 t-distribution')\n",
    "    \n",
    "    # plot a vertical line for our measured difference in rates t-statistic\n",
    "    axarr[1,1].axvline(t_stat, color='gold', lw=5, label='H1 t-statistic')\n",
    "    \n",
    "    axarr[0,0].legend(loc='upper right')\n",
    "    axarr[0,1].legend(loc='upper right')\n",
    "    axarr[1,0].legend(loc='upper right')\n",
    "    axarr[1,1].legend(loc='upper right')\n",
    "    \n",
    "    plt.show()\n",
    "    "
   ]
  },
  {
   "cell_type": "code",
   "execution_count": 4,
   "metadata": {
    "collapsed": true
   },
   "outputs": [],
   "source": [
    "\n",
    "def plot_delegator(samples_n,\n",
    "                   sample1_mean, sample2_mean, \n",
    "                   sample1_std, sample2_std):\n",
    "    \n",
    "    tstat_visualization(samples_n,\n",
    "                        sample1_mean, sample2_mean, \n",
    "                        sample1_std, sample2_std)\n",
    "    "
   ]
  },
  {
   "cell_type": "code",
   "execution_count": 5,
   "metadata": {},
   "outputs": [
    {
     "data": {
      "application/vnd.jupyter.widget-view+json": {
       "model_id": "9b0c8d97eaa347b19a1b8f6c3a3eced9"
      }
     },
     "metadata": {},
     "output_type": "display_data"
    },
    {
     "data": {
      "text/plain": [
       "<function __main__.plot_delegator>"
      ]
     },
     "execution_count": 5,
     "metadata": {},
     "output_type": "execute_result"
    }
   ],
   "source": [
    "interact(plot_delegator, \n",
    "         samples_n=widgets.IntSlider(min=3, max=100, step=1, value=10, continuous_update=False),\n",
    "         sample1_mean=widgets.FloatSlider(min=-10, max=10, step=0.25, value=1, continuous_update=False),\n",
    "         sample2_mean=widgets.FloatSlider(min=-10, max=10, step=0.25, value=0, continuous_update=False),\n",
    "         sample1_std=widgets.FloatSlider(min=0.25, max=5.0, step=0.25, value=1.5, continuous_update=False),\n",
    "         sample2_std=widgets.FloatSlider(min=0.25, max=5.0, step=0.25, value=1.5, continuous_update=False))\n",
    "       "
   ]
  },
  {
   "cell_type": "code",
   "execution_count": null,
   "metadata": {
    "collapsed": true
   },
   "outputs": [],
   "source": []
  },
  {
   "cell_type": "code",
   "execution_count": null,
   "metadata": {
    "collapsed": true
   },
   "outputs": [],
   "source": []
  }
 ],
 "metadata": {
  "kernelspec": {
   "display_name": "Python 2",
   "language": "python",
   "name": "python2"
  },
  "language_info": {
   "codemirror_mode": {
    "name": "ipython",
    "version": 2
   },
   "file_extension": ".py",
   "mimetype": "text/x-python",
   "name": "python",
   "nbconvert_exporter": "python",
   "pygments_lexer": "ipython2",
   "version": "2.7.13"
  }
 },
 "nbformat": 4,
 "nbformat_minor": 1
}
