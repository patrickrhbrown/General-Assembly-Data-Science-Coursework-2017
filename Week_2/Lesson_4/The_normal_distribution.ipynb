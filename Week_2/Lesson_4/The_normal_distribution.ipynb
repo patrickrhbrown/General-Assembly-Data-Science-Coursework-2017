{
 "cells": [
  {
   "cell_type": "code",
   "execution_count": 1,
   "metadata": {
    "collapsed": true
   },
   "outputs": [],
   "source": [
    "import pandas as pd\n",
    "import numpy as np\n",
    "import matplotlib.pyplot as plt\n",
    "import scipy.stats as scs\n"
   ]
  },
  {
   "cell_type": "code",
   "execution_count": 2,
   "metadata": {
    "collapsed": true
   },
   "outputs": [],
   "source": [
    "def make_draws(dist, params, size=200):\n",
    "  \"\"\"\n",
    "  Draw samples of random variables from a specified distribution, with given \n",
    "  parameters return these in an array.\n",
    "\n",
    "  INPUT:\n",
    "  dist: (Scipy.stats distribution object) Distribution with a .rvs method\n",
    "  params: (dict) Parameters to define the distribution dist.\n",
    "                e.g. if dist = scipy.stats.binom then params could be:\n",
    "                {'n': 100, 'p': 0.25}\n",
    "  size: (int) Number of examples to draw\n",
    "\n",
    "  OUTPUT:\n",
    "  (Numpy array) Sample of random variables \n",
    "  \"\"\"\n",
    "  return dist(**params).rvs(size) "
   ]
  },
  {
   "cell_type": "code",
   "execution_count": 3,
   "metadata": {
    "collapsed": true
   },
   "outputs": [],
   "source": [
    "def plot_means(dist, params, size=200, repeat=1):\n",
    "    x = []\n",
    "    for i in range(repeat):\n",
    "        x.append(np.mean(dist(**params).rvs(size)))\n",
    "    plt.hist(x)\n",
    "    plt.show()"
   ]
  },
  {
   "cell_type": "code",
   "execution_count": 7,
   "metadata": {
    "collapsed": false
   },
   "outputs": [
    {
     "data": {
      "text/plain": [
       "array([26, 29, 23, 25, 23, 25, 18, 30, 28, 30, 27, 22, 19, 25, 22, 25, 28,\n",
       "       22, 17, 32, 25, 30, 27, 28, 18, 25, 33, 27, 22, 29, 26, 29, 23, 20,\n",
       "       32, 17, 33, 24, 19, 36, 27, 25, 23, 15, 29, 26, 23, 24, 28, 19, 26,\n",
       "       24, 27, 24, 30, 19, 26, 21, 19, 27, 24, 20, 30, 24, 29, 27, 18, 23,\n",
       "       35, 29, 25, 22, 30, 29, 22, 25, 23, 24, 24, 23, 32, 35, 26, 25, 22,\n",
       "       29, 26, 27, 20, 26, 29, 19, 19, 28, 19, 26, 24, 32, 25, 26, 24, 27,\n",
       "       22, 26, 23, 27, 32, 26, 24, 25, 25, 35, 28, 18, 28, 24, 28, 22, 28,\n",
       "       28, 23, 24, 26, 16, 17, 25, 27, 30, 23, 25, 26, 23, 32, 19, 23, 27,\n",
       "       20, 19, 29, 25, 22, 29, 22, 24, 23, 34, 22, 26, 29, 26, 33, 20, 26,\n",
       "       30, 31, 21, 23, 23, 25, 24, 26, 25, 23, 28, 23, 26, 28, 29, 26, 17,\n",
       "       14, 24, 25, 28, 23, 26, 22, 28, 26, 29, 19, 22, 23, 22, 22, 25, 26,\n",
       "       30, 25, 24, 29, 30, 20, 18, 20, 30, 24, 16, 32, 30])"
      ]
     },
     "execution_count": 7,
     "metadata": {},
     "output_type": "execute_result"
    }
   ],
   "source": [
    "r_ = 1000\n",
    "s_ = 200\n",
    "make_draws(scs.binom, {'n': 100, 'p':.25}, size=s_)"
   ]
  },
  {
   "cell_type": "code",
   "execution_count": 8,
   "metadata": {
    "collapsed": false
   },
   "outputs": [
    {
     "data": {
      "image/png": "[encoded data removed]",
      "text/plain": [
       "<matplotlib.figure.Figure at 0x1160dbed0>"
      ]
     },
     "metadata": {},
     "output_type": "display_data"
    }
   ],
   "source": [
    "plot_means(scs.binom, {'n': 100, 'p':.25}, size=s_, repeat=r_)"
   ]
  },
  {
   "cell_type": "code",
   "execution_count": 4,
   "metadata": {
    "collapsed": false
   },
   "outputs": [
    {
     "data": {
      "image/png": "[encoded data removed]",
      "text/plain": [
       "<matplotlib.figure.Figure at 0x112cb9450>"
      ]
     },
     "metadata": {},
     "output_type": "display_data"
    },
    {
     "data": {
      "image/png": "[encoded data removed]",
      "text/plain": [
       "<matplotlib.figure.Figure at 0x112cc4310>"
      ]
     },
     "metadata": {},
     "output_type": "display_data"
    },
    {
     "data": {
      "image/png": "[encoded data removed]",
      "text/plain": [
       "<matplotlib.figure.Figure at 0x10c71cb10>"
      ]
     },
     "metadata": {},
     "output_type": "display_data"
    },
    {
     "data": {
      "image/png": "[encoded data removed]",
      "text/plain": [
       "<matplotlib.figure.Figure at 0x116151290>"
      ]
     },
     "metadata": {},
     "output_type": "display_data"
    },
    {
     "data": {
      "image/png": "[encoded data removed]",
      "text/plain": [
       "<matplotlib.figure.Figure at 0x116151a50>"
      ]
     },
     "metadata": {},
     "output_type": "display_data"
    }
   ],
   "source": [
    "r_ = 1000\n",
    "s_ = 200\n",
    "plot_means(scs.binom, {'n': 100, 'p':.25}, size=s_, repeat=r_)\n",
    "plot_means(scs.poisson, {'mu': 4}, size=s_, repeat=r_)\n",
    "plot_means(scs.expon, {'scale': 1}, size=s_, repeat=r_)\n",
    "plot_means(scs.geom, {'p': .25}, size=s_, repeat=r_)\n",
    "plot_means(scs.uniform, {'loc': 10, 'scale':10}, size=s_, repeat=r_)"
   ]
  },
  {
   "cell_type": "code",
   "execution_count": null,
   "metadata": {
    "collapsed": true
   },
   "outputs": [],
   "source": []
  },
  {
   "cell_type": "code",
   "execution_count": null,
   "metadata": {
    "collapsed": true
   },
   "outputs": [],
   "source": []
  },
  {
   "cell_type": "code",
   "execution_count": null,
   "metadata": {
    "collapsed": true
   },
   "outputs": [],
   "source": []
  }
 ],
 "metadata": {
  "kernelspec": {
   "display_name": "Python 2",
   "language": "python",
   "name": "python2"
  },
  "language_info": {
   "codemirror_mode": {
    "name": "ipython",
    "version": 2
   },
   "file_extension": ".py",
   "mimetype": "text/x-python",
   "name": "python",
   "nbconvert_exporter": "python",
   "pygments_lexer": "ipython2",
   "version": "2.7.13"
  }
 },
 "nbformat": 4,
 "nbformat_minor": 2
}
