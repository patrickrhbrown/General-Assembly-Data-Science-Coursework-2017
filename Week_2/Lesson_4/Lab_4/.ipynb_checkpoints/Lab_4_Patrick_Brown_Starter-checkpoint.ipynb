{
 "cells": [
  {
   "cell_type": "markdown",
   "metadata": {},
   "source": [
    "Import necessary modules."
   ]
  },
  {
   "cell_type": "code",
   "execution_count": 2,
   "metadata": {
    "collapsed": true
   },
   "outputs": [],
   "source": [
    "import pandas as pd\n",
    "import numpy as np\n",
    "import scipy as scs\n",
    "import matplotlib.pyplot as plt\n",
    "import scipy.stats as scs\n",
    "from itertools import combinations\n",
    "%matplotlib inline"
   ]
  },
  {
   "cell_type": "code",
   "execution_count": 4,
   "metadata": {},
   "outputs": [
    {
     "name": "stdout",
     "output_type": "stream",
     "text": [
      "/Users/patrickrhbrown/Documents/GeneralAssembly/General-Assembly-Data-Science-Coursework-2017/Week_2/Lesson_4/Lab_4\r\n"
     ]
    }
   ],
   "source": [
    "!pwd"
   ]
  },
  {
   "cell_type": "markdown",
   "metadata": {},
   "source": [
    "Calculate the adjustment needed for multiple testing at 0.05 significance level."
   ]
  },
  {
   "cell_type": "code",
   "execution_count": 5,
   "metadata": {},
   "outputs": [
    {
     "data": {
      "text/plain": [
       "0.002173913043478261"
      ]
     },
     "execution_count": 5,
     "metadata": {},
     "output_type": "execute_result"
    }
   ],
   "source": [
    "alpha = 0.05 / 23\n",
    "alpha"
   ]
  },
  {
   "cell_type": "markdown",
   "metadata": {},
   "source": [
    "Load `data/nyt1.csv` in a pandas dataframe.\n",
    "\n",
    "Use `data.info()` to make sure the data types are valid and there are no null values. This data has been cleaned for you, but generally it is good practice to check for those."
   ]
  },
  {
   "cell_type": "code",
   "execution_count": 6,
   "metadata": {},
   "outputs": [
    {
     "name": "stdout",
     "output_type": "stream",
     "text": [
      "<class 'pandas.core.frame.DataFrame'>\n",
      "RangeIndex: 458441 entries, 0 to 458440\n",
      "Data columns (total 5 columns):\n",
      "Age            458441 non-null int64\n",
      "Gender         458441 non-null int64\n",
      "Impressions    458441 non-null int64\n",
      "Clicks         458441 non-null int64\n",
      "Signed_In      458441 non-null int64\n",
      "dtypes: int64(5)\n",
      "memory usage: 17.5 MB\n"
     ]
    }
   ],
   "source": [
    "df = pd.read_csv('data/nyt1.csv')\n",
    "df.info()"
   ]
  },
  {
   "cell_type": "markdown",
   "metadata": {},
   "source": [
    "Make a new column `CTR` using the `Impressions` and the `Clicks` columns. Remember to remove the rows with `0` impressions."
   ]
  },
  {
   "cell_type": "code",
   "execution_count": 7,
   "metadata": {
    "collapsed": true
   },
   "outputs": [],
   "source": [
    "df = df[df['Impressions'] != 0]"
   ]
  },
  {
   "cell_type": "code",
   "execution_count": 8,
   "metadata": {
    "collapsed": true
   },
   "outputs": [],
   "source": [
    "df['CTR'] = df['Clicks'] / df['Impressions'].astype(float)"
   ]
  },
  {
   "cell_type": "code",
   "execution_count": 9,
   "metadata": {},
   "outputs": [
    {
     "data": {
      "text/html": [
       "<div>\n",
       "<style>\n",
       "    .dataframe thead tr:only-child th {\n",
       "        text-align: right;\n",
       "    }\n",
       "\n",
       "    .dataframe thead th {\n",
       "        text-align: left;\n",
       "    }\n",
       "\n",
       "    .dataframe tbody tr th {\n",
       "        vertical-align: top;\n",
       "    }\n",
       "</style>\n",
       "<table border=\"1\" class=\"dataframe\">\n",
       "  <thead>\n",
       "    <tr style=\"text-align: right;\">\n",
       "      <th></th>\n",
       "      <th>Age</th>\n",
       "      <th>Gender</th>\n",
       "      <th>Impressions</th>\n",
       "      <th>Clicks</th>\n",
       "      <th>Signed_In</th>\n",
       "      <th>CTR</th>\n",
       "    </tr>\n",
       "  </thead>\n",
       "  <tbody>\n",
       "    <tr>\n",
       "      <th>count</th>\n",
       "      <td>455375.000000</td>\n",
       "      <td>455375.000000</td>\n",
       "      <td>455375.000000</td>\n",
       "      <td>455375.000000</td>\n",
       "      <td>455375.000000</td>\n",
       "      <td>455375.000000</td>\n",
       "    </tr>\n",
       "    <tr>\n",
       "      <th>mean</th>\n",
       "      <td>29.484010</td>\n",
       "      <td>0.367051</td>\n",
       "      <td>5.041030</td>\n",
       "      <td>0.093218</td>\n",
       "      <td>0.700956</td>\n",
       "      <td>0.018471</td>\n",
       "    </tr>\n",
       "    <tr>\n",
       "      <th>std</th>\n",
       "      <td>23.606697</td>\n",
       "      <td>0.482001</td>\n",
       "      <td>2.208731</td>\n",
       "      <td>0.310922</td>\n",
       "      <td>0.457839</td>\n",
       "      <td>0.069034</td>\n",
       "    </tr>\n",
       "    <tr>\n",
       "      <th>min</th>\n",
       "      <td>0.000000</td>\n",
       "      <td>0.000000</td>\n",
       "      <td>1.000000</td>\n",
       "      <td>0.000000</td>\n",
       "      <td>0.000000</td>\n",
       "      <td>0.000000</td>\n",
       "    </tr>\n",
       "    <tr>\n",
       "      <th>25%</th>\n",
       "      <td>0.000000</td>\n",
       "      <td>0.000000</td>\n",
       "      <td>3.000000</td>\n",
       "      <td>0.000000</td>\n",
       "      <td>0.000000</td>\n",
       "      <td>0.000000</td>\n",
       "    </tr>\n",
       "    <tr>\n",
       "      <th>50%</th>\n",
       "      <td>31.000000</td>\n",
       "      <td>0.000000</td>\n",
       "      <td>5.000000</td>\n",
       "      <td>0.000000</td>\n",
       "      <td>1.000000</td>\n",
       "      <td>0.000000</td>\n",
       "    </tr>\n",
       "    <tr>\n",
       "      <th>75%</th>\n",
       "      <td>48.000000</td>\n",
       "      <td>1.000000</td>\n",
       "      <td>6.000000</td>\n",
       "      <td>0.000000</td>\n",
       "      <td>1.000000</td>\n",
       "      <td>0.000000</td>\n",
       "    </tr>\n",
       "    <tr>\n",
       "      <th>max</th>\n",
       "      <td>108.000000</td>\n",
       "      <td>1.000000</td>\n",
       "      <td>20.000000</td>\n",
       "      <td>4.000000</td>\n",
       "      <td>1.000000</td>\n",
       "      <td>1.000000</td>\n",
       "    </tr>\n",
       "  </tbody>\n",
       "</table>\n",
       "</div>"
      ],
      "text/plain": [
       "                 Age         Gender    Impressions         Clicks  \\\n",
       "count  455375.000000  455375.000000  455375.000000  455375.000000   \n",
       "mean       29.484010       0.367051       5.041030       0.093218   \n",
       "std        23.606697       0.482001       2.208731       0.310922   \n",
       "min         0.000000       0.000000       1.000000       0.000000   \n",
       "25%         0.000000       0.000000       3.000000       0.000000   \n",
       "50%        31.000000       0.000000       5.000000       0.000000   \n",
       "75%        48.000000       1.000000       6.000000       0.000000   \n",
       "max       108.000000       1.000000      20.000000       4.000000   \n",
       "\n",
       "           Signed_In            CTR  \n",
       "count  455375.000000  455375.000000  \n",
       "mean        0.700956       0.018471  \n",
       "std         0.457839       0.069034  \n",
       "min         0.000000       0.000000  \n",
       "25%         0.000000       0.000000  \n",
       "50%         1.000000       0.000000  \n",
       "75%         1.000000       0.000000  \n",
       "max         1.000000       1.000000  "
      ]
     },
     "execution_count": 9,
     "metadata": {},
     "output_type": "execute_result"
    }
   ],
   "source": [
    "df.describe()"
   ]
  },
  {
   "cell_type": "markdown",
   "metadata": {},
   "source": [
    "Plot the distributions in the dataframe on histograms."
   ]
  },
  {
   "cell_type": "code",
   "execution_count": 10,
   "metadata": {},
   "outputs": [
    {
     "data": {
      "image/png": "[encoded data removed]",
      "text/plain": [
       "<matplotlib.figure.Figure at 0x10cd2ddd0>"
      ]
     },
     "metadata": {},
     "output_type": "display_data"
    }
   ],
   "source": [
    "df.hist(figsize=(12,5), normed=True, color='blue', alpha=0.7)\n",
    "plt.suptitle('Overall',size=22,weight='bold',y=1.05)\n",
    "plt.show()"
   ]
  },
  {
   "cell_type": "code",
   "execution_count": 11,
   "metadata": {},
   "outputs": [
    {
     "data": {
      "text/html": [
       "<div>\n",
       "<style>\n",
       "    .dataframe thead tr:only-child th {\n",
       "        text-align: right;\n",
       "    }\n",
       "\n",
       "    .dataframe thead th {\n",
       "        text-align: left;\n",
       "    }\n",
       "\n",
       "    .dataframe tbody tr th {\n",
       "        vertical-align: top;\n",
       "    }\n",
       "</style>\n",
       "<table border=\"1\" class=\"dataframe\">\n",
       "  <thead>\n",
       "    <tr style=\"text-align: right;\">\n",
       "      <th></th>\n",
       "      <th>Age</th>\n",
       "      <th>Gender</th>\n",
       "      <th>Impressions</th>\n",
       "      <th>Clicks</th>\n",
       "      <th>Signed_In</th>\n",
       "      <th>CTR</th>\n",
       "    </tr>\n",
       "  </thead>\n",
       "  <tbody>\n",
       "    <tr>\n",
       "      <th>0</th>\n",
       "      <td>36</td>\n",
       "      <td>0</td>\n",
       "      <td>3</td>\n",
       "      <td>0</td>\n",
       "      <td>1</td>\n",
       "      <td>0.0</td>\n",
       "    </tr>\n",
       "    <tr>\n",
       "      <th>1</th>\n",
       "      <td>73</td>\n",
       "      <td>1</td>\n",
       "      <td>3</td>\n",
       "      <td>0</td>\n",
       "      <td>1</td>\n",
       "      <td>0.0</td>\n",
       "    </tr>\n",
       "    <tr>\n",
       "      <th>2</th>\n",
       "      <td>30</td>\n",
       "      <td>0</td>\n",
       "      <td>3</td>\n",
       "      <td>0</td>\n",
       "      <td>1</td>\n",
       "      <td>0.0</td>\n",
       "    </tr>\n",
       "    <tr>\n",
       "      <th>3</th>\n",
       "      <td>49</td>\n",
       "      <td>1</td>\n",
       "      <td>3</td>\n",
       "      <td>0</td>\n",
       "      <td>1</td>\n",
       "      <td>0.0</td>\n",
       "    </tr>\n",
       "    <tr>\n",
       "      <th>4</th>\n",
       "      <td>47</td>\n",
       "      <td>1</td>\n",
       "      <td>11</td>\n",
       "      <td>0</td>\n",
       "      <td>1</td>\n",
       "      <td>0.0</td>\n",
       "    </tr>\n",
       "  </tbody>\n",
       "</table>\n",
       "</div>"
      ],
      "text/plain": [
       "   Age  Gender  Impressions  Clicks  Signed_In  CTR\n",
       "0   36       0            3       0          1  0.0\n",
       "1   73       1            3       0          1  0.0\n",
       "2   30       0            3       0          1  0.0\n",
       "3   49       1            3       0          1  0.0\n",
       "4   47       1           11       0          1  0.0"
      ]
     },
     "execution_count": 11,
     "metadata": {},
     "output_type": "execute_result"
    }
   ],
   "source": [
    "df.head()"
   ]
  },
  {
   "cell_type": "code",
   "execution_count": 12,
   "metadata": {},
   "outputs": [
    {
     "data": {
      "text/html": [
       "<div>\n",
       "<style>\n",
       "    .dataframe thead tr:only-child th {\n",
       "        text-align: right;\n",
       "    }\n",
       "\n",
       "    .dataframe thead th {\n",
       "        text-align: left;\n",
       "    }\n",
       "\n",
       "    .dataframe tbody tr th {\n",
       "        vertical-align: top;\n",
       "    }\n",
       "</style>\n",
       "<table border=\"1\" class=\"dataframe\">\n",
       "  <thead>\n",
       "    <tr style=\"text-align: right;\">\n",
       "      <th></th>\n",
       "      <th>Age</th>\n",
       "      <th>Gender</th>\n",
       "      <th>Impressions</th>\n",
       "      <th>Clicks</th>\n",
       "      <th>Signed_In</th>\n",
       "      <th>CTR</th>\n",
       "    </tr>\n",
       "  </thead>\n",
       "  <tbody>\n",
       "    <tr>\n",
       "      <th>458436</th>\n",
       "      <td>0</td>\n",
       "      <td>0</td>\n",
       "      <td>2</td>\n",
       "      <td>0</td>\n",
       "      <td>0</td>\n",
       "      <td>0.0</td>\n",
       "    </tr>\n",
       "    <tr>\n",
       "      <th>458437</th>\n",
       "      <td>0</td>\n",
       "      <td>0</td>\n",
       "      <td>4</td>\n",
       "      <td>0</td>\n",
       "      <td>0</td>\n",
       "      <td>0.0</td>\n",
       "    </tr>\n",
       "    <tr>\n",
       "      <th>458438</th>\n",
       "      <td>72</td>\n",
       "      <td>1</td>\n",
       "      <td>5</td>\n",
       "      <td>0</td>\n",
       "      <td>1</td>\n",
       "      <td>0.0</td>\n",
       "    </tr>\n",
       "    <tr>\n",
       "      <th>458439</th>\n",
       "      <td>0</td>\n",
       "      <td>0</td>\n",
       "      <td>5</td>\n",
       "      <td>0</td>\n",
       "      <td>0</td>\n",
       "      <td>0.0</td>\n",
       "    </tr>\n",
       "    <tr>\n",
       "      <th>458440</th>\n",
       "      <td>0</td>\n",
       "      <td>0</td>\n",
       "      <td>3</td>\n",
       "      <td>0</td>\n",
       "      <td>0</td>\n",
       "      <td>0.0</td>\n",
       "    </tr>\n",
       "  </tbody>\n",
       "</table>\n",
       "</div>"
      ],
      "text/plain": [
       "        Age  Gender  Impressions  Clicks  Signed_In  CTR\n",
       "458436    0       0            2       0          0  0.0\n",
       "458437    0       0            4       0          0  0.0\n",
       "458438   72       1            5       0          1  0.0\n",
       "458439    0       0            5       0          0  0.0\n",
       "458440    0       0            3       0          0  0.0"
      ]
     },
     "execution_count": 12,
     "metadata": {},
     "output_type": "execute_result"
    }
   ],
   "source": [
    "df.tail()"
   ]
  },
  {
   "cell_type": "markdown",
   "metadata": {},
   "source": [
    "Create two dataframes - one with customers that are signed-in and one with customers that are signed out."
   ]
  },
  {
   "cell_type": "code",
   "execution_count": 13,
   "metadata": {
    "collapsed": true
   },
   "outputs": [],
   "source": [
    "df_signed_in = df[df['Signed_In'] == True]"
   ]
  },
  {
   "cell_type": "code",
   "execution_count": 14,
   "metadata": {
    "collapsed": true
   },
   "outputs": [],
   "source": [
    "df_signed_out = df[df['Signed_In'] == False]"
   ]
  },
  {
   "cell_type": "code",
   "execution_count": 15,
   "metadata": {},
   "outputs": [
    {
     "data": {
      "text/html": [
       "<div>\n",
       "<style>\n",
       "    .dataframe thead tr:only-child th {\n",
       "        text-align: right;\n",
       "    }\n",
       "\n",
       "    .dataframe thead th {\n",
       "        text-align: left;\n",
       "    }\n",
       "\n",
       "    .dataframe tbody tr th {\n",
       "        vertical-align: top;\n",
       "    }\n",
       "</style>\n",
       "<table border=\"1\" class=\"dataframe\">\n",
       "  <thead>\n",
       "    <tr style=\"text-align: right;\">\n",
       "      <th></th>\n",
       "      <th>Age</th>\n",
       "      <th>Gender</th>\n",
       "      <th>Impressions</th>\n",
       "      <th>Clicks</th>\n",
       "      <th>Signed_In</th>\n",
       "      <th>CTR</th>\n",
       "    </tr>\n",
       "  </thead>\n",
       "  <tbody>\n",
       "    <tr>\n",
       "      <th>0</th>\n",
       "      <td>36</td>\n",
       "      <td>0</td>\n",
       "      <td>3</td>\n",
       "      <td>0</td>\n",
       "      <td>1</td>\n",
       "      <td>0.0</td>\n",
       "    </tr>\n",
       "    <tr>\n",
       "      <th>1</th>\n",
       "      <td>73</td>\n",
       "      <td>1</td>\n",
       "      <td>3</td>\n",
       "      <td>0</td>\n",
       "      <td>1</td>\n",
       "      <td>0.0</td>\n",
       "    </tr>\n",
       "    <tr>\n",
       "      <th>2</th>\n",
       "      <td>30</td>\n",
       "      <td>0</td>\n",
       "      <td>3</td>\n",
       "      <td>0</td>\n",
       "      <td>1</td>\n",
       "      <td>0.0</td>\n",
       "    </tr>\n",
       "    <tr>\n",
       "      <th>3</th>\n",
       "      <td>49</td>\n",
       "      <td>1</td>\n",
       "      <td>3</td>\n",
       "      <td>0</td>\n",
       "      <td>1</td>\n",
       "      <td>0.0</td>\n",
       "    </tr>\n",
       "    <tr>\n",
       "      <th>4</th>\n",
       "      <td>47</td>\n",
       "      <td>1</td>\n",
       "      <td>11</td>\n",
       "      <td>0</td>\n",
       "      <td>1</td>\n",
       "      <td>0.0</td>\n",
       "    </tr>\n",
       "  </tbody>\n",
       "</table>\n",
       "</div>"
      ],
      "text/plain": [
       "   Age  Gender  Impressions  Clicks  Signed_In  CTR\n",
       "0   36       0            3       0          1  0.0\n",
       "1   73       1            3       0          1  0.0\n",
       "2   30       0            3       0          1  0.0\n",
       "3   49       1            3       0          1  0.0\n",
       "4   47       1           11       0          1  0.0"
      ]
     },
     "execution_count": 15,
     "metadata": {},
     "output_type": "execute_result"
    }
   ],
   "source": [
    "df_signed_in.head()"
   ]
  },
  {
   "cell_type": "code",
   "execution_count": 16,
   "metadata": {},
   "outputs": [
    {
     "data": {
      "text/html": [
       "<div>\n",
       "<style>\n",
       "    .dataframe thead tr:only-child th {\n",
       "        text-align: right;\n",
       "    }\n",
       "\n",
       "    .dataframe thead th {\n",
       "        text-align: left;\n",
       "    }\n",
       "\n",
       "    .dataframe tbody tr th {\n",
       "        vertical-align: top;\n",
       "    }\n",
       "</style>\n",
       "<table border=\"1\" class=\"dataframe\">\n",
       "  <thead>\n",
       "    <tr style=\"text-align: right;\">\n",
       "      <th></th>\n",
       "      <th>Age</th>\n",
       "      <th>Gender</th>\n",
       "      <th>Impressions</th>\n",
       "      <th>Clicks</th>\n",
       "      <th>Signed_In</th>\n",
       "      <th>CTR</th>\n",
       "    </tr>\n",
       "  </thead>\n",
       "  <tbody>\n",
       "    <tr>\n",
       "      <th>6</th>\n",
       "      <td>0</td>\n",
       "      <td>0</td>\n",
       "      <td>7</td>\n",
       "      <td>1</td>\n",
       "      <td>0</td>\n",
       "      <td>0.142857</td>\n",
       "    </tr>\n",
       "    <tr>\n",
       "      <th>10</th>\n",
       "      <td>0</td>\n",
       "      <td>0</td>\n",
       "      <td>8</td>\n",
       "      <td>1</td>\n",
       "      <td>0</td>\n",
       "      <td>0.125000</td>\n",
       "    </tr>\n",
       "    <tr>\n",
       "      <th>12</th>\n",
       "      <td>0</td>\n",
       "      <td>0</td>\n",
       "      <td>4</td>\n",
       "      <td>0</td>\n",
       "      <td>0</td>\n",
       "      <td>0.000000</td>\n",
       "    </tr>\n",
       "    <tr>\n",
       "      <th>15</th>\n",
       "      <td>0</td>\n",
       "      <td>0</td>\n",
       "      <td>6</td>\n",
       "      <td>0</td>\n",
       "      <td>0</td>\n",
       "      <td>0.000000</td>\n",
       "    </tr>\n",
       "    <tr>\n",
       "      <th>19</th>\n",
       "      <td>0</td>\n",
       "      <td>0</td>\n",
       "      <td>5</td>\n",
       "      <td>0</td>\n",
       "      <td>0</td>\n",
       "      <td>0.000000</td>\n",
       "    </tr>\n",
       "  </tbody>\n",
       "</table>\n",
       "</div>"
      ],
      "text/plain": [
       "    Age  Gender  Impressions  Clicks  Signed_In       CTR\n",
       "6     0       0            7       1          0  0.142857\n",
       "10    0       0            8       1          0  0.125000\n",
       "12    0       0            4       0          0  0.000000\n",
       "15    0       0            6       0          0  0.000000\n",
       "19    0       0            5       0          0  0.000000"
      ]
     },
     "execution_count": 16,
     "metadata": {},
     "output_type": "execute_result"
    }
   ],
   "source": [
    "df_signed_out.head()"
   ]
  },
  {
   "cell_type": "code",
   "execution_count": null,
   "metadata": {
    "collapsed": true
   },
   "outputs": [],
   "source": []
  },
  {
   "cell_type": "code",
   "execution_count": 17,
   "metadata": {},
   "outputs": [
    {
     "data": {
      "image/png": "[encoded data removed]",
      "text/plain": [
       "<matplotlib.figure.Figure at 0x10ef8f990>"
      ]
     },
     "metadata": {},
     "output_type": "display_data"
    }
   ],
   "source": [
    "df_signed_in.hist(figsize=(20,12), normed=True, color='red', alpha=0.7)\n",
    "plt.suptitle('Signed In Visitors',size=22,weight='bold',y=1.05)\n",
    "plt.show()"
   ]
  },
  {
   "cell_type": "code",
   "execution_count": 18,
   "metadata": {},
   "outputs": [
    {
     "data": {
      "image/png": "[encoded data removed]",
      "text/plain": [
       "<matplotlib.figure.Figure at 0x10cfcf950>"
      ]
     },
     "metadata": {},
     "output_type": "display_data"
    }
   ],
   "source": [
    "df_signed_out.hist(figsize=(20,12), normed=True, color='Yellow', alpha=0.7)\n",
    "plt.suptitle('Signed Out Visitors',size=22,weight='bold',y=1.05)\n",
    "plt.show()"
   ]
  },
  {
   "cell_type": "markdown",
   "metadata": {},
   "source": [
    "Observations:\n",
    "\n",
    "* Those that are signed out appear all to be female and aged 0 suggesting that gender and age are only captured on signing in. \n",
    "* Otherwise behaviour patterns are broadly similar."
   ]
  },
  {
   "cell_type": "code",
   "execution_count": 19,
   "metadata": {},
   "outputs": [
    {
     "data": {
      "text/plain": [
       "Age            265.935495\n",
       "Gender           0.249441\n",
       "Impressions      4.876485\n",
       "Clicks           0.072626\n",
       "Signed_In        0.000000\n",
       "CTR              0.003634\n",
       "dtype: float64"
      ]
     },
     "execution_count": 19,
     "metadata": {},
     "output_type": "execute_result"
    }
   ],
   "source": [
    "np.var(df_signed_in)"
   ]
  },
  {
   "cell_type": "code",
   "execution_count": 20,
   "metadata": {},
   "outputs": [
    {
     "data": {
      "text/plain": [
       "Age            0.000000\n",
       "Gender         0.000000\n",
       "Impressions    4.883091\n",
       "Clicks         0.149492\n",
       "Signed_In      0.000000\n",
       "CTR            0.007280\n",
       "dtype: float64"
      ]
     },
     "execution_count": 20,
     "metadata": {},
     "output_type": "execute_result"
    }
   ],
   "source": [
    "np.var(df_signed_out)"
   ]
  },
  {
   "cell_type": "code",
   "execution_count": 21,
   "metadata": {},
   "outputs": [
    {
     "data": {
      "text/html": [
       "<div>\n",
       "<style>\n",
       "    .dataframe thead tr:only-child th {\n",
       "        text-align: right;\n",
       "    }\n",
       "\n",
       "    .dataframe thead th {\n",
       "        text-align: left;\n",
       "    }\n",
       "\n",
       "    .dataframe tbody tr th {\n",
       "        vertical-align: top;\n",
       "    }\n",
       "</style>\n",
       "<table border=\"1\" class=\"dataframe\">\n",
       "  <thead>\n",
       "    <tr style=\"text-align: right;\">\n",
       "      <th></th>\n",
       "      <th>Age</th>\n",
       "      <th>Gender</th>\n",
       "      <th>Impressions</th>\n",
       "      <th>Clicks</th>\n",
       "      <th>Signed_In</th>\n",
       "      <th>CTR</th>\n",
       "    </tr>\n",
       "  </thead>\n",
       "  <tbody>\n",
       "    <tr>\n",
       "      <th>count</th>\n",
       "      <td>319198.000000</td>\n",
       "      <td>319198.000000</td>\n",
       "      <td>319198.000000</td>\n",
       "      <td>319198.000000</td>\n",
       "      <td>319198.0</td>\n",
       "      <td>319198.000000</td>\n",
       "    </tr>\n",
       "    <tr>\n",
       "      <th>mean</th>\n",
       "      <td>42.062547</td>\n",
       "      <td>0.523644</td>\n",
       "      <td>5.044129</td>\n",
       "      <td>0.071958</td>\n",
       "      <td>1.0</td>\n",
       "      <td>0.014254</td>\n",
       "    </tr>\n",
       "    <tr>\n",
       "      <th>std</th>\n",
       "      <td>16.307554</td>\n",
       "      <td>0.499441</td>\n",
       "      <td>2.208280</td>\n",
       "      <td>0.269493</td>\n",
       "      <td>0.0</td>\n",
       "      <td>0.060280</td>\n",
       "    </tr>\n",
       "    <tr>\n",
       "      <th>min</th>\n",
       "      <td>7.000000</td>\n",
       "      <td>0.000000</td>\n",
       "      <td>1.000000</td>\n",
       "      <td>0.000000</td>\n",
       "      <td>1.0</td>\n",
       "      <td>0.000000</td>\n",
       "    </tr>\n",
       "    <tr>\n",
       "      <th>25%</th>\n",
       "      <td>29.000000</td>\n",
       "      <td>0.000000</td>\n",
       "      <td>3.000000</td>\n",
       "      <td>0.000000</td>\n",
       "      <td>1.0</td>\n",
       "      <td>0.000000</td>\n",
       "    </tr>\n",
       "    <tr>\n",
       "      <th>50%</th>\n",
       "      <td>41.000000</td>\n",
       "      <td>1.000000</td>\n",
       "      <td>5.000000</td>\n",
       "      <td>0.000000</td>\n",
       "      <td>1.0</td>\n",
       "      <td>0.000000</td>\n",
       "    </tr>\n",
       "    <tr>\n",
       "      <th>75%</th>\n",
       "      <td>53.000000</td>\n",
       "      <td>1.000000</td>\n",
       "      <td>6.000000</td>\n",
       "      <td>0.000000</td>\n",
       "      <td>1.0</td>\n",
       "      <td>0.000000</td>\n",
       "    </tr>\n",
       "    <tr>\n",
       "      <th>max</th>\n",
       "      <td>108.000000</td>\n",
       "      <td>1.000000</td>\n",
       "      <td>20.000000</td>\n",
       "      <td>3.000000</td>\n",
       "      <td>1.0</td>\n",
       "      <td>1.000000</td>\n",
       "    </tr>\n",
       "  </tbody>\n",
       "</table>\n",
       "</div>"
      ],
      "text/plain": [
       "                 Age         Gender    Impressions         Clicks  Signed_In  \\\n",
       "count  319198.000000  319198.000000  319198.000000  319198.000000   319198.0   \n",
       "mean       42.062547       0.523644       5.044129       0.071958        1.0   \n",
       "std        16.307554       0.499441       2.208280       0.269493        0.0   \n",
       "min         7.000000       0.000000       1.000000       0.000000        1.0   \n",
       "25%        29.000000       0.000000       3.000000       0.000000        1.0   \n",
       "50%        41.000000       1.000000       5.000000       0.000000        1.0   \n",
       "75%        53.000000       1.000000       6.000000       0.000000        1.0   \n",
       "max       108.000000       1.000000      20.000000       3.000000        1.0   \n",
       "\n",
       "                 CTR  \n",
       "count  319198.000000  \n",
       "mean        0.014254  \n",
       "std         0.060280  \n",
       "min         0.000000  \n",
       "25%         0.000000  \n",
       "50%         0.000000  \n",
       "75%         0.000000  \n",
       "max         1.000000  "
      ]
     },
     "execution_count": 21,
     "metadata": {},
     "output_type": "execute_result"
    }
   ],
   "source": [
    "df_signed_in.describe()"
   ]
  },
  {
   "cell_type": "code",
   "execution_count": 22,
   "metadata": {},
   "outputs": [
    {
     "data": {
      "text/html": [
       "<div>\n",
       "<style>\n",
       "    .dataframe thead tr:only-child th {\n",
       "        text-align: right;\n",
       "    }\n",
       "\n",
       "    .dataframe thead th {\n",
       "        text-align: left;\n",
       "    }\n",
       "\n",
       "    .dataframe tbody tr th {\n",
       "        vertical-align: top;\n",
       "    }\n",
       "</style>\n",
       "<table border=\"1\" class=\"dataframe\">\n",
       "  <thead>\n",
       "    <tr style=\"text-align: right;\">\n",
       "      <th></th>\n",
       "      <th>Age</th>\n",
       "      <th>Gender</th>\n",
       "      <th>Impressions</th>\n",
       "      <th>Clicks</th>\n",
       "      <th>Signed_In</th>\n",
       "      <th>CTR</th>\n",
       "    </tr>\n",
       "  </thead>\n",
       "  <tbody>\n",
       "    <tr>\n",
       "      <th>count</th>\n",
       "      <td>136177.0</td>\n",
       "      <td>136177.0</td>\n",
       "      <td>136177.000000</td>\n",
       "      <td>136177.000000</td>\n",
       "      <td>136177.0</td>\n",
       "      <td>136177.000000</td>\n",
       "    </tr>\n",
       "    <tr>\n",
       "      <th>mean</th>\n",
       "      <td>0.0</td>\n",
       "      <td>0.0</td>\n",
       "      <td>5.033765</td>\n",
       "      <td>0.143049</td>\n",
       "      <td>0.0</td>\n",
       "      <td>0.028355</td>\n",
       "    </tr>\n",
       "    <tr>\n",
       "      <th>std</th>\n",
       "      <td>0.0</td>\n",
       "      <td>0.0</td>\n",
       "      <td>2.209780</td>\n",
       "      <td>0.386644</td>\n",
       "      <td>0.0</td>\n",
       "      <td>0.085324</td>\n",
       "    </tr>\n",
       "    <tr>\n",
       "      <th>min</th>\n",
       "      <td>0.0</td>\n",
       "      <td>0.0</td>\n",
       "      <td>1.000000</td>\n",
       "      <td>0.000000</td>\n",
       "      <td>0.0</td>\n",
       "      <td>0.000000</td>\n",
       "    </tr>\n",
       "    <tr>\n",
       "      <th>25%</th>\n",
       "      <td>0.0</td>\n",
       "      <td>0.0</td>\n",
       "      <td>3.000000</td>\n",
       "      <td>0.000000</td>\n",
       "      <td>0.0</td>\n",
       "      <td>0.000000</td>\n",
       "    </tr>\n",
       "    <tr>\n",
       "      <th>50%</th>\n",
       "      <td>0.0</td>\n",
       "      <td>0.0</td>\n",
       "      <td>5.000000</td>\n",
       "      <td>0.000000</td>\n",
       "      <td>0.0</td>\n",
       "      <td>0.000000</td>\n",
       "    </tr>\n",
       "    <tr>\n",
       "      <th>75%</th>\n",
       "      <td>0.0</td>\n",
       "      <td>0.0</td>\n",
       "      <td>6.000000</td>\n",
       "      <td>0.000000</td>\n",
       "      <td>0.0</td>\n",
       "      <td>0.000000</td>\n",
       "    </tr>\n",
       "    <tr>\n",
       "      <th>max</th>\n",
       "      <td>0.0</td>\n",
       "      <td>0.0</td>\n",
       "      <td>18.000000</td>\n",
       "      <td>4.000000</td>\n",
       "      <td>0.0</td>\n",
       "      <td>1.000000</td>\n",
       "    </tr>\n",
       "  </tbody>\n",
       "</table>\n",
       "</div>"
      ],
      "text/plain": [
       "            Age    Gender    Impressions         Clicks  Signed_In  \\\n",
       "count  136177.0  136177.0  136177.000000  136177.000000   136177.0   \n",
       "mean        0.0       0.0       5.033765       0.143049        0.0   \n",
       "std         0.0       0.0       2.209780       0.386644        0.0   \n",
       "min         0.0       0.0       1.000000       0.000000        0.0   \n",
       "25%         0.0       0.0       3.000000       0.000000        0.0   \n",
       "50%         0.0       0.0       5.000000       0.000000        0.0   \n",
       "75%         0.0       0.0       6.000000       0.000000        0.0   \n",
       "max         0.0       0.0      18.000000       4.000000        0.0   \n",
       "\n",
       "                 CTR  \n",
       "count  136177.000000  \n",
       "mean        0.028355  \n",
       "std         0.085324  \n",
       "min         0.000000  \n",
       "25%         0.000000  \n",
       "50%         0.000000  \n",
       "75%         0.000000  \n",
       "max         1.000000  "
      ]
     },
     "execution_count": 22,
     "metadata": {},
     "output_type": "execute_result"
    }
   ],
   "source": [
    "df_signed_out.describe()"
   ]
  },
  {
   "cell_type": "markdown",
   "metadata": {},
   "source": [
    "Use a Welch t-test to determine if the mean CTR between the signed-in users and the non-signed-in users is statistically different. Explain how you arrive at your conclusion.\n",
    "\n",
    "Welch's T-Test, unlike Student's T-Test, does not have the assumption of equal variance (however, both have the assumption of normality.  When two groups have equal sample sizes and variances, Welch's tends to give the same result as Student's but when sample sizes and variances are unequal (as is the case here), Welch's tends to perform better.  Welch's does not perform well on small sample sizes.\n",
    "\n",
    "However, some authors caution against reverting to Welch's on a simple test of variance equality.  Some, like Ruxton suggest that you should use Welch's always when comparing central tendency for two unrelated samples.\n",
    "\n",
    "The Welch t-test assumes the two populations in which the samples are drawn from have different variances.\n",
    "\n"
   ]
  },
  {
   "cell_type": "code",
   "execution_count": 23,
   "metadata": {},
   "outputs": [
    {
     "name": "stdout",
     "output_type": "stream",
     "text": [
      "Signed In Mean CTR: 0.0142536352321\n",
      "Signed Out Mean CTR: 0.0283549070617\n",
      "Difference in Mean: 0.0141012718295\n",
      "p value is:  Ttest_indResult(statistic=-55.376117934260868, pvalue=0.0)\n"
     ]
    },
    {
     "data": {
      "image/png": "[encoded data removed]",
      "text/plain": [
       "<matplotlib.figure.Figure at 0x10ce1c210>"
      ]
     },
     "metadata": {},
     "output_type": "display_data"
    }
   ],
   "source": [
    "def t_test(gp1_df, gp2_df, gp1_name, gp2_name):\n",
    "    fig = plt.figure()\n",
    "    gp1_mean = gp1_df['CTR'].mean()\n",
    "    gp2_mean = gp2_df['CTR'].mean()\n",
    "    \n",
    "    print '%s Mean CTR: %s' % (gp1_name, gp1_mean)\n",
    "    print '%s Mean CTR: %s' % (gp2_name, gp2_mean)\n",
    "    print 'Difference in Mean:', abs(gp2_mean - gp1_mean)\n",
    "    p_val = scs.ttest_ind(gp1_df['CTR'], gp2_df['CTR'], equal_var=False)\n",
    "    \n",
    "    print 'p value is: ', p_val\n",
    "    \n",
    "    gp1_df['CTR'].hist(normed=True, label=gp1_name, color='green', alpha=0.3)\n",
    "    gp2_df['CTR'].hist(normed=True, label=gp2_name, color='red', alpha=0.3)\n",
    "    \n",
    "    plt.axvline(gp1_mean,color='red',alpha=0.6,lw=2)\n",
    "    plt.axvline(gp2_mean,color='green',alpha=0.6, lw=2)\n",
    "    \n",
    "    plt.ylabel('Probability Density')\n",
    "    plt.xlabel('CTR')\n",
    "    plt.legend()\n",
    "    plt.grid('off')\n",
    "    \n",
    "t_test(df_signed_in,df_signed_out,'Signed In', 'Signed Out')"
   ]
  },
  {
   "cell_type": "markdown",
   "metadata": {},
   "source": [
    "The difference in CTR between signed in and non-signed users is more worthy of further investigation since the difference in CTR is greater. \n",
    "\n",
    "The female/male CTR difference is only marginally significant (0.0010 < 0.00217).\n",
    "\n",
    "The signed-in/non_signed CTR difference is more significant than that of male/female (0.0 < 0.00217).\n",
    "\n",
    "Commentary\n",
    "\n",
    "The difference in mean is not statistically significant.  More worthy of analysis is the difference in click-through rate between signed in and non-signed in users.  As things stand the female/male difference is only marginally significant, but we do not as yet know how reliable the non-signed in data is with regard to gender splits since gender and age data is only capured on sign-in."
   ]
  },
  {
   "cell_type": "markdown",
   "metadata": {},
   "source": [
    "Calculate a new column called `AgeGroup` that bins ages."
   ]
  },
  {
   "cell_type": "code",
   "execution_count": 24,
   "metadata": {},
   "outputs": [
    {
     "name": "stderr",
     "output_type": "stream",
     "text": [
      "/Users/patrickrhbrown/anaconda/lib/python2.7/site-packages/ipykernel_launcher.py:2: SettingWithCopyWarning: \n",
      "A value is trying to be set on a copy of a slice from a DataFrame.\n",
      "Try using .loc[row_indexer,col_indexer] = value instead\n",
      "\n",
      "See the caveats in the documentation: http://pandas.pydata.org/pandas-docs/stable/indexing.html#indexing-view-versus-copy\n",
      "  \n"
     ]
    }
   ],
   "source": [
    "df_signed_in['Age Group'] = pd.cut(df_signed_in['Age'], [7, 18, 24, 34,\n",
    "44, 54, 64, 1000])"
   ]
  },
  {
   "cell_type": "code",
   "execution_count": 25,
   "metadata": {},
   "outputs": [
    {
     "data": {
      "text/html": [
       "<div>\n",
       "<style>\n",
       "    .dataframe thead tr:only-child th {\n",
       "        text-align: right;\n",
       "    }\n",
       "\n",
       "    .dataframe thead th {\n",
       "        text-align: left;\n",
       "    }\n",
       "\n",
       "    .dataframe tbody tr th {\n",
       "        vertical-align: top;\n",
       "    }\n",
       "</style>\n",
       "<table border=\"1\" class=\"dataframe\">\n",
       "  <thead>\n",
       "    <tr style=\"text-align: right;\">\n",
       "      <th></th>\n",
       "      <th>Age</th>\n",
       "      <th>Gender</th>\n",
       "      <th>Impressions</th>\n",
       "      <th>Clicks</th>\n",
       "      <th>Signed_In</th>\n",
       "      <th>CTR</th>\n",
       "      <th>Age Group</th>\n",
       "    </tr>\n",
       "  </thead>\n",
       "  <tbody>\n",
       "    <tr>\n",
       "      <th>0</th>\n",
       "      <td>36</td>\n",
       "      <td>0</td>\n",
       "      <td>3</td>\n",
       "      <td>0</td>\n",
       "      <td>1</td>\n",
       "      <td>0.0</td>\n",
       "      <td>(34, 44]</td>\n",
       "    </tr>\n",
       "    <tr>\n",
       "      <th>1</th>\n",
       "      <td>73</td>\n",
       "      <td>1</td>\n",
       "      <td>3</td>\n",
       "      <td>0</td>\n",
       "      <td>1</td>\n",
       "      <td>0.0</td>\n",
       "      <td>(64, 1000]</td>\n",
       "    </tr>\n",
       "    <tr>\n",
       "      <th>2</th>\n",
       "      <td>30</td>\n",
       "      <td>0</td>\n",
       "      <td>3</td>\n",
       "      <td>0</td>\n",
       "      <td>1</td>\n",
       "      <td>0.0</td>\n",
       "      <td>(24, 34]</td>\n",
       "    </tr>\n",
       "    <tr>\n",
       "      <th>3</th>\n",
       "      <td>49</td>\n",
       "      <td>1</td>\n",
       "      <td>3</td>\n",
       "      <td>0</td>\n",
       "      <td>1</td>\n",
       "      <td>0.0</td>\n",
       "      <td>(44, 54]</td>\n",
       "    </tr>\n",
       "    <tr>\n",
       "      <th>4</th>\n",
       "      <td>47</td>\n",
       "      <td>1</td>\n",
       "      <td>11</td>\n",
       "      <td>0</td>\n",
       "      <td>1</td>\n",
       "      <td>0.0</td>\n",
       "      <td>(44, 54]</td>\n",
       "    </tr>\n",
       "  </tbody>\n",
       "</table>\n",
       "</div>"
      ],
      "text/plain": [
       "   Age  Gender  Impressions  Clicks  Signed_In  CTR   Age Group\n",
       "0   36       0            3       0          1  0.0    (34, 44]\n",
       "1   73       1            3       0          1  0.0  (64, 1000]\n",
       "2   30       0            3       0          1  0.0    (24, 34]\n",
       "3   49       1            3       0          1  0.0    (44, 54]\n",
       "4   47       1           11       0          1  0.0    (44, 54]"
      ]
     },
     "execution_count": 25,
     "metadata": {},
     "output_type": "execute_result"
    }
   ],
   "source": [
    "df_signed_in.head()"
   ]
  },
  {
   "cell_type": "markdown",
   "metadata": {},
   "source": [
    "The signed out data is missing a lot of ages for reasons we have already explained, so we'll only refer to the signed in data.  Let's plot it."
   ]
  },
  {
   "cell_type": "code",
   "execution_count": 26,
   "metadata": {},
   "outputs": [
    {
     "data": {
      "text/plain": [
       "<matplotlib.text.Text at 0x10d35cc50>"
      ]
     },
     "execution_count": 26,
     "metadata": {},
     "output_type": "execute_result"
    },
    {
     "data": {
      "image/png": "[encoded data removed]",
      "text/plain": [
       "<matplotlib.figure.Figure at 0x10ee518d0>"
      ]
     },
     "metadata": {},
     "output_type": "display_data"
    }
   ],
   "source": [
    "df_signed_in['Age Group'].value_counts().sort_index().plot(kind='bar', grid=False)\n",
    "plt.xlabel('Age Group')\n",
    "plt.ylabel('Number of users')"
   ]
  },
  {
   "cell_type": "code",
   "execution_count": 39,
   "metadata": {},
   "outputs": [
    {
     "data": {
      "text/html": [
       "<div>\n",
       "<style>\n",
       "    .dataframe thead tr:only-child th {\n",
       "        text-align: right;\n",
       "    }\n",
       "\n",
       "    .dataframe thead th {\n",
       "        text-align: left;\n",
       "    }\n",
       "\n",
       "    .dataframe tbody tr th {\n",
       "        vertical-align: top;\n",
       "    }\n",
       "</style>\n",
       "<table border=\"1\" class=\"dataframe\">\n",
       "  <thead>\n",
       "    <tr style=\"text-align: right;\">\n",
       "      <th></th>\n",
       "      <th>one</th>\n",
       "      <th>two</th>\n",
       "      <th>mean1</th>\n",
       "      <th>mean2</th>\n",
       "      <th>diff</th>\n",
       "      <th>p</th>\n",
       "    </tr>\n",
       "  </thead>\n",
       "  <tbody>\n",
       "    <tr>\n",
       "      <th>9</th>\n",
       "      <td>(64, 1000]</td>\n",
       "      <td>(7, 18]</td>\n",
       "      <td>0.029803</td>\n",
       "      <td>0.026585</td>\n",
       "      <td>0.003218</td>\n",
       "      <td>3.563408e-05</td>\n",
       "    </tr>\n",
       "    <tr>\n",
       "      <th>23</th>\n",
       "      <td>(7, 18]</td>\n",
       "      <td>(54, 64]</td>\n",
       "      <td>0.026585</td>\n",
       "      <td>0.020307</td>\n",
       "      <td>0.006278</td>\n",
       "      <td>8.273993e-20</td>\n",
       "    </tr>\n",
       "    <tr>\n",
       "      <th>11</th>\n",
       "      <td>(64, 1000]</td>\n",
       "      <td>(54, 64]</td>\n",
       "      <td>0.029803</td>\n",
       "      <td>0.020307</td>\n",
       "      <td>0.009496</td>\n",
       "      <td>9.214903e-56</td>\n",
       "    </tr>\n",
       "    <tr>\n",
       "      <th>5</th>\n",
       "      <td>(34, 44]</td>\n",
       "      <td>(54, 64]</td>\n",
       "      <td>0.010286</td>\n",
       "      <td>0.020307</td>\n",
       "      <td>0.010020</td>\n",
       "      <td>7.523228e-144</td>\n",
       "    </tr>\n",
       "    <tr>\n",
       "      <th>16</th>\n",
       "      <td>(24, 34]</td>\n",
       "      <td>(54, 64]</td>\n",
       "      <td>0.010146</td>\n",
       "      <td>0.020307</td>\n",
       "      <td>0.010160</td>\n",
       "      <td>5.668132e-141</td>\n",
       "    </tr>\n",
       "    <tr>\n",
       "      <th>20</th>\n",
       "      <td>(44, 54]</td>\n",
       "      <td>(54, 64]</td>\n",
       "      <td>0.009958</td>\n",
       "      <td>0.020307</td>\n",
       "      <td>0.010349</td>\n",
       "      <td>2.525271e-151</td>\n",
       "    </tr>\n",
       "    <tr>\n",
       "      <th>25</th>\n",
       "      <td>(18, 24]</td>\n",
       "      <td>(54, 64]</td>\n",
       "      <td>0.009720</td>\n",
       "      <td>0.020307</td>\n",
       "      <td>0.010586</td>\n",
       "      <td>1.007813e-130</td>\n",
       "    </tr>\n",
       "    <tr>\n",
       "      <th>3</th>\n",
       "      <td>(34, 44]</td>\n",
       "      <td>(7, 18]</td>\n",
       "      <td>0.010286</td>\n",
       "      <td>0.026585</td>\n",
       "      <td>0.016299</td>\n",
       "      <td>4.575147e-146</td>\n",
       "    </tr>\n",
       "    <tr>\n",
       "      <th>14</th>\n",
       "      <td>(24, 34]</td>\n",
       "      <td>(7, 18]</td>\n",
       "      <td>0.010146</td>\n",
       "      <td>0.026585</td>\n",
       "      <td>0.016439</td>\n",
       "      <td>7.449266e-146</td>\n",
       "    </tr>\n",
       "    <tr>\n",
       "      <th>18</th>\n",
       "      <td>(44, 54]</td>\n",
       "      <td>(7, 18]</td>\n",
       "      <td>0.009958</td>\n",
       "      <td>0.026585</td>\n",
       "      <td>0.016628</td>\n",
       "      <td>4.014382e-151</td>\n",
       "    </tr>\n",
       "    <tr>\n",
       "      <th>22</th>\n",
       "      <td>(7, 18]</td>\n",
       "      <td>(18, 24]</td>\n",
       "      <td>0.026585</td>\n",
       "      <td>0.009720</td>\n",
       "      <td>0.016865</td>\n",
       "      <td>6.900980e-144</td>\n",
       "    </tr>\n",
       "    <tr>\n",
       "      <th>0</th>\n",
       "      <td>(34, 44]</td>\n",
       "      <td>(64, 1000]</td>\n",
       "      <td>0.010286</td>\n",
       "      <td>0.029803</td>\n",
       "      <td>0.019516</td>\n",
       "      <td>5.245541e-288</td>\n",
       "    </tr>\n",
       "    <tr>\n",
       "      <th>7</th>\n",
       "      <td>(64, 1000]</td>\n",
       "      <td>(24, 34]</td>\n",
       "      <td>0.029803</td>\n",
       "      <td>0.010146</td>\n",
       "      <td>0.019656</td>\n",
       "      <td>7.860398e-285</td>\n",
       "    </tr>\n",
       "    <tr>\n",
       "      <th>8</th>\n",
       "      <td>(64, 1000]</td>\n",
       "      <td>(44, 54]</td>\n",
       "      <td>0.029803</td>\n",
       "      <td>0.009958</td>\n",
       "      <td>0.019845</td>\n",
       "      <td>1.430923e-295</td>\n",
       "    </tr>\n",
       "    <tr>\n",
       "      <th>10</th>\n",
       "      <td>(64, 1000]</td>\n",
       "      <td>(18, 24]</td>\n",
       "      <td>0.029803</td>\n",
       "      <td>0.009720</td>\n",
       "      <td>0.020082</td>\n",
       "      <td>2.458627e-272</td>\n",
       "    </tr>\n",
       "  </tbody>\n",
       "</table>\n",
       "</div>"
      ],
      "text/plain": [
       "           one         two     mean1     mean2      diff              p\n",
       "9   (64, 1000]     (7, 18]  0.029803  0.026585  0.003218   3.563408e-05\n",
       "23     (7, 18]    (54, 64]  0.026585  0.020307  0.006278   8.273993e-20\n",
       "11  (64, 1000]    (54, 64]  0.029803  0.020307  0.009496   9.214903e-56\n",
       "5     (34, 44]    (54, 64]  0.010286  0.020307  0.010020  7.523228e-144\n",
       "16    (24, 34]    (54, 64]  0.010146  0.020307  0.010160  5.668132e-141\n",
       "20    (44, 54]    (54, 64]  0.009958  0.020307  0.010349  2.525271e-151\n",
       "25    (18, 24]    (54, 64]  0.009720  0.020307  0.010586  1.007813e-130\n",
       "3     (34, 44]     (7, 18]  0.010286  0.026585  0.016299  4.575147e-146\n",
       "14    (24, 34]     (7, 18]  0.010146  0.026585  0.016439  7.449266e-146\n",
       "18    (44, 54]     (7, 18]  0.009958  0.026585  0.016628  4.014382e-151\n",
       "22     (7, 18]    (18, 24]  0.026585  0.009720  0.016865  6.900980e-144\n",
       "0     (34, 44]  (64, 1000]  0.010286  0.029803  0.019516  5.245541e-288\n",
       "7   (64, 1000]    (24, 34]  0.029803  0.010146  0.019656  7.860398e-285\n",
       "8   (64, 1000]    (44, 54]  0.029803  0.009958  0.019845  1.430923e-295\n",
       "10  (64, 1000]    (18, 24]  0.029803  0.009720  0.020082  2.458627e-272"
      ]
     },
     "execution_count": 39,
     "metadata": {},
     "output_type": "execute_result"
    }
   ],
   "source": [
    "results = pd.DataFrame()\n",
    "\n",
    "combos = combinations(pd.unique(df_signed_in['Age Group']), 2)\n",
    "# combinations compares pairs of unique values in the column Age Group\n",
    "\n",
    "for age1, age2 in combos:\n",
    "    #age1 and age2 in combos \n",
    "    ctr1 = df_signed_in[df_signed_in['Age Group'] == age1]['CTR'] \n",
    "    #assign \n",
    "    ctr2 = df_signed_in[df_signed_in['Age Group'] == age2]['CTR'] \n",
    "    p_val = scs.ttest_ind(ctr1, ctr2, equal_var=False)[1] \n",
    "    ctr1_mean = ctr1.mean()\n",
    "    ctr2_mean = ctr2.mean()\n",
    "    diff = abs(ctr1_mean - ctr2_mean)\n",
    "    results = results.append(dict(one=age1, two=age2,\n",
    "    mean1=ctr1_mean, mean2=ctr2_mean, diff=diff, p=p_val),ignore_index=True)\n",
    "    \n",
    "results = results[['one','two','mean1','mean2','diff','p']]\n",
    "    \n",
    "results[results['p'] < alpha].sort_values('diff', ascending=False)"
   ]
  },
  {
   "cell_type": "code",
   "execution_count": 40,
   "metadata": {},
   "outputs": [
    {
     "data": {
      "text/html": [
       "<div>\n",
       "<style>\n",
       "    .dataframe thead tr:only-child th {\n",
       "        text-align: right;\n",
       "    }\n",
       "\n",
       "    .dataframe thead th {\n",
       "        text-align: left;\n",
       "    }\n",
       "\n",
       "    .dataframe tbody tr th {\n",
       "        vertical-align: top;\n",
       "    }\n",
       "</style>\n",
       "<table border=\"1\" class=\"dataframe\">\n",
       "  <thead>\n",
       "    <tr style=\"text-align: right;\">\n",
       "      <th></th>\n",
       "      <th>one</th>\n",
       "      <th>two</th>\n",
       "      <th>mean1</th>\n",
       "      <th>mean2</th>\n",
       "      <th>diff</th>\n",
       "      <th>p</th>\n",
       "    </tr>\n",
       "  </thead>\n",
       "  <tbody>\n",
       "    <tr>\n",
       "      <th>1</th>\n",
       "      <td>(34, 44]</td>\n",
       "      <td>(24, 34]</td>\n",
       "      <td>0.010286</td>\n",
       "      <td>0.010146</td>\n",
       "      <td>0.000140</td>\n",
       "      <td>0.624662</td>\n",
       "    </tr>\n",
       "    <tr>\n",
       "      <th>13</th>\n",
       "      <td>(24, 34]</td>\n",
       "      <td>(44, 54]</td>\n",
       "      <td>0.010146</td>\n",
       "      <td>0.009958</td>\n",
       "      <td>0.000189</td>\n",
       "      <td>0.514689</td>\n",
       "    </tr>\n",
       "    <tr>\n",
       "      <th>19</th>\n",
       "      <td>(44, 54]</td>\n",
       "      <td>(18, 24]</td>\n",
       "      <td>0.009958</td>\n",
       "      <td>0.009720</td>\n",
       "      <td>0.000237</td>\n",
       "      <td>0.477902</td>\n",
       "    </tr>\n",
       "    <tr>\n",
       "      <th>2</th>\n",
       "      <td>(34, 44]</td>\n",
       "      <td>(44, 54]</td>\n",
       "      <td>0.010286</td>\n",
       "      <td>0.009958</td>\n",
       "      <td>0.000329</td>\n",
       "      <td>0.233928</td>\n",
       "    </tr>\n",
       "    <tr>\n",
       "      <th>15</th>\n",
       "      <td>(24, 34]</td>\n",
       "      <td>(18, 24]</td>\n",
       "      <td>0.010146</td>\n",
       "      <td>0.009720</td>\n",
       "      <td>0.000426</td>\n",
       "      <td>0.213658</td>\n",
       "    </tr>\n",
       "    <tr>\n",
       "      <th>4</th>\n",
       "      <td>(34, 44]</td>\n",
       "      <td>(18, 24]</td>\n",
       "      <td>0.010286</td>\n",
       "      <td>0.009720</td>\n",
       "      <td>0.000566</td>\n",
       "      <td>0.087470</td>\n",
       "    </tr>\n",
       "  </tbody>\n",
       "</table>\n",
       "</div>"
      ],
      "text/plain": [
       "         one       two     mean1     mean2      diff         p\n",
       "1   (34, 44]  (24, 34]  0.010286  0.010146  0.000140  0.624662\n",
       "13  (24, 34]  (44, 54]  0.010146  0.009958  0.000189  0.514689\n",
       "19  (44, 54]  (18, 24]  0.009958  0.009720  0.000237  0.477902\n",
       "2   (34, 44]  (44, 54]  0.010286  0.009958  0.000329  0.233928\n",
       "15  (24, 34]  (18, 24]  0.010146  0.009720  0.000426  0.213658\n",
       "4   (34, 44]  (18, 24]  0.010286  0.009720  0.000566  0.087470"
      ]
     },
     "execution_count": 40,
     "metadata": {},
     "output_type": "execute_result"
    }
   ],
   "source": [
    "results[results['p'] > alpha].sort_values('diff', ascending=True)\n",
    "#the "
   ]
  },
  {
   "cell_type": "markdown",
   "metadata": {},
   "source": [
    "This indicates the oldest 2 groups and the youngest group are the mostly likely to click through. Perhaps the oldest groups would generally click in to read an article and do less browsing. The youngest group might just be clicking a lot more because they are easily distracted. \n",
    "\n",
    "Whilst '(64, 1000]' has a higher CTR than '(7, 18]' which in turn has a higher CTR than '(54, 64]', and the differences are all statistically significant, these differences are less significant than that between these three groups and the rest of the groups."
   ]
  },
  {
   "cell_type": "markdown",
   "metadata": {},
   "source": [
    "The differences in CTR amongst '(18, 24]','[24,34]','[34,44]','[44,54]' are not significant. This indicates the users aged from 18 - 54 are clicking through at similar ratios. This may be due to similar browsing behavior, ie a lot of scanning of articles, but not a lot of clicking into the articles and reading them."
   ]
  },
  {
   "cell_type": "code",
   "execution_count": null,
   "metadata": {
    "collapsed": true
   },
   "outputs": [],
   "source": []
  }
 ],
 "metadata": {
  "kernelspec": {
   "display_name": "Python 2",
   "language": "python",
   "name": "python2"
  },
  "language_info": {
   "codemirror_mode": {
    "name": "ipython",
    "version": 2
   },
   "file_extension": ".py",
   "mimetype": "text/x-python",
   "name": "python",
   "nbconvert_exporter": "python",
   "pygments_lexer": "ipython2",
   "version": "2.7.13"
  }
 },
 "nbformat": 4,
 "nbformat_minor": 2
}
