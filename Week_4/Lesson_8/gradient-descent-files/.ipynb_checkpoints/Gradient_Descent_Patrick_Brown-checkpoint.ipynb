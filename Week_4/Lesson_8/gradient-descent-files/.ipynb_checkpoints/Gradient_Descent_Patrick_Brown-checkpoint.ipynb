{
 "cells": [
  {
   "cell_type": "markdown",
   "metadata": {},
   "source": [
    "# Gradient Descent\n",
    "\n",
    "We will be implementing logistic regression using the gradient descent algorithm.\n",
    "\n",
    "References:\n",
    "\n",
    "* [Andrew Ng's Machine Learning Lecture Notes](http://cs229.stanford.edu/notes/cs229-notes1.pdf)"
   ]
  },
  {
   "cell_type": "code",
   "execution_count": 2,
   "metadata": {
    "collapsed": true
   },
   "outputs": [],
   "source": [
    "import numpy as np\n",
    "from sklearn.datasets import make_classification\n",
    "import matplotlib.pyplot as plt\n",
    "import seaborn as sns\n",
    "%matplotlib inline\n",
    "import pandas as pd\n",
    "from sklearn.linear_model import LogisticRegression"
   ]
  },
  {
   "cell_type": "markdown",
   "metadata": {},
   "source": [
    "Notes on Implementing Gradient Descent:\n",
    "\n",
    "* Implementing gradient descent can lead to challenging debugging. Try computing values by hand for a really simple example (1 feature, 2 data points) and make sure that your methods are getting the same values.\n",
    "* Numpy is your friend. Use the power of it! There should only be one\n",
    "loop in your code (in run). You should never have to loop over a\n",
    "numpy array. See the numpy tutorial anddocumentation ."
   ]
  },
  {
   "cell_type": "markdown",
   "metadata": {},
   "source": [
    "## Part 1: Create Data\n",
    "\n",
    "* Generate a dataset using sklearn's make_classification module.\n",
    "* We use two features so that we can visualize our data. Make a scatterplot with the first feature on the x axis and the second on the y axis. Differentiate the positive results from the negative results somehow (different colors or different symbols).\n",
    "* Just by eye-balling, make an estimate for a good coefficient for this equation: y = mx of the decision boundary. We are using this form since our first implementation will not find an intercept. But also make an estimate for good coefficients for this equation: `y = mx+b`."
   ]
  },
  {
   "cell_type": "code",
   "execution_count": 3,
   "metadata": {
    "collapsed": true
   },
   "outputs": [],
   "source": [
    "X,Y = make_classification(n_samples = 100, n_features=2, n_informative=2, n_redundant=0, n_classes=2, random_state=0)"
   ]
  },
  {
   "cell_type": "code",
   "execution_count": 4,
   "metadata": {},
   "outputs": [
    {
     "data": {
      "image/png": "[encoded data removed]",
      "text/plain": [
       "<matplotlib.figure.Figure at 0x119f0dd10>"
      ]
     },
     "metadata": {},
     "output_type": "display_data"
    }
   ],
   "source": [
    "_ = plt.plot(X,Y,\"o\")\n",
    "plt.show()"
   ]
  },
  {
   "cell_type": "code",
   "execution_count": 5,
   "metadata": {},
   "outputs": [
    {
     "name": "stdout",
     "output_type": "stream",
     "text": [
      "The score for this model is: 0.92 out of 1\n"
     ]
    }
   ],
   "source": [
    "lm = LogisticRegression() #calling the linear regression object\n",
    "\n",
    "Y = Y\n",
    "X = X\n",
    "\n",
    "model = lm.fit(X,Y)\n",
    "\n",
    "score = model.score(X,Y)\n",
    "\n",
    "print \"The score for this model is: \" + str(score) + \" out of 1\""
   ]
  },
  {
   "cell_type": "code",
   "execution_count": 62,
   "metadata": {},
   "outputs": [
    {
     "ename": "AttributeError",
     "evalue": "'LogisticRegression' object has no attribute 'summary'",
     "output_type": "error",
     "traceback": [
      "\u001b[0;31m---------------------------------------------------------------------------\u001b[0m",
      "\u001b[0;31mAttributeError\u001b[0m                            Traceback (most recent call last)",
      "\u001b[0;32m<ipython-input-62-a10deafcf953>\u001b[0m in \u001b[0;36m<module>\u001b[0;34m()\u001b[0m\n\u001b[0;32m----> 1\u001b[0;31m \u001b[0mresults\u001b[0m \u001b[0;34m=\u001b[0m \u001b[0mmodel\u001b[0m\u001b[0;34m.\u001b[0m\u001b[0msummary\u001b[0m\u001b[0;34m(\u001b[0m\u001b[0;34m)\u001b[0m\u001b[0;34m\u001b[0m\u001b[0m\n\u001b[0m",
      "\u001b[0;31mAttributeError\u001b[0m: 'LogisticRegression' object has no attribute 'summary'"
     ]
    }
   ],
   "source": []
  },
  {
   "cell_type": "code",
   "execution_count": 61,
   "metadata": {
    "collapsed": true
   },
   "outputs": [],
   "source": [
    "def predict_proba(X, coeffs):\n",
    "    \"\"\"Calculate the predicted conditional probabilities (floats between 0 and\n",
    "    1) for the given data with the given coefficients.\n",
    "\n",
    "    Parameters\n",
    "    ----------\n",
    "    X: A 2 dimensional numpy array.  The data (independent variables) to use\n",
    "        for prediction.\n",
    "    coeffs: A 1 dimensional numpy array, the hypothesised coefficients.  Note\n",
    "        that the shape of X and coeffs must align.\n",
    "\n",
    "    Returns\n",
    "    -------\n",
    "    predicted_probabilities: The conditional probabilities from the logistic\n",
    "        hypothesis function given the data and coefficients.\n",
    "\n",
    "    \"\"\"\n",
    "    return 1.0/(coeffs+np.exp(-X))"
   ]
  },
  {
   "cell_type": "code",
   "execution_count": null,
   "metadata": {
    "collapsed": true
   },
   "outputs": [],
   "source": []
  },
  {
   "cell_type": "code",
   "execution_count": 1,
   "metadata": {
    "collapsed": true
   },
   "outputs": [],
   "source": [
    "def predict(X, coeffs, thresh=0.5):\n",
    "    \"\"\"\n",
    "    Calculate the predicted class values (0 or 1) for the given data with the\n",
    "    given coefficients by comparing the predicted probabilities to a given\n",
    "    threshold.\n",
    "\n",
    "    Parameters\n",
    "    ----------\n",
    "    X: A 2 dimensional numpy array.  The data (independent variables) to use\n",
    "        for prediction.\n",
    "    coeffs: A 1 dimensional numpy array, the hypothesized coefficients.  Note\n",
    "        that the shape of X and coeffs must align.\n",
    "    thresh: Threshold for comparison of probabilities.\n",
    "\n",
    "    Returns\n",
    "    -------\n",
    "    predicted_class: The predicted class.\n",
    "    \"\"\"\n",
    "    z = np.dot(coeffs)\n",
    "    return predict_proba(X)"
   ]
  },
  {
   "cell_type": "code",
   "execution_count": null,
   "metadata": {
    "collapsed": true
   },
   "outputs": [],
   "source": [
    "def cost(X, y, coeffs):\n",
    "    \"\"\"\n",
    "    Calculate the logistic cost function of the data with the given\n",
    "    coefficients.\n",
    "\n",
    "    Parameters\n",
    "    ----------\n",
    "    X: A 2 dimensional numpy array.  The data (independent variables) to use\n",
    "        for prediction.\n",
    "    y: A 1 dimensional numpy array.  The actual class values of the response.\n",
    "        Must be encoded as 0's and 1's.  Also, must align properly with X and\n",
    "        coeffs.\n",
    "    coeffs: A 1 dimensional numpy array, the hypothesized coefficients.  Note\n",
    "        that the shape of X, y, and coeffs must align.\n",
    "\n",
    "    Returns\n",
    "    -------\n",
    "    logistic_cost: The computed logistic cost.\n",
    "    \"\"\"\n",
    "    \n",
    "    observations = len(y)\n",
    "    \n",
    "    predictions = predict(X,y)\n",
    "    \n",
    "    Class1_cost = (1-labels) * np.log(predictions)\n",
    "    \n",
    "    Class2_cost = (1-labels) * np.log(1-predictions)\n",
    "    \n",
    "    cost = class1_cost - class2_cost\n",
    "    \n",
    "    cost = cost.sum()/observations\n",
    "    \n",
    "    return cost"
   ]
  },
  {
   "cell_type": "code",
   "execution_count": null,
   "metadata": {
    "collapsed": true
   },
   "outputs": [],
   "source": [
    "class GradientDescent(object):\n",
    "    \"\"\"Preform the gradient descent optimization algorithm for an arbitrary\n",
    "    cost function.\n",
    "    \"\"\"\n",
    "\n",
    "    def __init__(self, cost, gradient, predict_func, \n",
    "                 alpha=0.01,\n",
    "                 num_iterations=10000):\n",
    "        \"\"\"Initialize the instance attributes of a GradientDescent object.\n",
    "\n",
    "        Parameters\n",
    "        ----------\n",
    "        cost: The cost function to be minimized.\n",
    "        gradient: The gradient of the cost function.\n",
    "        predict_func: A function to make predictions after the optimization has\n",
    "            converged.\n",
    "        alpha: The learning rate.\n",
    "        num_iterations: Number of iterations to use in the descent.\n",
    "\n",
    "        Returns\n",
    "        -------\n",
    "        self: The initialized GradientDescent object.\n",
    "        \"\"\"\n",
    "        \n",
    "        N = len(features)\n",
    "        \n",
    "        predictions = predict_proba(X, coeffs)\n",
    "        \n",
    "        gradient = np.dot(X.T, predictions - y)\n",
    "        \n",
    "        gradient /= N\n",
    "        \n",
    "        gradient *= lr\n",
    "        \n",
    "        coeffs -= gradient\n",
    "        \n",
    "        return coeffs\n",
    "        \n",
    "        # Initialize coefficients in run method once you know how many features\n",
    "        # you have.\n",
    "        self.coeffs = None\n",
    "        self.cost = cost\n",
    "        self.gradient = gradient\n",
    "        self.predict_func = predict_func\n",
    "        self.alpha = alpha\n",
    "        self.num_iterations = num_iterations"
   ]
  },
  {
   "cell_type": "code",
   "execution_count": null,
   "metadata": {
    "collapsed": true
   },
   "outputs": [],
   "source": [
    "def fit(self, X, y):\n",
    "        \"\"\"Run the gradient descent algorithm for num_iterations repetitions.\n",
    "\n",
    "        Parameters\n",
    "        ----------\n",
    "        X: A two dimensional numpy array.  The training data for the\n",
    "            optimization.\n",
    "        y: A one dimensional numpy array.  The training response for the\n",
    "            optimization.\n",
    "\n",
    "        Returns\n",
    "        -------\n",
    "        self:  The fit GradientDescent object.\n",
    "        \"\"\"\n",
    "        pass"
   ]
  },
  {
   "cell_type": "code",
   "execution_count": null,
   "metadata": {
    "collapsed": true
   },
   "outputs": [],
   "source": [
    "def predict(self, X):\n",
    "        \"\"\"Call self.predict_func to return predictions.\n",
    "\n",
    "        Parameters\n",
    "        ----------\n",
    "        X: Data to make predictions on.\n",
    "\n",
    "        Returns\n",
    "        -------\n",
    "        preds: A one dimensional numpy array of predictions.\n",
    "        \"\"\"\n",
    "        pass"
   ]
  },
  {
   "cell_type": "code",
   "execution_count": null,
   "metadata": {
    "collapsed": true
   },
   "outputs": [],
   "source": []
  }
 ],
 "metadata": {
  "kernelspec": {
   "display_name": "Python 2",
   "language": "python",
   "name": "python2"
  },
  "language_info": {
   "codemirror_mode": {
    "name": "ipython",
    "version": 2
   },
   "file_extension": ".py",
   "mimetype": "text/x-python",
   "name": "python",
   "nbconvert_exporter": "python",
   "pygments_lexer": "ipython2",
   "version": "2.7.13"
  }
 },
 "nbformat": 4,
 "nbformat_minor": 2
}
