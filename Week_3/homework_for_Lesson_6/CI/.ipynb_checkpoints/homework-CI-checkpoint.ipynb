{
 "cells": [
  {
   "cell_type": "markdown",
   "metadata": {},
   "source": [
    "# Population Inference and Confidence Interval\n",
    "\n",
    "Suppose Google sampled 200 of its employees and measured how long they are gone for lunch. Load the data data/lunch_hour.txt into a Numpy array and compute the mean lunch hour of the sample\n",
    "\n",
    "What is the sampling distribution of the sample mean? Explain your answer.\n",
    "\n",
    "Compute the standard error  given the sample. Based on the the standard error and the sample mean, compute the 95% confidence interval  .\n",
    "\n",
    "Interpret what the 95% confidence interval implies about the lunch hours of Google employees in general\n"
   ]
  },
  {
   "cell_type": "code",
   "execution_count": 2,
   "metadata": {
    "collapsed": true
   },
   "outputs": [],
   "source": [
    "import numpy as np\n",
    "lunch = np.loadtxt('data/lunch_hour.txt')"
   ]
  },
  {
   "cell_type": "code",
   "execution_count": 3,
   "metadata": {},
   "outputs": [
    {
     "data": {
      "text/plain": [
       "array([ 2.3,  2.5,  1.9,  2. ,  1.2,  1.7,  3. ,  1.4,  2. ,  2.4,  1.8,\n",
       "        3. ,  3. ,  3.2,  1.8,  2.9,  1.3,  2.5,  1.5,  1.8,  1.6,  1.6,\n",
       "        2.8,  2. ,  2. ,  2.7,  1.3,  3.1,  3.1,  1.4,  1.9,  1.6,  3.1,\n",
       "        2.6,  3.2,  2.1,  1.7,  2.6,  2.6,  1.7,  1.3,  1.5,  1.2,  2.9,\n",
       "        2. ,  1.2,  1.9,  2.7,  1.6,  1.5,  2.2,  2.1,  2.8,  2.9,  2.5,\n",
       "        1.4,  1.7,  2.9,  1.6,  2.2,  2.4,  2.8,  1.3,  2.4,  1.7,  2. ,\n",
       "        2.3,  1.8,  1.2,  1.5,  1.6,  1.2,  2.2,  1.3,  2.4,  2.4,  2.8,\n",
       "        2.6,  2.1,  2.8,  2.8,  1.6,  1.9,  3.2,  2.2,  1.5,  2.9,  1.8,\n",
       "        1.9,  2. ,  3.2,  2.7,  2.8,  1.4,  3.2,  3.1,  2.3,  1.6,  1.8,\n",
       "        1.7,  2. ,  1.3,  2.1,  2.5,  2.6,  2.5,  3. ,  2.8,  2.6,  2.6,\n",
       "        1.7,  2.8,  2.5,  2.3,  2.2,  2.2,  2. ,  1.5,  2.3,  2.2,  2.9,\n",
       "        1.8,  3.1,  2.2,  2.8,  2.1,  3. ,  2.4,  1.4,  2.7,  2.9,  2.5,\n",
       "        3.1,  2.5,  2.4,  2.5,  1.9,  2.1,  2.8,  3.1,  2.2,  1.5,  2.3,\n",
       "        2.4,  3.2,  1.2,  1.5,  3. ,  1.8,  1.6,  1.7,  2. ,  2.9,  2.4,\n",
       "        1.8,  1.3,  2.2,  1.6,  2.1,  1.6,  1.4,  1.6,  1.2,  2.6,  3.1,\n",
       "        2.9,  1.8,  1.7,  1.5,  2.4,  1.5,  2. ,  2.5,  2.5,  3. ,  2.9,\n",
       "        1.8,  3.1,  2.5,  2.7,  2.7,  2.1,  2.3,  3. ,  3. ,  2.2,  1.7,\n",
       "        1.4,  2. ,  2.1,  1.8,  1.4,  1.8,  2.1,  1.6,  3.1,  1.9,  1.8,\n",
       "        1.7,  1.9])"
      ]
     },
     "execution_count": 3,
     "metadata": {},
     "output_type": "execute_result"
    }
   ],
   "source": [
    "lunch"
   ]
  },
  {
   "cell_type": "code",
   "execution_count": 4,
   "metadata": {},
   "outputs": [
    {
     "name": "stdout",
     "output_type": "stream",
     "text": [
      "The mean of the sample is: 2.1845\n"
     ]
    }
   ],
   "source": [
    "x_bar = np.mean(lunch)\n",
    "print 'The mean of the sample is: ' + str(x_bar)"
   ]
  },
  {
   "cell_type": "markdown",
   "metadata": {},
   "source": [
    "What is the sampling distribution of the sample mean? Explain your answer."
   ]
  },
  {
   "cell_type": "markdown",
   "metadata": {},
   "source": [
    "The sampling distribution of the sample mean is essentially a relative frequency distribution of a very large number of samples.  A relative frequency distribution approaches the sampling distribution as the number of samples approaches infinity.  WHen a variable is discrete the heights of the distributions are probabilities, but when the variable is continuous, the class intervals have no width and the heights of the distributions are probability densities."
   ]
  },
  {
   "cell_type": "markdown",
   "metadata": {},
   "source": [
    "Compute the standard error  given the sample. Based on the the standard error and the sample mean, compute the 95% confidence interval  ."
   ]
  },
  {
   "cell_type": "code",
   "execution_count": 6,
   "metadata": {},
   "outputs": [
    {
     "data": {
      "text/plain": [
       "0.57877860479360688"
      ]
     },
     "execution_count": 6,
     "metadata": {},
     "output_type": "execute_result"
    }
   ],
   "source": [
    "se = np.std(lunch, ddof=1)\n",
    "se"
   ]
  },
  {
   "cell_type": "markdown",
   "metadata": {},
   "source": [
    "Interpret what the 95% confidence interval implies about the lunch hours of Google employees in general"
   ]
  },
  {
   "cell_type": "code",
   "execution_count": 8,
   "metadata": {},
   "outputs": [
    {
     "data": {
      "text/plain": [
       "2.1042853778539712"
      ]
     },
     "execution_count": 8,
     "metadata": {},
     "output_type": "execute_result"
    }
   ],
   "source": [
    "x_bar-1.96 * se/len(lunch)**.5"
   ]
  },
  {
   "cell_type": "code",
   "execution_count": 9,
   "metadata": {},
   "outputs": [
    {
     "data": {
      "text/plain": [
       "2.2647146221460286"
      ]
     },
     "execution_count": 9,
     "metadata": {},
     "output_type": "execute_result"
    }
   ],
   "source": [
    "x_bar+1.96*se/len(lunch)**.5"
   ]
  },
  {
   "cell_type": "markdown",
   "metadata": {},
   "source": [
    "So we are confident that in 95% of samples the true value of the mean lunch hour at Google contains the true mean.  Our confidence interval suggests that this is between 2.1042853778539712 hours (around 2 hours 6 minutes) and 2.2647146221460286 (2 and a quarter hours roughly), but in 5/100 cases we might miss the true mean."
   ]
  },
  {
   "cell_type": "markdown",
   "metadata": {},
   "source": [
    "If the sample size were smaller, how would that affect the 95% CI? Explain your answer. Suppose the sample size were 10, does your assumption from 2. still hold? Explain your answer"
   ]
  },
  {
   "cell_type": "markdown",
   "metadata": {
    "collapsed": true
   },
   "source": [
    "If the sample size is smaller, the size of the denominator is smaller and our confidence interval will be wider."
   ]
  },
  {
   "cell_type": "code",
   "execution_count": null,
   "metadata": {
    "collapsed": true
   },
   "outputs": [],
   "source": []
  }
 ],
 "metadata": {
  "kernelspec": {
   "display_name": "Python 2",
   "language": "python",
   "name": "python2"
  },
  "language_info": {
   "codemirror_mode": {
    "name": "ipython",
    "version": 2
   },
   "file_extension": ".py",
   "mimetype": "text/x-python",
   "name": "python",
   "nbconvert_exporter": "python",
   "pygments_lexer": "ipython2",
   "version": "2.7.13"
  }
 },
 "nbformat": 4,
 "nbformat_minor": 2
}
