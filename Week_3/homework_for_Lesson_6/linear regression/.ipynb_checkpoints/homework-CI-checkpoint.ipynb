{
 "cells": [
  {
   "cell_type": "markdown",
   "metadata": {},
   "source": [
    "# Population Inference and Confidence Interval\n",
    "\n",
    "Suppose Google sampled 200 of its employees and measured how long they are gone for lunch. Load the data data/lunch_hour.txt into a Numpy array and compute the mean lunch hour of the sample\n",
    "\n",
    "What is the sampling distribution of the sample mean? Explain your answer.\n",
    "\n",
    "Compute the standard error  given the sample. Based on the the standard error and the sample mean, compute the 95% confidence interval  .\n",
    "\n",
    "Interpret what the 95% confidence interval implies about the lunch hours of Google employees in general\n",
    "\n",
    "If the sample size were smaller, how would that affect the 95% CI? Explain your answer. Suppose the sample size were 10, does your assumption from 2. still hold? Explain your answer"
   ]
  },
  {
   "cell_type": "code",
   "execution_count": null,
   "metadata": {
    "collapsed": true
   },
   "outputs": [],
   "source": []
  }
 ],
 "metadata": {
  "kernelspec": {
   "display_name": "Python 2",
   "language": "python",
   "name": "python2"
  },
  "language_info": {
   "codemirror_mode": {
    "name": "ipython",
    "version": 2
   },
   "file_extension": ".py",
   "mimetype": "text/x-python",
   "name": "python",
   "nbconvert_exporter": "python",
   "pygments_lexer": "ipython2",
   "version": "2.7.13"
  }
 },
 "nbformat": 4,
 "nbformat_minor": 2
}
