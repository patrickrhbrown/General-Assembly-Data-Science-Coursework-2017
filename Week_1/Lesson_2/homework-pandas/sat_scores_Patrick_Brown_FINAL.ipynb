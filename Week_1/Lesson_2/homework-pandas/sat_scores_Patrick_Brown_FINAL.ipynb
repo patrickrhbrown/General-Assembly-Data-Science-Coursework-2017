{
 "cells": [
  {
   "cell_type": "markdown",
   "metadata": {},
   "source": [
    "# Pandas Test\n",
    "\n",
    "** In this test, we are looking for you to examine and describe a dataset.  With the loaded Dataset you will do some manipulation on the columns with your knowledge of lists and dictionaries.**\n",
    "\n",
    "** If you are not sure then always try and look up the answer where possible.  There are some links in the notebook.**"
   ]
  },
  {
   "cell_type": "markdown",
   "metadata": {},
   "source": [
    "## Step 1: Open the `sat_scores.csv` file. Investigate the data, and answer the questions below.\n",
    "\n",
    "The First three questions, please answer by writing and explaining the answer.  Use Python code from step 2."
   ]
  },
  {
   "cell_type": "markdown",
   "metadata": {},
   "source": [
    "##### 1. What does the data describe?"
   ]
  },
  {
   "cell_type": "markdown",
   "metadata": {},
   "source": [
    "The data describes:\n",
    "\n",
    "* State: a label for a sub-set of US states, in the form of a unique two letter string (including one record 'all' - see below)\n",
    "* Rate: the rate of participation of students in the SAT for each state, as an integer (including one record that gives the mean of the whole column)\n",
    "* Verbal: the mean verbal score on the SAT in the state in question, as an integer ranging from 482 to 593 (including one record that gives the mean of the whole column)\n",
    "* Math: the mean math score on the SAT in the state in question, as an integer ranging from 439 to 603 (including one record that gives the mean of the whole column)\n",
    "\n",
    "Given the changes to the SAT scoring system in recent years, it is difficult to determine which year the data belongs to, but it seems likely that the Math and Verbal columns are scored out of 800."
   ]
  },
  {
   "cell_type": "code",
   "execution_count": 157,
   "metadata": {},
   "outputs": [
    {
     "data": {
      "text/html": [
       "<div>\n",
       "<style>\n",
       "    .dataframe thead tr:only-child th {\n",
       "        text-align: right;\n",
       "    }\n",
       "\n",
       "    .dataframe thead th {\n",
       "        text-align: left;\n",
       "    }\n",
       "\n",
       "    .dataframe tbody tr th {\n",
       "        vertical-align: top;\n",
       "    }\n",
       "</style>\n",
       "<table border=\"1\" class=\"dataframe\">\n",
       "  <thead>\n",
       "    <tr style=\"text-align: right;\">\n",
       "      <th></th>\n",
       "      <th>State</th>\n",
       "      <th>Rate</th>\n",
       "      <th>Verbal</th>\n",
       "      <th>Math</th>\n",
       "    </tr>\n",
       "  </thead>\n",
       "  <tbody>\n",
       "    <tr>\n",
       "      <th>0</th>\n",
       "      <td>CT</td>\n",
       "      <td>82</td>\n",
       "      <td>509</td>\n",
       "      <td>510</td>\n",
       "    </tr>\n",
       "    <tr>\n",
       "      <th>1</th>\n",
       "      <td>NJ</td>\n",
       "      <td>81</td>\n",
       "      <td>499</td>\n",
       "      <td>513</td>\n",
       "    </tr>\n",
       "    <tr>\n",
       "      <th>2</th>\n",
       "      <td>MA</td>\n",
       "      <td>79</td>\n",
       "      <td>511</td>\n",
       "      <td>515</td>\n",
       "    </tr>\n",
       "    <tr>\n",
       "      <th>3</th>\n",
       "      <td>NY</td>\n",
       "      <td>77</td>\n",
       "      <td>495</td>\n",
       "      <td>505</td>\n",
       "    </tr>\n",
       "    <tr>\n",
       "      <th>4</th>\n",
       "      <td>NH</td>\n",
       "      <td>72</td>\n",
       "      <td>520</td>\n",
       "      <td>516</td>\n",
       "    </tr>\n",
       "  </tbody>\n",
       "</table>\n",
       "</div>"
      ],
      "text/plain": [
       "  State  Rate  Verbal  Math\n",
       "0    CT    82     509   510\n",
       "1    NJ    81     499   513\n",
       "2    MA    79     511   515\n",
       "3    NY    77     495   505\n",
       "4    NH    72     520   516"
      ]
     },
     "execution_count": 157,
     "metadata": {},
     "output_type": "execute_result"
    }
   ],
   "source": [
    "datafile.head()"
   ]
  },
  {
   "cell_type": "markdown",
   "metadata": {},
   "source": [
    "##### 2. Does the data look complete? Are there any obvious issues with the observations?"
   ]
  },
  {
   "cell_type": "code",
   "execution_count": 158,
   "metadata": {},
   "outputs": [
    {
     "data": {
      "text/html": [
       "<div>\n",
       "<style>\n",
       "    .dataframe thead tr:only-child th {\n",
       "        text-align: right;\n",
       "    }\n",
       "\n",
       "    .dataframe thead th {\n",
       "        text-align: left;\n",
       "    }\n",
       "\n",
       "    .dataframe tbody tr th {\n",
       "        vertical-align: top;\n",
       "    }\n",
       "</style>\n",
       "<table border=\"1\" class=\"dataframe\">\n",
       "  <thead>\n",
       "    <tr style=\"text-align: right;\">\n",
       "      <th></th>\n",
       "      <th>State</th>\n",
       "      <th>Rate</th>\n",
       "      <th>Verbal</th>\n",
       "      <th>Math</th>\n",
       "    </tr>\n",
       "  </thead>\n",
       "  <tbody>\n",
       "  </tbody>\n",
       "</table>\n",
       "</div>"
      ],
      "text/plain": [
       "Empty DataFrame\n",
       "Columns: [State, Rate, Verbal, Math]\n",
       "Index: []"
      ]
     },
     "execution_count": 158,
     "metadata": {},
     "output_type": "execute_result"
    }
   ],
   "source": [
    "nans = lambda datafile: datafile[datafile.isnull().any(axis=1)]\n",
    "nans(datafile)"
   ]
  },
  {
   "cell_type": "markdown",
   "metadata": {},
   "source": [
    "There does not appear to be any null or Nan data in the dataset.  \n",
    "\n",
    "51 records are included in the data.  This conforms to 50 states in the federal republic of the United States, plus the federal district of Washington D.C. It excludes Puerto Rico, which accounts for the remaining 1 out of 52 states.  \n",
    "\n",
    "It is not clear how the rate of acceptance is calculated.  A reasonable hypothesis would be that it is the percentage of student population that participate in the SAT in each state.  However, we do not know the denominator in this case, so it is difficult to make a firm assignment as to what the rate refers to without further investigation."
   ]
  },
  {
   "cell_type": "markdown",
   "metadata": {},
   "source": [
    "##### 3. Create a data dictionary for the dataset.\n",
    "\n",
    "Look up examples of this and try and make a simple table in Markdown\n",
    "\n",
    "[Markdown Cheatsheet](https://github.com/adam-p/markdown-here/wiki/Markdown-Cheatsheet#links)"
   ]
  },
  {
   "cell_type": "markdown",
   "metadata": {
    "collapsed": true
   },
   "source": [
    "| Foo           | Bar           | Baz   |Qux    |\n",
    "| ------------- |:-------------:|:-----:|-------:\n",
    "| nag nag nag   | Blah blah     | 10203 |Some   |\n",
    "| another row   | rhubarb       | natter|thing  |\n",
    "| another row   | are neat      | mutter|else   |\n"
   ]
  },
  {
   "cell_type": "markdown",
   "metadata": {},
   "source": [
    "## Step 2: Load the data."
   ]
  },
  {
   "cell_type": "markdown",
   "metadata": {},
   "source": [
    "##### 4. Load the data into a Pandas Dataframe"
   ]
  },
  {
   "cell_type": "code",
   "execution_count": 136,
   "metadata": {
    "collapsed": true,
    "scrolled": true
   },
   "outputs": [],
   "source": [
    "import pandas as pd\n",
    "import numpy as np\n",
    "import matplotlib.pyplot as plt\n",
    "\n",
    "file = pd.read_csv('sat_scores.csv', header='infer')\n",
    "datafile = file"
   ]
  },
  {
   "cell_type": "markdown",
   "metadata": {},
   "source": [
    "##### 5. Print the first six and last six rows of the Dataframe"
   ]
  },
  {
   "cell_type": "code",
   "execution_count": 137,
   "metadata": {
    "scrolled": true
   },
   "outputs": [
    {
     "data": {
      "text/html": [
       "<div>\n",
       "<style>\n",
       "    .dataframe thead tr:only-child th {\n",
       "        text-align: right;\n",
       "    }\n",
       "\n",
       "    .dataframe thead th {\n",
       "        text-align: left;\n",
       "    }\n",
       "\n",
       "    .dataframe tbody tr th {\n",
       "        vertical-align: top;\n",
       "    }\n",
       "</style>\n",
       "<table border=\"1\" class=\"dataframe\">\n",
       "  <thead>\n",
       "    <tr style=\"text-align: right;\">\n",
       "      <th></th>\n",
       "      <th>State</th>\n",
       "      <th>Rate</th>\n",
       "      <th>Verbal</th>\n",
       "      <th>Math</th>\n",
       "    </tr>\n",
       "  </thead>\n",
       "  <tbody>\n",
       "    <tr>\n",
       "      <th>0</th>\n",
       "      <td>CT</td>\n",
       "      <td>82</td>\n",
       "      <td>509</td>\n",
       "      <td>510</td>\n",
       "    </tr>\n",
       "    <tr>\n",
       "      <th>1</th>\n",
       "      <td>NJ</td>\n",
       "      <td>81</td>\n",
       "      <td>499</td>\n",
       "      <td>513</td>\n",
       "    </tr>\n",
       "    <tr>\n",
       "      <th>2</th>\n",
       "      <td>MA</td>\n",
       "      <td>79</td>\n",
       "      <td>511</td>\n",
       "      <td>515</td>\n",
       "    </tr>\n",
       "    <tr>\n",
       "      <th>3</th>\n",
       "      <td>NY</td>\n",
       "      <td>77</td>\n",
       "      <td>495</td>\n",
       "      <td>505</td>\n",
       "    </tr>\n",
       "    <tr>\n",
       "      <th>4</th>\n",
       "      <td>NH</td>\n",
       "      <td>72</td>\n",
       "      <td>520</td>\n",
       "      <td>516</td>\n",
       "    </tr>\n",
       "    <tr>\n",
       "      <th>5</th>\n",
       "      <td>RI</td>\n",
       "      <td>71</td>\n",
       "      <td>501</td>\n",
       "      <td>499</td>\n",
       "    </tr>\n",
       "  </tbody>\n",
       "</table>\n",
       "</div>"
      ],
      "text/plain": [
       "  State  Rate  Verbal  Math\n",
       "0    CT    82     509   510\n",
       "1    NJ    81     499   513\n",
       "2    MA    79     511   515\n",
       "3    NY    77     495   505\n",
       "4    NH    72     520   516\n",
       "5    RI    71     501   499"
      ]
     },
     "execution_count": 137,
     "metadata": {},
     "output_type": "execute_result"
    }
   ],
   "source": [
    "datafile.head(6)"
   ]
  },
  {
   "cell_type": "code",
   "execution_count": 138,
   "metadata": {},
   "outputs": [
    {
     "data": {
      "text/html": [
       "<div>\n",
       "<style>\n",
       "    .dataframe thead tr:only-child th {\n",
       "        text-align: right;\n",
       "    }\n",
       "\n",
       "    .dataframe thead th {\n",
       "        text-align: left;\n",
       "    }\n",
       "\n",
       "    .dataframe tbody tr th {\n",
       "        vertical-align: top;\n",
       "    }\n",
       "</style>\n",
       "<table border=\"1\" class=\"dataframe\">\n",
       "  <thead>\n",
       "    <tr style=\"text-align: right;\">\n",
       "      <th></th>\n",
       "      <th>State</th>\n",
       "      <th>Rate</th>\n",
       "      <th>Verbal</th>\n",
       "      <th>Math</th>\n",
       "    </tr>\n",
       "  </thead>\n",
       "  <tbody>\n",
       "    <tr>\n",
       "      <th>46</th>\n",
       "      <td>UT</td>\n",
       "      <td>5</td>\n",
       "      <td>575</td>\n",
       "      <td>570</td>\n",
       "    </tr>\n",
       "    <tr>\n",
       "      <th>47</th>\n",
       "      <td>IA</td>\n",
       "      <td>5</td>\n",
       "      <td>593</td>\n",
       "      <td>603</td>\n",
       "    </tr>\n",
       "    <tr>\n",
       "      <th>48</th>\n",
       "      <td>SD</td>\n",
       "      <td>4</td>\n",
       "      <td>577</td>\n",
       "      <td>582</td>\n",
       "    </tr>\n",
       "    <tr>\n",
       "      <th>49</th>\n",
       "      <td>ND</td>\n",
       "      <td>4</td>\n",
       "      <td>592</td>\n",
       "      <td>599</td>\n",
       "    </tr>\n",
       "    <tr>\n",
       "      <th>50</th>\n",
       "      <td>MS</td>\n",
       "      <td>4</td>\n",
       "      <td>566</td>\n",
       "      <td>551</td>\n",
       "    </tr>\n",
       "    <tr>\n",
       "      <th>51</th>\n",
       "      <td>All</td>\n",
       "      <td>45</td>\n",
       "      <td>506</td>\n",
       "      <td>514</td>\n",
       "    </tr>\n",
       "  </tbody>\n",
       "</table>\n",
       "</div>"
      ],
      "text/plain": [
       "   State  Rate  Verbal  Math\n",
       "46    UT     5     575   570\n",
       "47    IA     5     593   603\n",
       "48    SD     4     577   582\n",
       "49    ND     4     592   599\n",
       "50    MS     4     566   551\n",
       "51   All    45     506   514"
      ]
     },
     "execution_count": 138,
     "metadata": {},
     "output_type": "execute_result"
    }
   ],
   "source": [
    "datafile.tail(6)"
   ]
  },
  {
   "cell_type": "markdown",
   "metadata": {
    "collapsed": true
   },
   "source": [
    "##### 6. Show the Column labels from the data."
   ]
  },
  {
   "cell_type": "code",
   "execution_count": 139,
   "metadata": {},
   "outputs": [
    {
     "data": {
      "text/plain": [
       "array(['State', 'Rate', 'Verbal', 'Math'], dtype=object)"
      ]
     },
     "execution_count": 139,
     "metadata": {},
     "output_type": "execute_result"
    }
   ],
   "source": [
    "datafile.columns.values"
   ]
  },
  {
   "cell_type": "markdown",
   "metadata": {},
   "source": [
    "##### 7. Create a list of State names extracted from the data. Then Assign the state labels as the index"
   ]
  },
  {
   "cell_type": "code",
   "execution_count": null,
   "metadata": {
    "collapsed": true,
    "scrolled": true
   },
   "outputs": [],
   "source": []
  },
  {
   "cell_type": "markdown",
   "metadata": {},
   "source": [
    "Apologies - I couldn't work out how to do this.  When I assigned the States as a column name via pandas.dataframe.reindex, each of the rate, math and verbal columns filled with nans that were of type float and seemingly immutable. I did check for Nans before completing that transformation (I left Question 7 for last) so I'm not sure what went wrong. Grateful for a couple of mins to run through where things went awry if possible please.  Leaving my code in situ threw out a load of other work on this notebook so had to remove it so that the standard deviation function would work etc."
   ]
  },
  {
   "cell_type": "markdown",
   "metadata": {},
   "source": [
    "##### 8. Print the types of each column"
   ]
  },
  {
   "cell_type": "code",
   "execution_count": 140,
   "metadata": {},
   "outputs": [
    {
     "data": {
      "text/plain": [
       "State     object\n",
       "Rate       int64\n",
       "Verbal     int64\n",
       "Math       int64\n",
       "dtype: object"
      ]
     },
     "execution_count": 140,
     "metadata": {},
     "output_type": "execute_result"
    }
   ],
   "source": [
    "df1 = datafile\n",
    "df1.dtypes"
   ]
  },
  {
   "cell_type": "markdown",
   "metadata": {},
   "source": [
    "##### 9. Do any types need to be reassigned? If so, go ahead and do it or demonstrate how you would."
   ]
  },
  {
   "cell_type": "code",
   "execution_count": 141,
   "metadata": {},
   "outputs": [
    {
     "data": {
      "text/plain": [
       "0     82\n",
       "1     81\n",
       "2     79\n",
       "3     77\n",
       "4     72\n",
       "5     71\n",
       "6     71\n",
       "7     69\n",
       "8     69\n",
       "9     68\n",
       "10    67\n",
       "11    65\n",
       "12    65\n",
       "13    63\n",
       "14    60\n",
       "15    57\n",
       "16    56\n",
       "17    55\n",
       "18    54\n",
       "19    53\n",
       "20    53\n",
       "21    52\n",
       "22    51\n",
       "23    51\n",
       "24    34\n",
       "25    33\n",
       "26    31\n",
       "27    26\n",
       "28    23\n",
       "29    18\n",
       "30    17\n",
       "31    13\n",
       "32    13\n",
       "33    12\n",
       "34    12\n",
       "35    11\n",
       "36    11\n",
       "37     9\n",
       "38     9\n",
       "39     9\n",
       "40     8\n",
       "41     8\n",
       "42     8\n",
       "43     7\n",
       "44     6\n",
       "45     6\n",
       "46     5\n",
       "47     5\n",
       "48     4\n",
       "49     4\n",
       "50     4\n",
       "51    45\n",
       "Name: Rate, dtype: int64"
      ]
     },
     "execution_count": 141,
     "metadata": {},
     "output_type": "execute_result"
    }
   ],
   "source": [
    "datafile[\"Rate\"].astype(int) #know it's not necessary but just demonstrating how to go about this"
   ]
  },
  {
   "cell_type": "code",
   "execution_count": 142,
   "metadata": {},
   "outputs": [
    {
     "data": {
      "text/plain": [
       "0     509\n",
       "1     499\n",
       "2     511\n",
       "3     495\n",
       "4     520\n",
       "5     501\n",
       "6     500\n",
       "7     511\n",
       "8     506\n",
       "9     510\n",
       "10    501\n",
       "11    508\n",
       "12    493\n",
       "13    491\n",
       "14    499\n",
       "15    486\n",
       "16    482\n",
       "17    526\n",
       "18    498\n",
       "19    527\n",
       "20    493\n",
       "21    485\n",
       "22    514\n",
       "23    498\n",
       "24    523\n",
       "25    509\n",
       "26    539\n",
       "27    534\n",
       "28    539\n",
       "29    527\n",
       "30    543\n",
       "31    562\n",
       "32    551\n",
       "33    576\n",
       "34    550\n",
       "35    547\n",
       "36    561\n",
       "37    580\n",
       "38    577\n",
       "39    559\n",
       "40    562\n",
       "41    567\n",
       "42    577\n",
       "43    564\n",
       "44    584\n",
       "45    562\n",
       "46    575\n",
       "47    593\n",
       "48    577\n",
       "49    592\n",
       "50    566\n",
       "51    506\n",
       "Name: Verbal, dtype: int64"
      ]
     },
     "execution_count": 142,
     "metadata": {},
     "output_type": "execute_result"
    }
   ],
   "source": [
    "datafile[\"Verbal\"].astype(int)"
   ]
  },
  {
   "cell_type": "code",
   "execution_count": 143,
   "metadata": {},
   "outputs": [
    {
     "data": {
      "text/plain": [
       "0     510\n",
       "1     513\n",
       "2     515\n",
       "3     505\n",
       "4     516\n",
       "5     499\n",
       "6     499\n",
       "7     506\n",
       "8     500\n",
       "9     501\n",
       "10    499\n",
       "11    510\n",
       "12    499\n",
       "13    489\n",
       "14    501\n",
       "15    488\n",
       "16    474\n",
       "17    526\n",
       "18    499\n",
       "19    527\n",
       "20    499\n",
       "21    515\n",
       "22    510\n",
       "23    517\n",
       "24    525\n",
       "25    515\n",
       "26    542\n",
       "27    439\n",
       "28    539\n",
       "29    512\n",
       "30    542\n",
       "31    553\n",
       "32    542\n",
       "33    589\n",
       "34    550\n",
       "35    545\n",
       "36    572\n",
       "37    589\n",
       "38    580\n",
       "39    554\n",
       "40    568\n",
       "41    561\n",
       "42    577\n",
       "43    562\n",
       "44    596\n",
       "45    550\n",
       "46    570\n",
       "47    603\n",
       "48    582\n",
       "49    599\n",
       "50    551\n",
       "51    514\n",
       "Name: Math, dtype: int64"
      ]
     },
     "execution_count": 143,
     "metadata": {},
     "output_type": "execute_result"
    }
   ],
   "source": [
    "datafile[\"Math\"].astype(int)"
   ]
  },
  {
   "cell_type": "code",
   "execution_count": 144,
   "metadata": {},
   "outputs": [
    {
     "data": {
      "text/plain": [
       "State     object\n",
       "Rate       int64\n",
       "Verbal     int64\n",
       "Math       int64\n",
       "dtype: object"
      ]
     },
     "execution_count": 144,
     "metadata": {},
     "output_type": "execute_result"
    }
   ],
   "source": [
    "datafile.dtypes"
   ]
  },
  {
   "cell_type": "markdown",
   "metadata": {},
   "source": [
    "##### 10. Create a dictionary for each column mapping the State to its respective value for that column. "
   ]
  },
  {
   "cell_type": "code",
   "execution_count": 145,
   "metadata": {
    "collapsed": true
   },
   "outputs": [],
   "source": [
    "state = datafile['State']\n",
    "rate = datafile['Rate']\n",
    "verbal = datafile['Verbal']\n",
    "math = datafile['Math']"
   ]
  },
  {
   "cell_type": "code",
   "execution_count": 146,
   "metadata": {},
   "outputs": [
    {
     "data": {
      "text/plain": [
       "{'AK': 51,\n",
       " 'AL': 9,\n",
       " 'AR': 6,\n",
       " 'AZ': 34,\n",
       " 'All': 45,\n",
       " 'CA': 51,\n",
       " 'CO': 31,\n",
       " 'CT': 82,\n",
       " 'DC': 56,\n",
       " 'DE': 67,\n",
       " 'FL': 54,\n",
       " 'GA': 63,\n",
       " 'HI': 52,\n",
       " 'IA': 5,\n",
       " 'ID': 17,\n",
       " 'IL': 12,\n",
       " 'IN': 60,\n",
       " 'KS': 9,\n",
       " 'KY': 12,\n",
       " 'LA': 7,\n",
       " 'MA': 79,\n",
       " 'MD': 65,\n",
       " 'ME': 69,\n",
       " 'MI': 11,\n",
       " 'MN': 9,\n",
       " 'MO': 8,\n",
       " 'MS': 4,\n",
       " 'MT': 23,\n",
       " 'NC': 65,\n",
       " 'ND': 4,\n",
       " 'NE': 8,\n",
       " 'NH': 72,\n",
       " 'NJ': 81,\n",
       " 'NM': 13,\n",
       " 'NV': 33,\n",
       " 'NY': 77,\n",
       " 'OH': 26,\n",
       " 'OK': 8,\n",
       " 'OR': 55,\n",
       " 'PA': 71,\n",
       " 'RI': 71,\n",
       " 'SC': 57,\n",
       " 'SD': 4,\n",
       " 'TN': 13,\n",
       " 'TX': 53,\n",
       " 'UT': 5,\n",
       " 'VA': 68,\n",
       " 'VT': 69,\n",
       " 'WA': 53,\n",
       " 'WI': 6,\n",
       " 'WV': 18,\n",
       " 'WY': 11}"
      ]
     },
     "execution_count": 146,
     "metadata": {},
     "output_type": "execute_result"
    }
   ],
   "source": [
    "pd.Series(rate.values,index=state).to_dict()"
   ]
  },
  {
   "cell_type": "code",
   "execution_count": 147,
   "metadata": {},
   "outputs": [
    {
     "data": {
      "text/plain": [
       "{'AK': 510,\n",
       " 'AL': 554,\n",
       " 'AR': 550,\n",
       " 'AZ': 525,\n",
       " 'All': 514,\n",
       " 'CA': 517,\n",
       " 'CO': 542,\n",
       " 'CT': 510,\n",
       " 'DC': 474,\n",
       " 'DE': 499,\n",
       " 'FL': 499,\n",
       " 'GA': 489,\n",
       " 'HI': 515,\n",
       " 'IA': 603,\n",
       " 'ID': 542,\n",
       " 'IL': 589,\n",
       " 'IN': 501,\n",
       " 'KS': 580,\n",
       " 'KY': 550,\n",
       " 'LA': 562,\n",
       " 'MA': 515,\n",
       " 'MD': 510,\n",
       " 'ME': 500,\n",
       " 'MI': 572,\n",
       " 'MN': 589,\n",
       " 'MO': 577,\n",
       " 'MS': 551,\n",
       " 'MT': 539,\n",
       " 'NC': 499,\n",
       " 'ND': 599,\n",
       " 'NE': 568,\n",
       " 'NH': 516,\n",
       " 'NJ': 513,\n",
       " 'NM': 542,\n",
       " 'NV': 515,\n",
       " 'NY': 505,\n",
       " 'OH': 439,\n",
       " 'OK': 561,\n",
       " 'OR': 526,\n",
       " 'PA': 499,\n",
       " 'RI': 499,\n",
       " 'SC': 488,\n",
       " 'SD': 582,\n",
       " 'TN': 553,\n",
       " 'TX': 499,\n",
       " 'UT': 570,\n",
       " 'VA': 501,\n",
       " 'VT': 506,\n",
       " 'WA': 527,\n",
       " 'WI': 596,\n",
       " 'WV': 512,\n",
       " 'WY': 545}"
      ]
     },
     "execution_count": 147,
     "metadata": {},
     "output_type": "execute_result"
    }
   ],
   "source": [
    "pd.Series(math.values,index=state).to_dict()"
   ]
  },
  {
   "cell_type": "code",
   "execution_count": 148,
   "metadata": {},
   "outputs": [
    {
     "data": {
      "text/plain": [
       "{'AK': 514,\n",
       " 'AL': 559,\n",
       " 'AR': 562,\n",
       " 'AZ': 523,\n",
       " 'All': 506,\n",
       " 'CA': 498,\n",
       " 'CO': 539,\n",
       " 'CT': 509,\n",
       " 'DC': 482,\n",
       " 'DE': 501,\n",
       " 'FL': 498,\n",
       " 'GA': 491,\n",
       " 'HI': 485,\n",
       " 'IA': 593,\n",
       " 'ID': 543,\n",
       " 'IL': 576,\n",
       " 'IN': 499,\n",
       " 'KS': 577,\n",
       " 'KY': 550,\n",
       " 'LA': 564,\n",
       " 'MA': 511,\n",
       " 'MD': 508,\n",
       " 'ME': 506,\n",
       " 'MI': 561,\n",
       " 'MN': 580,\n",
       " 'MO': 577,\n",
       " 'MS': 566,\n",
       " 'MT': 539,\n",
       " 'NC': 493,\n",
       " 'ND': 592,\n",
       " 'NE': 562,\n",
       " 'NH': 520,\n",
       " 'NJ': 499,\n",
       " 'NM': 551,\n",
       " 'NV': 509,\n",
       " 'NY': 495,\n",
       " 'OH': 534,\n",
       " 'OK': 567,\n",
       " 'OR': 526,\n",
       " 'PA': 500,\n",
       " 'RI': 501,\n",
       " 'SC': 486,\n",
       " 'SD': 577,\n",
       " 'TN': 562,\n",
       " 'TX': 493,\n",
       " 'UT': 575,\n",
       " 'VA': 510,\n",
       " 'VT': 511,\n",
       " 'WA': 527,\n",
       " 'WI': 584,\n",
       " 'WV': 527,\n",
       " 'WY': 547}"
      ]
     },
     "execution_count": 148,
     "metadata": {},
     "output_type": "execute_result"
    }
   ],
   "source": [
    "pd.Series(verbal.values,index=state).to_dict()"
   ]
  },
  {
   "cell_type": "markdown",
   "metadata": {},
   "source": [
    "##### 11. Create a dictionary with the values for each of the numeric columns"
   ]
  },
  {
   "cell_type": "code",
   "execution_count": 149,
   "metadata": {},
   "outputs": [
    {
     "data": {
      "text/plain": [
       "{'Math': [510,\n",
       "  513,\n",
       "  515,\n",
       "  505,\n",
       "  516,\n",
       "  499,\n",
       "  499,\n",
       "  506,\n",
       "  500,\n",
       "  501,\n",
       "  499,\n",
       "  510,\n",
       "  499,\n",
       "  489,\n",
       "  501,\n",
       "  488,\n",
       "  474,\n",
       "  526,\n",
       "  499,\n",
       "  527,\n",
       "  499,\n",
       "  515,\n",
       "  510,\n",
       "  517,\n",
       "  525,\n",
       "  515,\n",
       "  542,\n",
       "  439,\n",
       "  539,\n",
       "  512,\n",
       "  542,\n",
       "  553,\n",
       "  542,\n",
       "  589,\n",
       "  550,\n",
       "  545,\n",
       "  572,\n",
       "  589,\n",
       "  580,\n",
       "  554,\n",
       "  568,\n",
       "  561,\n",
       "  577,\n",
       "  562,\n",
       "  596,\n",
       "  550,\n",
       "  570,\n",
       "  603,\n",
       "  582,\n",
       "  599,\n",
       "  551,\n",
       "  514],\n",
       " 'Rate': [82,\n",
       "  81,\n",
       "  79,\n",
       "  77,\n",
       "  72,\n",
       "  71,\n",
       "  71,\n",
       "  69,\n",
       "  69,\n",
       "  68,\n",
       "  67,\n",
       "  65,\n",
       "  65,\n",
       "  63,\n",
       "  60,\n",
       "  57,\n",
       "  56,\n",
       "  55,\n",
       "  54,\n",
       "  53,\n",
       "  53,\n",
       "  52,\n",
       "  51,\n",
       "  51,\n",
       "  34,\n",
       "  33,\n",
       "  31,\n",
       "  26,\n",
       "  23,\n",
       "  18,\n",
       "  17,\n",
       "  13,\n",
       "  13,\n",
       "  12,\n",
       "  12,\n",
       "  11,\n",
       "  11,\n",
       "  9,\n",
       "  9,\n",
       "  9,\n",
       "  8,\n",
       "  8,\n",
       "  8,\n",
       "  7,\n",
       "  6,\n",
       "  6,\n",
       "  5,\n",
       "  5,\n",
       "  4,\n",
       "  4,\n",
       "  4,\n",
       "  45],\n",
       " 'Verbal': [509,\n",
       "  499,\n",
       "  511,\n",
       "  495,\n",
       "  520,\n",
       "  501,\n",
       "  500,\n",
       "  511,\n",
       "  506,\n",
       "  510,\n",
       "  501,\n",
       "  508,\n",
       "  493,\n",
       "  491,\n",
       "  499,\n",
       "  486,\n",
       "  482,\n",
       "  526,\n",
       "  498,\n",
       "  527,\n",
       "  493,\n",
       "  485,\n",
       "  514,\n",
       "  498,\n",
       "  523,\n",
       "  509,\n",
       "  539,\n",
       "  534,\n",
       "  539,\n",
       "  527,\n",
       "  543,\n",
       "  562,\n",
       "  551,\n",
       "  576,\n",
       "  550,\n",
       "  547,\n",
       "  561,\n",
       "  580,\n",
       "  577,\n",
       "  559,\n",
       "  562,\n",
       "  567,\n",
       "  577,\n",
       "  564,\n",
       "  584,\n",
       "  562,\n",
       "  575,\n",
       "  593,\n",
       "  577,\n",
       "  592,\n",
       "  566,\n",
       "  506]}"
      ]
     },
     "execution_count": 149,
     "metadata": {},
     "output_type": "execute_result"
    }
   ],
   "source": [
    "new_dict = {\"Rate\": list(datafile[\"Rate\"]), \"Verbal\": list(datafile[\"Verbal\"]),\"Math\": list(datafile[\"Math\"])}\n",
    "new_dict"
   ]
  },
  {
   "cell_type": "markdown",
   "metadata": {},
   "source": [
    "## Step 3: Describe the data"
   ]
  },
  {
   "cell_type": "markdown",
   "metadata": {},
   "source": [
    "##### 12. Print the min and max of each column"
   ]
  },
  {
   "cell_type": "code",
   "execution_count": 150,
   "metadata": {},
   "outputs": [
    {
     "data": {
      "text/plain": [
       "State      AK\n",
       "Rate        4\n",
       "Verbal    482\n",
       "Math      439\n",
       "dtype: object"
      ]
     },
     "execution_count": 150,
     "metadata": {},
     "output_type": "execute_result"
    }
   ],
   "source": [
    "datafile.min()"
   ]
  },
  {
   "cell_type": "code",
   "execution_count": 151,
   "metadata": {},
   "outputs": [
    {
     "data": {
      "text/plain": [
       "State      WY\n",
       "Rate       82\n",
       "Verbal    593\n",
       "Math      603\n",
       "dtype: object"
      ]
     },
     "execution_count": 151,
     "metadata": {},
     "output_type": "execute_result"
    }
   ],
   "source": [
    "datafile.max()"
   ]
  },
  {
   "cell_type": "markdown",
   "metadata": {},
   "source": [
    "##### 13. Write a function using only list comprehensions, no loops, to compute Standard Deviation. Print the Standard Deviation of each numeric column.\n",
    "\n",
    "To calculate the standard deviation:\n",
    "\n",
    "1. Take the difference between each value in a column and the mean of that column.\n",
    "2. Square each difference value\n",
    "3. Find the Total of these differences (i.e. The SUM of all the differences)\n",
    "4. Divide by the number of values present to find the mean of these differences.  This gives the **Variance**\n",
    "5. Standard Deviation is the square root of the Variance"
   ]
  },
  {
   "cell_type": "code",
   "execution_count": 152,
   "metadata": {
    "collapsed": true
   },
   "outputs": [],
   "source": [
    "from math import sqrt\n",
    "\n",
    "def calculate_sigma(column):\n",
    "    n = len(column) \n",
    "    mean_value = sum(column) / float(len(column))\n",
    "    variance = sum([(i - mean_value)**2 for i in column]) / n\n",
    "    sigma = sqrt(variance)\n",
    "    return(sigma)"
   ]
  },
  {
   "cell_type": "code",
   "execution_count": 153,
   "metadata": {
    "collapsed": true
   },
   "outputs": [],
   "source": [
    "rate = datafile['Rate']\n",
    "math = datafile['Math']\n",
    "verbal = datafile['Verbal']"
   ]
  },
  {
   "cell_type": "code",
   "execution_count": 154,
   "metadata": {},
   "outputs": [
    {
     "name": "stdout",
     "output_type": "stream",
     "text": [
      "The standard deviation of the verbal data is:\n"
     ]
    },
    {
     "data": {
      "text/plain": [
       "32.915094961603266"
      ]
     },
     "execution_count": 154,
     "metadata": {},
     "output_type": "execute_result"
    }
   ],
   "source": [
    "print \"The standard deviation of the verbal data is:\"\n",
    "calculate_sigma(verbal)"
   ]
  },
  {
   "cell_type": "code",
   "execution_count": 155,
   "metadata": {},
   "outputs": [
    {
     "name": "stdout",
     "output_type": "stream",
     "text": [
      "The standard deviation of the math data is:\n"
     ]
    },
    {
     "data": {
      "text/plain": [
       "35.66699616430595"
      ]
     },
     "execution_count": 155,
     "metadata": {},
     "output_type": "execute_result"
    }
   ],
   "source": [
    "print \"The standard deviation of the math data is:\"\n",
    "calculate_sigma(math)"
   ]
  },
  {
   "cell_type": "code",
   "execution_count": 2,
   "metadata": {},
   "outputs": [
    {
     "name": "stdout",
     "output_type": "stream",
     "text": [
      "The standard deviation of the rate data is:\n"
     ]
    },
    {
     "ename": "NameError",
     "evalue": "name 'calculate_sigma' is not defined",
     "output_type": "error",
     "traceback": [
      "\u001b[0;31m---------------------------------------------------------------------------\u001b[0m",
      "\u001b[0;31mNameError\u001b[0m                                 Traceback (most recent call last)",
      "\u001b[0;32m<ipython-input-2-e20539502526>\u001b[0m in \u001b[0;36m<module>\u001b[0;34m()\u001b[0m\n\u001b[1;32m      1\u001b[0m \u001b[0;32mprint\u001b[0m \u001b[0;34m\"The standard deviation of the rate data is:\"\u001b[0m\u001b[0;34m\u001b[0m\u001b[0m\n\u001b[0;32m----> 2\u001b[0;31m \u001b[0mcalculate_sigma\u001b[0m\u001b[0;34m(\u001b[0m\u001b[0mrate\u001b[0m\u001b[0;34m)\u001b[0m\u001b[0;34m\u001b[0m\u001b[0m\n\u001b[0m",
      "\u001b[0;31mNameError\u001b[0m: name 'calculate_sigma' is not defined"
     ]
    }
   ],
   "source": [
    "print \"The standard deviation of the rate data is:\"\n",
    "calculate_sigma(rate)"
   ]
  },
  {
   "cell_type": "markdown",
   "metadata": {},
   "source": [
    "# Bonus\n",
    "## Step 4: Make a graph for each column using pandas or matplotlib\n",
    "\n",
    "See if you can work out by looking up documentation"
   ]
  },
  {
   "cell_type": "code",
   "execution_count": 22,
   "metadata": {},
   "outputs": [
    {
     "data": {
      "image/png": "[encoded data removed]",
      "text/plain": [
       "<matplotlib.figure.Figure at 0x1078d0350>"
      ]
     },
     "metadata": {},
     "output_type": "display_data"
    }
   ],
   "source": [
    "datafile.hist()\n",
    "plt.show()"
   ]
  },
  {
   "cell_type": "markdown",
   "metadata": {},
   "source": [
    "##### Are there any interesting relationships to note?"
   ]
  },
  {
   "cell_type": "markdown",
   "metadata": {
    "collapsed": true
   },
   "source": [
    "There appears to be a gap in the rate between two clusters of states, with rates of participation below 30-35 per cent and above 50 per cent.  It would be interesting to explore the geographic distribution of this difference, perhaps via  a chloropeth or heatmap.\n",
    "\n",
    "There is some negative skew, in the distribution of math and verbal scores.  Math seems to tail off more quickly, whereas verbal reasoning scores are (compared to math) more evenly distibuted, but with some pronounced peaks toward the top and bottom end."
   ]
  },
  {
   "cell_type": "code",
   "execution_count": null,
   "metadata": {
    "collapsed": true
   },
   "outputs": [],
   "source": []
  }
 ],
 "metadata": {
  "kernelspec": {
   "display_name": "Python 2",
   "language": "python",
   "name": "python2"
  },
  "language_info": {
   "codemirror_mode": {
    "name": "ipython",
    "version": 2
   },
   "file_extension": ".py",
   "mimetype": "text/x-python",
   "name": "python",
   "nbconvert_exporter": "python",
   "pygments_lexer": "ipython2",
   "version": "2.7.13"
  }
 },
 "nbformat": 4,
 "nbformat_minor": 1
}
