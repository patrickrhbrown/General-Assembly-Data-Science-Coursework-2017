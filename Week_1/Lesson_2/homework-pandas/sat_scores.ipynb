{
 "cells": [
  {
   "cell_type": "markdown",
   "metadata": {},
   "source": [
    "# Pandas Test\n",
    "\n",
    "** In this test, we are looking for you to examine and describe a dataset.  With the loaded Dataset you will do some manipulation on the columns with your knowledge of lists and dictionaries.**\n",
    "\n",
    "** If you are not sure then always try and look up the answer where possible.  There are some links in the notebook.**"
   ]
  },
  {
   "cell_type": "markdown",
   "metadata": {},
   "source": [
    "## Step 1: Open the `sat_scores.csv` file. Investigate the data, and answer the questions below.\n",
    "\n",
    "The First three questions, please answer by writing and explaining the answer.  Use Python code from step 2."
   ]
  },
  {
   "cell_type": "markdown",
   "metadata": {},
   "source": [
    "##### 1. What does the data describe?"
   ]
  },
  {
   "cell_type": "markdown",
   "metadata": {},
   "source": [
    "The data describes:\n",
    "\n",
    "* State: a label for a sub-set of US states, in the form of a unique two letter string\n",
    "* Rate: the rate of participation of students in the SAT for each state, as an integer\n",
    "* Verbal: the mean verbal score on the SAT in the state in question, as an integer ranging from 482 to 593\n",
    "* Math: the mean math score on the SAT in the state in question, as an integer ranging from 439 to 603\n",
    "\n",
    "Given the changes to the SAT scoring system in recent years, it is difficult to determine which year the data belongs to, but it seems likely that the Math and Verbal columns are scored out of 800."
   ]
  },
  {
   "cell_type": "code",
   "execution_count": 24,
   "metadata": {},
   "outputs": [
    {
     "data": {
      "text/html": [
       "<div>\n",
       "<style>\n",
       "    .dataframe thead tr:only-child th {\n",
       "        text-align: right;\n",
       "    }\n",
       "\n",
       "    .dataframe thead th {\n",
       "        text-align: left;\n",
       "    }\n",
       "\n",
       "    .dataframe tbody tr th {\n",
       "        vertical-align: top;\n",
       "    }\n",
       "</style>\n",
       "<table border=\"1\" class=\"dataframe\">\n",
       "  <thead>\n",
       "    <tr style=\"text-align: right;\">\n",
       "      <th></th>\n",
       "      <th>State</th>\n",
       "      <th>Rate</th>\n",
       "      <th>Verbal</th>\n",
       "      <th>Math</th>\n",
       "    </tr>\n",
       "  </thead>\n",
       "  <tbody>\n",
       "    <tr>\n",
       "      <th>0</th>\n",
       "      <td>CT</td>\n",
       "      <td>82</td>\n",
       "      <td>509</td>\n",
       "      <td>510</td>\n",
       "    </tr>\n",
       "    <tr>\n",
       "      <th>1</th>\n",
       "      <td>NJ</td>\n",
       "      <td>81</td>\n",
       "      <td>499</td>\n",
       "      <td>513</td>\n",
       "    </tr>\n",
       "    <tr>\n",
       "      <th>2</th>\n",
       "      <td>MA</td>\n",
       "      <td>79</td>\n",
       "      <td>511</td>\n",
       "      <td>515</td>\n",
       "    </tr>\n",
       "    <tr>\n",
       "      <th>3</th>\n",
       "      <td>NY</td>\n",
       "      <td>77</td>\n",
       "      <td>495</td>\n",
       "      <td>505</td>\n",
       "    </tr>\n",
       "    <tr>\n",
       "      <th>4</th>\n",
       "      <td>NH</td>\n",
       "      <td>72</td>\n",
       "      <td>520</td>\n",
       "      <td>516</td>\n",
       "    </tr>\n",
       "  </tbody>\n",
       "</table>\n",
       "</div>"
      ],
      "text/plain": [
       "  State  Rate  Verbal  Math\n",
       "0    CT    82     509   510\n",
       "1    NJ    81     499   513\n",
       "2    MA    79     511   515\n",
       "3    NY    77     495   505\n",
       "4    NH    72     520   516"
      ]
     },
     "execution_count": 24,
     "metadata": {},
     "output_type": "execute_result"
    }
   ],
   "source": [
    "datafile.head()"
   ]
  },
  {
   "cell_type": "markdown",
   "metadata": {},
   "source": [
    "##### 2. Does the data look complete? Are there any obvious issues with the observations?"
   ]
  },
  {
   "cell_type": "code",
   "execution_count": 8,
   "metadata": {},
   "outputs": [
    {
     "data": {
      "text/html": [
       "<div>\n",
       "<style>\n",
       "    .dataframe thead tr:only-child th {\n",
       "        text-align: right;\n",
       "    }\n",
       "\n",
       "    .dataframe thead th {\n",
       "        text-align: left;\n",
       "    }\n",
       "\n",
       "    .dataframe tbody tr th {\n",
       "        vertical-align: top;\n",
       "    }\n",
       "</style>\n",
       "<table border=\"1\" class=\"dataframe\">\n",
       "  <thead>\n",
       "    <tr style=\"text-align: right;\">\n",
       "      <th></th>\n",
       "      <th>State</th>\n",
       "      <th>Rate</th>\n",
       "      <th>Verbal</th>\n",
       "      <th>Math</th>\n",
       "    </tr>\n",
       "  </thead>\n",
       "  <tbody>\n",
       "  </tbody>\n",
       "</table>\n",
       "</div>"
      ],
      "text/plain": [
       "Empty DataFrame\n",
       "Columns: [State, Rate, Verbal, Math]\n",
       "Index: []"
      ]
     },
     "execution_count": 8,
     "metadata": {},
     "output_type": "execute_result"
    }
   ],
   "source": [
    "nans = lambda datafile: datafile[datafile.isnull().any(axis=1)]\n",
    "nans(datafile)"
   ]
  },
  {
   "cell_type": "markdown",
   "metadata": {},
   "source": [
    "There does not appear to be any null or Nan data in the dataset.  \n",
    "\n",
    "51 records are included in the data.  This conforms to 50 states in the federal republic of the United States, plus the federal district of Washington D.C. It excludes Puerto Rico, which accounts for the remaining 1 out of 52 states.  \n",
    "\n",
    "It is not clear how the rate of acceptance is calculated.  A reasonable hypothesis would be that it is the number of students that participate in the SAT per unit of state population (perhaps per hundred thousand of population)."
   ]
  },
  {
   "cell_type": "code",
   "execution_count": 22,
   "metadata": {},
   "outputs": [
    {
     "ename": "KeyError",
     "evalue": "\"Columns not found: 'WA', 'DE', 'DC', 'WI', 'WV', 'HI', 'FL', 'WY', 'NH', 'NJ', 'NM', 'TX', 'LA', 'NC', 'ND', 'NE', 'TN', 'NY', 'PA', 'RI', 'NV', 'VA', 'CO', 'AK', 'AL', 'AR', 'VT', 'IL', 'GA', 'IN', 'IA', 'MA', 'AZ', 'CA', 'ID', 'CT', 'ME', 'MD', 'OK', 'OH', 'UT', 'MO', 'MN', 'MI', 'KS', 'MT', 'MS', 'SC', 'KY', 'OR', 'SD'\"",
     "output_type": "error",
     "traceback": [
      "\u001b[0;31m---------------------------------------------------------------------------\u001b[0m",
      "\u001b[0;31mKeyError\u001b[0m                                  Traceback (most recent call last)",
      "\u001b[0;32m<ipython-input-22-f0392f98bea1>\u001b[0m in \u001b[0;36m<module>\u001b[0;34m()\u001b[0m\n\u001b[1;32m      2\u001b[0m \u001b[0mmath\u001b[0m \u001b[0;34m=\u001b[0m \u001b[0mdatafile\u001b[0m\u001b[0;34m[\u001b[0m\u001b[0;34m'Math'\u001b[0m\u001b[0;34m]\u001b[0m\u001b[0;34m\u001b[0m\u001b[0m\n\u001b[1;32m      3\u001b[0m \u001b[0mstate\u001b[0m \u001b[0;34m=\u001b[0m \u001b[0mdatafile\u001b[0m\u001b[0;34m[\u001b[0m\u001b[0;34m'State'\u001b[0m\u001b[0;34m]\u001b[0m\u001b[0;34m\u001b[0m\u001b[0m\n\u001b[0;32m----> 4\u001b[0;31m \u001b[0m_\u001b[0m \u001b[0;34m=\u001b[0m \u001b[0mdatafile\u001b[0m\u001b[0;34m.\u001b[0m\u001b[0mhist\u001b[0m\u001b[0;34m(\u001b[0m\u001b[0mstate\u001b[0m\u001b[0;34m,\u001b[0m \u001b[0mmath\u001b[0m\u001b[0;34m)\u001b[0m\u001b[0;34m\u001b[0m\u001b[0m\n\u001b[0m\u001b[1;32m      5\u001b[0m \u001b[0mplt\u001b[0m\u001b[0;34m.\u001b[0m\u001b[0mshow\u001b[0m\u001b[0;34m(\u001b[0m\u001b[0;34m)\u001b[0m\u001b[0;34m\u001b[0m\u001b[0m\n",
      "\u001b[0;32m/Users/patrickrhbrown/anaconda/lib/python2.7/site-packages/pandas/plotting/_core.pyc\u001b[0m in \u001b[0;36mhist_frame\u001b[0;34m(data, column, by, grid, xlabelsize, xrot, ylabelsize, yrot, ax, sharex, sharey, figsize, layout, bins, **kwds)\u001b[0m\n\u001b[1;32m   2111\u001b[0m                             \u001b[0mlayout\u001b[0m\u001b[0;34m=\u001b[0m\u001b[0mlayout\u001b[0m\u001b[0;34m,\u001b[0m \u001b[0mbins\u001b[0m\u001b[0;34m=\u001b[0m\u001b[0mbins\u001b[0m\u001b[0;34m,\u001b[0m \u001b[0mxlabelsize\u001b[0m\u001b[0;34m=\u001b[0m\u001b[0mxlabelsize\u001b[0m\u001b[0;34m,\u001b[0m\u001b[0;34m\u001b[0m\u001b[0m\n\u001b[1;32m   2112\u001b[0m                             \u001b[0mxrot\u001b[0m\u001b[0;34m=\u001b[0m\u001b[0mxrot\u001b[0m\u001b[0;34m,\u001b[0m \u001b[0mylabelsize\u001b[0m\u001b[0;34m=\u001b[0m\u001b[0mylabelsize\u001b[0m\u001b[0;34m,\u001b[0m\u001b[0;34m\u001b[0m\u001b[0m\n\u001b[0;32m-> 2113\u001b[0;31m                             yrot=yrot, **kwds)\n\u001b[0m\u001b[1;32m   2114\u001b[0m         \u001b[0;32mreturn\u001b[0m \u001b[0maxes\u001b[0m\u001b[0;34m\u001b[0m\u001b[0m\n\u001b[1;32m   2115\u001b[0m \u001b[0;34m\u001b[0m\u001b[0m\n",
      "\u001b[0;32m/Users/patrickrhbrown/anaconda/lib/python2.7/site-packages/pandas/plotting/_core.pyc\u001b[0m in \u001b[0;36mgrouped_hist\u001b[0;34m(data, column, by, ax, bins, figsize, layout, sharex, sharey, rot, grid, xlabelsize, xrot, ylabelsize, yrot, **kwargs)\u001b[0m\n\u001b[1;32m   2246\u001b[0m     fig, axes = _grouped_plot(plot_group, data, column=column,\n\u001b[1;32m   2247\u001b[0m                               \u001b[0mby\u001b[0m\u001b[0;34m=\u001b[0m\u001b[0mby\u001b[0m\u001b[0;34m,\u001b[0m \u001b[0msharex\u001b[0m\u001b[0;34m=\u001b[0m\u001b[0msharex\u001b[0m\u001b[0;34m,\u001b[0m \u001b[0msharey\u001b[0m\u001b[0;34m=\u001b[0m\u001b[0msharey\u001b[0m\u001b[0;34m,\u001b[0m \u001b[0max\u001b[0m\u001b[0;34m=\u001b[0m\u001b[0max\u001b[0m\u001b[0;34m,\u001b[0m\u001b[0;34m\u001b[0m\u001b[0m\n\u001b[0;32m-> 2248\u001b[0;31m                               figsize=figsize, layout=layout, rot=rot)\n\u001b[0m\u001b[1;32m   2249\u001b[0m \u001b[0;34m\u001b[0m\u001b[0m\n\u001b[1;32m   2250\u001b[0m     _set_ticks_props(axes, xlabelsize=xlabelsize, xrot=xrot,\n",
      "\u001b[0;32m/Users/patrickrhbrown/anaconda/lib/python2.7/site-packages/pandas/plotting/_core.pyc\u001b[0m in \u001b[0;36m_grouped_plot\u001b[0;34m(plotf, data, column, by, numeric_only, figsize, sharex, sharey, layout, rot, ax, **kwargs)\u001b[0m\n\u001b[1;32m   2346\u001b[0m     \u001b[0mgrouped\u001b[0m \u001b[0;34m=\u001b[0m \u001b[0mdata\u001b[0m\u001b[0;34m.\u001b[0m\u001b[0mgroupby\u001b[0m\u001b[0;34m(\u001b[0m\u001b[0mby\u001b[0m\u001b[0;34m)\u001b[0m\u001b[0;34m\u001b[0m\u001b[0m\n\u001b[1;32m   2347\u001b[0m     \u001b[0;32mif\u001b[0m \u001b[0mcolumn\u001b[0m \u001b[0;32mis\u001b[0m \u001b[0;32mnot\u001b[0m \u001b[0mNone\u001b[0m\u001b[0;34m:\u001b[0m\u001b[0;34m\u001b[0m\u001b[0m\n\u001b[0;32m-> 2348\u001b[0;31m         \u001b[0mgrouped\u001b[0m \u001b[0;34m=\u001b[0m \u001b[0mgrouped\u001b[0m\u001b[0;34m[\u001b[0m\u001b[0mcolumn\u001b[0m\u001b[0;34m]\u001b[0m\u001b[0;34m\u001b[0m\u001b[0m\n\u001b[0m\u001b[1;32m   2349\u001b[0m \u001b[0;34m\u001b[0m\u001b[0m\n\u001b[1;32m   2350\u001b[0m     \u001b[0mnaxes\u001b[0m \u001b[0;34m=\u001b[0m \u001b[0mlen\u001b[0m\u001b[0;34m(\u001b[0m\u001b[0mgrouped\u001b[0m\u001b[0;34m)\u001b[0m\u001b[0;34m\u001b[0m\u001b[0m\n",
      "\u001b[0;32m/Users/patrickrhbrown/anaconda/lib/python2.7/site-packages/pandas/core/base.pyc\u001b[0m in \u001b[0;36m__getitem__\u001b[0;34m(self, key)\u001b[0m\n\u001b[1;32m    342\u001b[0m                 \u001b[0mbad_keys\u001b[0m \u001b[0;34m=\u001b[0m \u001b[0mlist\u001b[0m\u001b[0;34m(\u001b[0m\u001b[0mset\u001b[0m\u001b[0;34m(\u001b[0m\u001b[0mkey\u001b[0m\u001b[0;34m)\u001b[0m\u001b[0;34m.\u001b[0m\u001b[0mdifference\u001b[0m\u001b[0;34m(\u001b[0m\u001b[0mself\u001b[0m\u001b[0;34m.\u001b[0m\u001b[0mobj\u001b[0m\u001b[0;34m.\u001b[0m\u001b[0mcolumns\u001b[0m\u001b[0;34m)\u001b[0m\u001b[0;34m)\u001b[0m\u001b[0;34m\u001b[0m\u001b[0m\n\u001b[1;32m    343\u001b[0m                 raise KeyError(\"Columns not found: %s\"\n\u001b[0;32m--> 344\u001b[0;31m                                % str(bad_keys)[1:-1])\n\u001b[0m\u001b[1;32m    345\u001b[0m             \u001b[0;32mreturn\u001b[0m \u001b[0mself\u001b[0m\u001b[0;34m.\u001b[0m\u001b[0m_gotitem\u001b[0m\u001b[0;34m(\u001b[0m\u001b[0mlist\u001b[0m\u001b[0;34m(\u001b[0m\u001b[0mkey\u001b[0m\u001b[0;34m)\u001b[0m\u001b[0;34m,\u001b[0m \u001b[0mndim\u001b[0m\u001b[0;34m=\u001b[0m\u001b[0;36m2\u001b[0m\u001b[0;34m)\u001b[0m\u001b[0;34m\u001b[0m\u001b[0m\n\u001b[1;32m    346\u001b[0m \u001b[0;34m\u001b[0m\u001b[0m\n",
      "\u001b[0;31mKeyError\u001b[0m: \"Columns not found: 'WA', 'DE', 'DC', 'WI', 'WV', 'HI', 'FL', 'WY', 'NH', 'NJ', 'NM', 'TX', 'LA', 'NC', 'ND', 'NE', 'TN', 'NY', 'PA', 'RI', 'NV', 'VA', 'CO', 'AK', 'AL', 'AR', 'VT', 'IL', 'GA', 'IN', 'IA', 'MA', 'AZ', 'CA', 'ID', 'CT', 'ME', 'MD', 'OK', 'OH', 'UT', 'MO', 'MN', 'MI', 'KS', 'MT', 'MS', 'SC', 'KY', 'OR', 'SD'\""
     ]
    }
   ],
   "source": [
    "verbal = datafile['Verbal']\n",
    "math = datafile['Math']\n",
    "state = datafile['State']\n",
    "_ = datafile.hist(state, math)\n",
    "plt.show()"
   ]
  },
  {
   "cell_type": "markdown",
   "metadata": {},
   "source": [
    "##### 3. Create a data dictionary for the dataset.\n",
    "\n",
    "Look up examples of this and try and make a simple table in Markdown\n",
    "\n",
    "[Markdown Cheatsheet](https://github.com/adam-p/markdown-here/wiki/Markdown-Cheatsheet#links)"
   ]
  },
  {
   "cell_type": "markdown",
   "metadata": {
    "collapsed": true
   },
   "source": [
    "| Foo           | Bar           | Baz   |Qux    |\n",
    "| ------------- |:-------------:|:-----:|-------:\n",
    "| nag nag nag   | Blah blah     | 10203 |Some   |\n",
    "| another row   | rhubarb       | natter|thing  |\n",
    "| another row   | are neat      | mutter|else   |\n"
   ]
  },
  {
   "cell_type": "markdown",
   "metadata": {},
   "source": [
    "## Step 2: Load the data."
   ]
  },
  {
   "cell_type": "markdown",
   "metadata": {},
   "source": [
    "##### 4. Load the data into a Pandas Dataframe"
   ]
  },
  {
   "cell_type": "code",
   "execution_count": 20,
   "metadata": {
    "scrolled": true
   },
   "outputs": [
    {
     "name": "stderr",
     "output_type": "stream",
     "text": [
      "/Users/patrickrhbrown/anaconda/lib/python2.7/site-packages/ipykernel_launcher.py:6: ParserWarning: Falling back to the 'python' engine because the 'c' engine does not support skipfooter; you can avoid this warning by specifying engine='python'.\n",
      "  \n"
     ]
    }
   ],
   "source": [
    "import pandas as pd\n",
    "import numpy as np\n",
    "import matplotlib.pyplot as plt\n",
    "import seaborn as sns\n",
    "\n",
    "file = pd.read_csv('sat_scores.csv', header='infer', skipfooter=1)\n",
    "datafile = file"
   ]
  },
  {
   "cell_type": "markdown",
   "metadata": {},
   "source": [
    "##### 5. Print the first six and last six rows of the Dataframe"
   ]
  },
  {
   "cell_type": "code",
   "execution_count": 21,
   "metadata": {
    "scrolled": true
   },
   "outputs": [
    {
     "data": {
      "text/html": [
       "<div>\n",
       "<style>\n",
       "    .dataframe thead tr:only-child th {\n",
       "        text-align: right;\n",
       "    }\n",
       "\n",
       "    .dataframe thead th {\n",
       "        text-align: left;\n",
       "    }\n",
       "\n",
       "    .dataframe tbody tr th {\n",
       "        vertical-align: top;\n",
       "    }\n",
       "</style>\n",
       "<table border=\"1\" class=\"dataframe\">\n",
       "  <thead>\n",
       "    <tr style=\"text-align: right;\">\n",
       "      <th></th>\n",
       "      <th>State</th>\n",
       "      <th>Rate</th>\n",
       "      <th>Verbal</th>\n",
       "      <th>Math</th>\n",
       "    </tr>\n",
       "  </thead>\n",
       "  <tbody>\n",
       "    <tr>\n",
       "      <th>0</th>\n",
       "      <td>CT</td>\n",
       "      <td>82</td>\n",
       "      <td>509</td>\n",
       "      <td>510</td>\n",
       "    </tr>\n",
       "    <tr>\n",
       "      <th>1</th>\n",
       "      <td>NJ</td>\n",
       "      <td>81</td>\n",
       "      <td>499</td>\n",
       "      <td>513</td>\n",
       "    </tr>\n",
       "    <tr>\n",
       "      <th>2</th>\n",
       "      <td>MA</td>\n",
       "      <td>79</td>\n",
       "      <td>511</td>\n",
       "      <td>515</td>\n",
       "    </tr>\n",
       "    <tr>\n",
       "      <th>3</th>\n",
       "      <td>NY</td>\n",
       "      <td>77</td>\n",
       "      <td>495</td>\n",
       "      <td>505</td>\n",
       "    </tr>\n",
       "    <tr>\n",
       "      <th>4</th>\n",
       "      <td>NH</td>\n",
       "      <td>72</td>\n",
       "      <td>520</td>\n",
       "      <td>516</td>\n",
       "    </tr>\n",
       "    <tr>\n",
       "      <th>5</th>\n",
       "      <td>RI</td>\n",
       "      <td>71</td>\n",
       "      <td>501</td>\n",
       "      <td>499</td>\n",
       "    </tr>\n",
       "  </tbody>\n",
       "</table>\n",
       "</div>"
      ],
      "text/plain": [
       "  State  Rate  Verbal  Math\n",
       "0    CT    82     509   510\n",
       "1    NJ    81     499   513\n",
       "2    MA    79     511   515\n",
       "3    NY    77     495   505\n",
       "4    NH    72     520   516\n",
       "5    RI    71     501   499"
      ]
     },
     "execution_count": 21,
     "metadata": {},
     "output_type": "execute_result"
    }
   ],
   "source": [
    "datafile.head(6)"
   ]
  },
  {
   "cell_type": "code",
   "execution_count": 3,
   "metadata": {},
   "outputs": [
    {
     "data": {
      "text/html": [
       "<div>\n",
       "<style>\n",
       "    .dataframe thead tr:only-child th {\n",
       "        text-align: right;\n",
       "    }\n",
       "\n",
       "    .dataframe thead th {\n",
       "        text-align: left;\n",
       "    }\n",
       "\n",
       "    .dataframe tbody tr th {\n",
       "        vertical-align: top;\n",
       "    }\n",
       "</style>\n",
       "<table border=\"1\" class=\"dataframe\">\n",
       "  <thead>\n",
       "    <tr style=\"text-align: right;\">\n",
       "      <th></th>\n",
       "      <th>State</th>\n",
       "      <th>Rate</th>\n",
       "      <th>Verbal</th>\n",
       "      <th>Math</th>\n",
       "    </tr>\n",
       "  </thead>\n",
       "  <tbody>\n",
       "    <tr>\n",
       "      <th>45</th>\n",
       "      <td>AR</td>\n",
       "      <td>6</td>\n",
       "      <td>562</td>\n",
       "      <td>550</td>\n",
       "    </tr>\n",
       "    <tr>\n",
       "      <th>46</th>\n",
       "      <td>UT</td>\n",
       "      <td>5</td>\n",
       "      <td>575</td>\n",
       "      <td>570</td>\n",
       "    </tr>\n",
       "    <tr>\n",
       "      <th>47</th>\n",
       "      <td>IA</td>\n",
       "      <td>5</td>\n",
       "      <td>593</td>\n",
       "      <td>603</td>\n",
       "    </tr>\n",
       "    <tr>\n",
       "      <th>48</th>\n",
       "      <td>SD</td>\n",
       "      <td>4</td>\n",
       "      <td>577</td>\n",
       "      <td>582</td>\n",
       "    </tr>\n",
       "    <tr>\n",
       "      <th>49</th>\n",
       "      <td>ND</td>\n",
       "      <td>4</td>\n",
       "      <td>592</td>\n",
       "      <td>599</td>\n",
       "    </tr>\n",
       "    <tr>\n",
       "      <th>50</th>\n",
       "      <td>MS</td>\n",
       "      <td>4</td>\n",
       "      <td>566</td>\n",
       "      <td>551</td>\n",
       "    </tr>\n",
       "  </tbody>\n",
       "</table>\n",
       "</div>"
      ],
      "text/plain": [
       "   State  Rate  Verbal  Math\n",
       "45    AR     6     562   550\n",
       "46    UT     5     575   570\n",
       "47    IA     5     593   603\n",
       "48    SD     4     577   582\n",
       "49    ND     4     592   599\n",
       "50    MS     4     566   551"
      ]
     },
     "execution_count": 3,
     "metadata": {},
     "output_type": "execute_result"
    }
   ],
   "source": [
    "datafile.tail(6)"
   ]
  },
  {
   "cell_type": "markdown",
   "metadata": {
    "collapsed": true
   },
   "source": [
    "##### 6. Show the Column labels from the data."
   ]
  },
  {
   "cell_type": "code",
   "execution_count": 25,
   "metadata": {},
   "outputs": [
    {
     "data": {
      "text/plain": [
       "array(['State', 'Rate', 'Verbal', 'Math'], dtype=object)"
      ]
     },
     "execution_count": 25,
     "metadata": {},
     "output_type": "execute_result"
    }
   ],
   "source": [
    "datafile.columns.values"
   ]
  },
  {
   "cell_type": "markdown",
   "metadata": {},
   "source": [
    "##### 7. Create a list of State names extracted from the data. Then Assign the state labels as the index"
   ]
  },
  {
   "cell_type": "code",
   "execution_count": 16,
   "metadata": {
    "scrolled": true
   },
   "outputs": [
    {
     "data": {
      "text/plain": [
       "51"
      ]
     },
     "execution_count": 16,
     "metadata": {},
     "output_type": "execute_result"
    }
   ],
   "source": [
    "\n",
    "\n",
    "State_Rate(dataframe..values,index=df.Position).to_dict()"
   ]
  },
  {
   "cell_type": "code",
   "execution_count": 63,
   "metadata": {},
   "outputs": [
    {
     "data": {
      "text/plain": [
       "22    AK\n",
       "39    AL\n",
       "45    AR\n",
       "24    AZ\n",
       "23    CA\n",
       "26    CO\n",
       "0     CT\n",
       "16    DC\n",
       "10    DE\n",
       "18    FL\n",
       "13    GA\n",
       "21    HI\n",
       "47    IA\n",
       "30    ID\n",
       "33    IL\n",
       "14    IN\n",
       "38    KS\n",
       "34    KY\n",
       "43    LA\n",
       "2     MA\n",
       "11    MD\n",
       "8     ME\n",
       "36    MI\n",
       "37    MN\n",
       "42    MO\n",
       "50    MS\n",
       "28    MT\n",
       "12    NC\n",
       "49    ND\n",
       "40    NE\n",
       "4     NH\n",
       "1     NJ\n",
       "32    NM\n",
       "25    NV\n",
       "3     NY\n",
       "27    OH\n",
       "41    OK\n",
       "17    OR\n",
       "6     PA\n",
       "5     RI\n",
       "15    SC\n",
       "48    SD\n",
       "31    TN\n",
       "20    TX\n",
       "46    UT\n",
       "9     VA\n",
       "7     VT\n",
       "19    WA\n",
       "44    WI\n",
       "29    WV\n",
       "35    WY\n",
       "Name: State, dtype: object"
      ]
     },
     "execution_count": 63,
     "metadata": {},
     "output_type": "execute_result"
    }
   ],
   "source": [
    "state_labels_sorted = state_labels.sort_values()\n",
    "state_labels_sorted"
   ]
  },
  {
   "cell_type": "code",
   "execution_count": 57,
   "metadata": {
    "collapsed": true
   },
   "outputs": [],
   "source": [
    "state_names = ['Alabama','Alaska','Arizona','Arkansas','California','Colorado',\n",
    "         'Connecticut','District of Columbia','Delaware','Florida','Georgia','Hawaii','Idaho', \n",
    "         'Illinois','Indiana','Iowa','Kansas','Kentucky','Louisiana',\n",
    "         'Maine' 'Maryland','Massachusetts','Michigan','Minnesota',\n",
    "         'Mississippi', 'Missouri','Montana','Nebraska','Nevada',\n",
    "         'New Hampshire','New Jersey','New Mexico','New York',\n",
    "         'North Carolina','North Dakota','Ohio',    \n",
    "         'Oklahoma','Oregon','Pennsylvania','Rhode Island',\n",
    "         'South  Carolina','South Dakota','Tennessee','Texas','Utah',\n",
    "         'Vermont','Virginia','Washington','West Virginia',\n",
    "         'Wisconsin','Wyoming']"
   ]
  },
  {
   "cell_type": "code",
   "execution_count": 59,
   "metadata": {},
   "outputs": [
    {
     "data": {
      "text/plain": [
       "50"
      ]
     },
     "execution_count": 59,
     "metadata": {},
     "output_type": "execute_result"
    }
   ],
   "source": [
    "len(state_names)"
   ]
  },
  {
   "cell_type": "markdown",
   "metadata": {},
   "source": [
    "##### 8. Print the types of each column"
   ]
  },
  {
   "cell_type": "code",
   "execution_count": 10,
   "metadata": {},
   "outputs": [
    {
     "data": {
      "text/plain": [
       "State     object\n",
       "Rate       int64\n",
       "Verbal     int64\n",
       "Math       int64\n",
       "dtype: object"
      ]
     },
     "execution_count": 10,
     "metadata": {},
     "output_type": "execute_result"
    }
   ],
   "source": [
    "datafile.dtypes"
   ]
  },
  {
   "cell_type": "markdown",
   "metadata": {},
   "source": [
    "##### 9. Do any types need to be reassigned? If so, go ahead and do it or demonstrate how you would."
   ]
  },
  {
   "cell_type": "markdown",
   "metadata": {},
   "source": [
    "Not sure they do at this point, since by inferring headers when we called the dataframe in the first instance, the Rate, Verbal and Math Columns have been inferred as int64 which is fine for our purposes as it effectively makes each of them useful numpy arrays.  If picky, we could change the state column to a column of strings, but we are about to do that in any case in creating a dictionary and reindexing by that column, so see below for that methodology.  Otherwise, we would use something like: `~~~~~~df.column_name = df.column_name.astype(int)~~~~~~`"
   ]
  },
  {
   "cell_type": "markdown",
   "metadata": {},
   "source": [
    "##### 10. Create a dictionary for each column mapping the State to its respective value for that column. "
   ]
  },
  {
   "cell_type": "code",
   "execution_count": 35,
   "metadata": {
    "collapsed": true
   },
   "outputs": [],
   "source": [
    "state = datafile['State']\n",
    "rate = datafile['Rate']\n",
    "verbal = datafile['Verbal']\n",
    "math = datafile['Math']"
   ]
  },
  {
   "cell_type": "code",
   "execution_count": 34,
   "metadata": {},
   "outputs": [
    {
     "data": {
      "text/plain": [
       "{'AK': 51,\n",
       " 'AL': 9,\n",
       " 'AR': 6,\n",
       " 'AZ': 34,\n",
       " 'CA': 51,\n",
       " 'CO': 31,\n",
       " 'CT': 82,\n",
       " 'DC': 56,\n",
       " 'DE': 67,\n",
       " 'FL': 54,\n",
       " 'GA': 63,\n",
       " 'HI': 52,\n",
       " 'IA': 5,\n",
       " 'ID': 17,\n",
       " 'IL': 12,\n",
       " 'IN': 60,\n",
       " 'KS': 9,\n",
       " 'KY': 12,\n",
       " 'LA': 7,\n",
       " 'MA': 79,\n",
       " 'MD': 65,\n",
       " 'ME': 69,\n",
       " 'MI': 11,\n",
       " 'MN': 9,\n",
       " 'MO': 8,\n",
       " 'MS': 4,\n",
       " 'MT': 23,\n",
       " 'NC': 65,\n",
       " 'ND': 4,\n",
       " 'NE': 8,\n",
       " 'NH': 72,\n",
       " 'NJ': 81,\n",
       " 'NM': 13,\n",
       " 'NV': 33,\n",
       " 'NY': 77,\n",
       " 'OH': 26,\n",
       " 'OK': 8,\n",
       " 'OR': 55,\n",
       " 'PA': 71,\n",
       " 'RI': 71,\n",
       " 'SC': 57,\n",
       " 'SD': 4,\n",
       " 'TN': 13,\n",
       " 'TX': 53,\n",
       " 'UT': 5,\n",
       " 'VA': 68,\n",
       " 'VT': 69,\n",
       " 'WA': 53,\n",
       " 'WI': 6,\n",
       " 'WV': 18,\n",
       " 'WY': 11}"
      ]
     },
     "execution_count": 34,
     "metadata": {},
     "output_type": "execute_result"
    }
   ],
   "source": [
    "pd.Series(rate.values,index=state).to_dict()"
   ]
  },
  {
   "cell_type": "code",
   "execution_count": 36,
   "metadata": {},
   "outputs": [
    {
     "data": {
      "text/plain": [
       "{'AK': 510,\n",
       " 'AL': 554,\n",
       " 'AR': 550,\n",
       " 'AZ': 525,\n",
       " 'CA': 517,\n",
       " 'CO': 542,\n",
       " 'CT': 510,\n",
       " 'DC': 474,\n",
       " 'DE': 499,\n",
       " 'FL': 499,\n",
       " 'GA': 489,\n",
       " 'HI': 515,\n",
       " 'IA': 603,\n",
       " 'ID': 542,\n",
       " 'IL': 589,\n",
       " 'IN': 501,\n",
       " 'KS': 580,\n",
       " 'KY': 550,\n",
       " 'LA': 562,\n",
       " 'MA': 515,\n",
       " 'MD': 510,\n",
       " 'ME': 500,\n",
       " 'MI': 572,\n",
       " 'MN': 589,\n",
       " 'MO': 577,\n",
       " 'MS': 551,\n",
       " 'MT': 539,\n",
       " 'NC': 499,\n",
       " 'ND': 599,\n",
       " 'NE': 568,\n",
       " 'NH': 516,\n",
       " 'NJ': 513,\n",
       " 'NM': 542,\n",
       " 'NV': 515,\n",
       " 'NY': 505,\n",
       " 'OH': 439,\n",
       " 'OK': 561,\n",
       " 'OR': 526,\n",
       " 'PA': 499,\n",
       " 'RI': 499,\n",
       " 'SC': 488,\n",
       " 'SD': 582,\n",
       " 'TN': 553,\n",
       " 'TX': 499,\n",
       " 'UT': 570,\n",
       " 'VA': 501,\n",
       " 'VT': 506,\n",
       " 'WA': 527,\n",
       " 'WI': 596,\n",
       " 'WV': 512,\n",
       " 'WY': 545}"
      ]
     },
     "execution_count": 36,
     "metadata": {},
     "output_type": "execute_result"
    }
   ],
   "source": [
    "pd.Series(math.values,index=state).to_dict()"
   ]
  },
  {
   "cell_type": "code",
   "execution_count": 37,
   "metadata": {},
   "outputs": [
    {
     "data": {
      "text/plain": [
       "{'AK': 514,\n",
       " 'AL': 559,\n",
       " 'AR': 562,\n",
       " 'AZ': 523,\n",
       " 'CA': 498,\n",
       " 'CO': 539,\n",
       " 'CT': 509,\n",
       " 'DC': 482,\n",
       " 'DE': 501,\n",
       " 'FL': 498,\n",
       " 'GA': 491,\n",
       " 'HI': 485,\n",
       " 'IA': 593,\n",
       " 'ID': 543,\n",
       " 'IL': 576,\n",
       " 'IN': 499,\n",
       " 'KS': 577,\n",
       " 'KY': 550,\n",
       " 'LA': 564,\n",
       " 'MA': 511,\n",
       " 'MD': 508,\n",
       " 'ME': 506,\n",
       " 'MI': 561,\n",
       " 'MN': 580,\n",
       " 'MO': 577,\n",
       " 'MS': 566,\n",
       " 'MT': 539,\n",
       " 'NC': 493,\n",
       " 'ND': 592,\n",
       " 'NE': 562,\n",
       " 'NH': 520,\n",
       " 'NJ': 499,\n",
       " 'NM': 551,\n",
       " 'NV': 509,\n",
       " 'NY': 495,\n",
       " 'OH': 534,\n",
       " 'OK': 567,\n",
       " 'OR': 526,\n",
       " 'PA': 500,\n",
       " 'RI': 501,\n",
       " 'SC': 486,\n",
       " 'SD': 577,\n",
       " 'TN': 562,\n",
       " 'TX': 493,\n",
       " 'UT': 575,\n",
       " 'VA': 510,\n",
       " 'VT': 511,\n",
       " 'WA': 527,\n",
       " 'WI': 584,\n",
       " 'WV': 527,\n",
       " 'WY': 547}"
      ]
     },
     "execution_count": 37,
     "metadata": {},
     "output_type": "execute_result"
    }
   ],
   "source": [
    "pd.Series(verbal.values,index=state).to_dict()"
   ]
  },
  {
   "cell_type": "markdown",
   "metadata": {},
   "source": [
    "##### 11. Create a dictionary with the values for each of the numeric columns"
   ]
  },
  {
   "cell_type": "code",
   "execution_count": 71,
   "metadata": {},
   "outputs": [
    {
     "data": {
      "text/html": [
       "<div>\n",
       "<style>\n",
       "    .dataframe thead tr:only-child th {\n",
       "        text-align: right;\n",
       "    }\n",
       "\n",
       "    .dataframe thead th {\n",
       "        text-align: left;\n",
       "    }\n",
       "\n",
       "    .dataframe tbody tr th {\n",
       "        vertical-align: top;\n",
       "    }\n",
       "</style>\n",
       "<table border=\"1\" class=\"dataframe\">\n",
       "  <thead>\n",
       "    <tr style=\"text-align: right;\">\n",
       "      <th></th>\n",
       "      <th>State</th>\n",
       "      <th>Rate</th>\n",
       "      <th>Verbal</th>\n",
       "      <th>Math</th>\n",
       "    </tr>\n",
       "  </thead>\n",
       "  <tbody>\n",
       "    <tr>\n",
       "      <th>0</th>\n",
       "      <td>CT</td>\n",
       "      <td>82</td>\n",
       "      <td>509</td>\n",
       "      <td>510</td>\n",
       "    </tr>\n",
       "    <tr>\n",
       "      <th>1</th>\n",
       "      <td>NJ</td>\n",
       "      <td>81</td>\n",
       "      <td>499</td>\n",
       "      <td>513</td>\n",
       "    </tr>\n",
       "    <tr>\n",
       "      <th>2</th>\n",
       "      <td>MA</td>\n",
       "      <td>79</td>\n",
       "      <td>511</td>\n",
       "      <td>515</td>\n",
       "    </tr>\n",
       "    <tr>\n",
       "      <th>3</th>\n",
       "      <td>NY</td>\n",
       "      <td>77</td>\n",
       "      <td>495</td>\n",
       "      <td>505</td>\n",
       "    </tr>\n",
       "    <tr>\n",
       "      <th>4</th>\n",
       "      <td>NH</td>\n",
       "      <td>72</td>\n",
       "      <td>520</td>\n",
       "      <td>516</td>\n",
       "    </tr>\n",
       "  </tbody>\n",
       "</table>\n",
       "</div>"
      ],
      "text/plain": [
       "  State  Rate  Verbal  Math\n",
       "0    CT    82     509   510\n",
       "1    NJ    81     499   513\n",
       "2    MA    79     511   515\n",
       "3    NY    77     495   505\n",
       "4    NH    72     520   516"
      ]
     },
     "execution_count": 71,
     "metadata": {},
     "output_type": "execute_result"
    }
   ],
   "source": [
    "datafile.head()"
   ]
  },
  {
   "cell_type": "markdown",
   "metadata": {},
   "source": [
    "## Step 3: Describe the data"
   ]
  },
  {
   "cell_type": "markdown",
   "metadata": {},
   "source": [
    "##### 12. Print the min and max of each column"
   ]
  },
  {
   "cell_type": "code",
   "execution_count": 72,
   "metadata": {},
   "outputs": [
    {
     "data": {
      "text/plain": [
       "State      AK\n",
       "Rate        4\n",
       "Verbal    482\n",
       "Math      439\n",
       "dtype: object"
      ]
     },
     "execution_count": 72,
     "metadata": {},
     "output_type": "execute_result"
    }
   ],
   "source": [
    "datafile.min()"
   ]
  },
  {
   "cell_type": "code",
   "execution_count": 73,
   "metadata": {},
   "outputs": [
    {
     "data": {
      "text/plain": [
       "State      WY\n",
       "Rate       82\n",
       "Verbal    593\n",
       "Math      603\n",
       "dtype: object"
      ]
     },
     "execution_count": 73,
     "metadata": {},
     "output_type": "execute_result"
    }
   ],
   "source": [
    "datafile.max()"
   ]
  },
  {
   "cell_type": "markdown",
   "metadata": {},
   "source": [
    "##### 13. Write a function using only list comprehensions, no loops, to compute Standard Deviation. Print the Standard Deviation of each numeric column.\n",
    "\n",
    "To calculate the standard deviation:\n",
    "\n",
    "1. Take the difference between each value in a column and the mean of that column.\n",
    "2. Square each difference value\n",
    "3. Find the Total of these differences (i.e. The SUM of all the differences)\n",
    "4. Divide by the number of values present to find the mean of these differences.  This gives the **Variance**\n",
    "5. Standard Deviation is the square root of the Variance"
   ]
  },
  {
   "cell_type": "code",
   "execution_count": 46,
   "metadata": {
    "collapsed": true
   },
   "outputs": [],
   "source": [
    "from math import sqrt\n",
    "\n",
    "def calculate_sigma(column):\n",
    "    n = len(column) \n",
    "    mean_value = sum(column) / float(len(column))\n",
    "    variance = sum([(i - mean_value)**2 for i in column]) / n\n",
    "    sigma = sqrt(variance)\n",
    "    return(sigma)"
   ]
  },
  {
   "cell_type": "code",
   "execution_count": 47,
   "metadata": {
    "collapsed": true
   },
   "outputs": [],
   "source": [
    "rate = datafile['Rate']\n",
    "math = datafile['Math']\n",
    "verbal = datafile['Verbal']"
   ]
  },
  {
   "cell_type": "code",
   "execution_count": 48,
   "metadata": {},
   "outputs": [
    {
     "name": "stdout",
     "output_type": "stream",
     "text": [
      "The standard deviation of the verbal data is:\n"
     ]
    },
    {
     "data": {
      "text/plain": [
       "33.03198268415228"
      ]
     },
     "execution_count": 48,
     "metadata": {},
     "output_type": "execute_result"
    }
   ],
   "source": [
    "print \"The standard deviation of the verbal data is:\"\n",
    "calculate_sigma(verbal)"
   ]
  },
  {
   "cell_type": "code",
   "execution_count": 49,
   "metadata": {},
   "outputs": [
    {
     "name": "stdout",
     "output_type": "stream",
     "text": [
      "The standard deviation of the math data is:\n"
     ]
    },
    {
     "data": {
      "text/plain": [
       "35.92987317311408"
      ]
     },
     "execution_count": 49,
     "metadata": {},
     "output_type": "execute_result"
    }
   ],
   "source": [
    "print \"The standard deviation of the math data is:\"\n",
    "calculate_sigma(math)"
   ]
  },
  {
   "cell_type": "code",
   "execution_count": 50,
   "metadata": {},
   "outputs": [
    {
     "name": "stdout",
     "output_type": "stream",
     "text": [
      "The standard deviation of the rate data is:\n"
     ]
    },
    {
     "data": {
      "text/plain": [
       "27.27923867605359"
      ]
     },
     "execution_count": 50,
     "metadata": {},
     "output_type": "execute_result"
    }
   ],
   "source": [
    "print \"The standard deviation of the rate data is:\"\n",
    "calculate_sigma(rate)"
   ]
  },
  {
   "cell_type": "markdown",
   "metadata": {},
   "source": [
    "# Bonus\n",
    "## Step 4: Make a graph for each column using pandas or matplotlib\n",
    "\n",
    "See if you can work out by looking up documentation"
   ]
  },
  {
   "cell_type": "code",
   "execution_count": 8,
   "metadata": {},
   "outputs": [
    {
     "data": {
      "image/png": "[encoded data removed]",
      "text/plain": [
       "<matplotlib.figure.Figure at 0x10f1f7210>"
      ]
     },
     "metadata": {},
     "output_type": "display_data"
    }
   ],
   "source": [
    "datafile.hist()\n",
    "plt.show()"
   ]
  },
  {
   "cell_type": "markdown",
   "metadata": {},
   "source": [
    "##### Are there any interesting relationships to note?"
   ]
  },
  {
   "cell_type": "markdown",
   "metadata": {
    "collapsed": true
   },
   "source": [
    "There appears to be a gap in the rate between two clusters of states, with rates of participation below 50 per cent and above 50 per cent.  It would be interesting to explore the geographic distribution of this difference, perhaps via  a chloropeth or heatmap.\n",
    "\n",
    "There is some negative skew, in the distribution of math and verbal scores.  Math seems to tail off more quickly, whereas verbal reasoning scores are (compared to math) more evenly distibuted, but with some pronounced peaks toward the top and bottom end."
   ]
  },
  {
   "cell_type": "code",
   "execution_count": null,
   "metadata": {
    "collapsed": true
   },
   "outputs": [],
   "source": []
  }
 ],
 "metadata": {
  "kernelspec": {
   "display_name": "Python 2",
   "language": "python",
   "name": "python2"
  },
  "language_info": {
   "codemirror_mode": {
    "name": "ipython",
    "version": 2
   },
   "file_extension": ".py",
   "mimetype": "text/x-python",
   "name": "python",
   "nbconvert_exporter": "python",
   "pygments_lexer": "ipython2",
   "version": "2.7.13"
  }
 },
 "nbformat": 4,
 "nbformat_minor": 1
}
