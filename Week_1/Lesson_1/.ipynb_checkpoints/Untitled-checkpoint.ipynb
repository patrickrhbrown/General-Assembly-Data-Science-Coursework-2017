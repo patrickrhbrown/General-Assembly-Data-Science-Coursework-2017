{
 "cells": [
  {
   "cell_type": "code",
   "execution_count": 3,
   "metadata": {
    "collapsed": true
   },
   "outputs": [],
   "source": [
    "import pandas as pd"
   ]
  },
  {
   "cell_type": "code",
   "execution_count": 9,
   "metadata": {},
   "outputs": [
    {
     "name": "stdout",
     "output_type": "stream",
     "text": [
      "/Users/patrickrhbrown/Documents/GeneralAssembly/Week 1/Lesson 1\r\n"
     ]
    }
   ],
   "source": [
    "!pwd"
   ]
  },
  {
   "cell_type": "code",
   "execution_count": 38,
   "metadata": {},
   "outputs": [
    {
     "data": {
      "text/html": [
       "<div>\n",
       "<style>\n",
       "    .dataframe thead tr:only-child th {\n",
       "        text-align: right;\n",
       "    }\n",
       "\n",
       "    .dataframe thead th {\n",
       "        text-align: left;\n",
       "    }\n",
       "\n",
       "    .dataframe tbody tr th {\n",
       "        vertical-align: top;\n",
       "    }\n",
       "</style>\n",
       "<table border=\"1\" class=\"dataframe\">\n",
       "  <thead>\n",
       "    <tr style=\"text-align: right;\">\n",
       "      <th></th>\n",
       "      <th>mpg</th>\n",
       "      <th>cylinders</th>\n",
       "      <th>displacement</th>\n",
       "      <th>horsepower</th>\n",
       "      <th>weight</th>\n",
       "      <th>acceleration</th>\n",
       "      <th>year</th>\n",
       "      <th>origin</th>\n",
       "      <th>name</th>\n",
       "    </tr>\n",
       "  </thead>\n",
       "  <tbody>\n",
       "    <tr>\n",
       "      <th>0</th>\n",
       "      <td>18.0</td>\n",
       "      <td>8</td>\n",
       "      <td>307.0</td>\n",
       "      <td>130</td>\n",
       "      <td>3504</td>\n",
       "      <td>12.0</td>\n",
       "      <td>70</td>\n",
       "      <td>1</td>\n",
       "      <td>chevrolet chevelle malibu</td>\n",
       "    </tr>\n",
       "    <tr>\n",
       "      <th>1</th>\n",
       "      <td>15.0</td>\n",
       "      <td>8</td>\n",
       "      <td>350.0</td>\n",
       "      <td>165</td>\n",
       "      <td>3693</td>\n",
       "      <td>11.5</td>\n",
       "      <td>70</td>\n",
       "      <td>1</td>\n",
       "      <td>buick skylark 320</td>\n",
       "    </tr>\n",
       "    <tr>\n",
       "      <th>2</th>\n",
       "      <td>18.0</td>\n",
       "      <td>8</td>\n",
       "      <td>318.0</td>\n",
       "      <td>150</td>\n",
       "      <td>3436</td>\n",
       "      <td>11.0</td>\n",
       "      <td>70</td>\n",
       "      <td>1</td>\n",
       "      <td>plymouth satellite</td>\n",
       "    </tr>\n",
       "    <tr>\n",
       "      <th>3</th>\n",
       "      <td>16.0</td>\n",
       "      <td>8</td>\n",
       "      <td>304.0</td>\n",
       "      <td>150</td>\n",
       "      <td>3433</td>\n",
       "      <td>12.0</td>\n",
       "      <td>70</td>\n",
       "      <td>1</td>\n",
       "      <td>amc rebel sst</td>\n",
       "    </tr>\n",
       "    <tr>\n",
       "      <th>4</th>\n",
       "      <td>17.0</td>\n",
       "      <td>8</td>\n",
       "      <td>302.0</td>\n",
       "      <td>140</td>\n",
       "      <td>3449</td>\n",
       "      <td>10.5</td>\n",
       "      <td>70</td>\n",
       "      <td>1</td>\n",
       "      <td>ford torino</td>\n",
       "    </tr>\n",
       "  </tbody>\n",
       "</table>\n",
       "</div>"
      ],
      "text/plain": [
       "    mpg  cylinders  displacement horsepower  weight  acceleration  year  \\\n",
       "0  18.0          8         307.0        130    3504          12.0    70   \n",
       "1  15.0          8         350.0        165    3693          11.5    70   \n",
       "2  18.0          8         318.0        150    3436          11.0    70   \n",
       "3  16.0          8         304.0        150    3433          12.0    70   \n",
       "4  17.0          8         302.0        140    3449          10.5    70   \n",
       "\n",
       "   origin                       name  \n",
       "0       1  chevrolet chevelle malibu  \n",
       "1       1          buick skylark 320  \n",
       "2       1         plymouth satellite  \n",
       "3       1              amc rebel sst  \n",
       "4       1                ford torino  "
      ]
     },
     "execution_count": 38,
     "metadata": {},
     "output_type": "execute_result"
    }
   ],
   "source": [
    "file = pd.read_excel('file:///Users/patrickrhbrown/Documents/GeneralAssembly/Week 1/Lesson 1/Lesson-02_activity1.xlsx', columns =('mpg','cylinders','displacement','horsepower','weight','acceleration','year','origin','name')) \n",
    "file.head()"
   ]
  },
  {
   "cell_type": "code",
   "execution_count": 41,
   "metadata": {},
   "outputs": [
    {
     "data": {
      "text/html": [
       "<div>\n",
       "<style>\n",
       "    .dataframe thead tr:only-child th {\n",
       "        text-align: right;\n",
       "    }\n",
       "\n",
       "    .dataframe thead th {\n",
       "        text-align: left;\n",
       "    }\n",
       "\n",
       "    .dataframe tbody tr th {\n",
       "        vertical-align: top;\n",
       "    }\n",
       "</style>\n",
       "<table border=\"1\" class=\"dataframe\">\n",
       "  <thead>\n",
       "    <tr style=\"text-align: right;\">\n",
       "      <th></th>\n",
       "      <th>mpg</th>\n",
       "      <th>cylinders</th>\n",
       "      <th>displacement</th>\n",
       "      <th>weight</th>\n",
       "      <th>acceleration</th>\n",
       "      <th>year</th>\n",
       "      <th>origin</th>\n",
       "    </tr>\n",
       "  </thead>\n",
       "  <tbody>\n",
       "    <tr>\n",
       "      <th>count</th>\n",
       "      <td>397.000000</td>\n",
       "      <td>397.000000</td>\n",
       "      <td>397.000000</td>\n",
       "      <td>397.000000</td>\n",
       "      <td>397.000000</td>\n",
       "      <td>397.000000</td>\n",
       "      <td>397.000000</td>\n",
       "    </tr>\n",
       "    <tr>\n",
       "      <th>mean</th>\n",
       "      <td>23.515869</td>\n",
       "      <td>5.458438</td>\n",
       "      <td>193.532746</td>\n",
       "      <td>2970.261965</td>\n",
       "      <td>15.555668</td>\n",
       "      <td>75.994962</td>\n",
       "      <td>1.574307</td>\n",
       "    </tr>\n",
       "    <tr>\n",
       "      <th>std</th>\n",
       "      <td>7.825804</td>\n",
       "      <td>1.701577</td>\n",
       "      <td>104.379583</td>\n",
       "      <td>847.904119</td>\n",
       "      <td>2.749995</td>\n",
       "      <td>3.690005</td>\n",
       "      <td>0.802549</td>\n",
       "    </tr>\n",
       "    <tr>\n",
       "      <th>min</th>\n",
       "      <td>9.000000</td>\n",
       "      <td>3.000000</td>\n",
       "      <td>68.000000</td>\n",
       "      <td>1613.000000</td>\n",
       "      <td>8.000000</td>\n",
       "      <td>70.000000</td>\n",
       "      <td>1.000000</td>\n",
       "    </tr>\n",
       "    <tr>\n",
       "      <th>25%</th>\n",
       "      <td>17.500000</td>\n",
       "      <td>4.000000</td>\n",
       "      <td>104.000000</td>\n",
       "      <td>2223.000000</td>\n",
       "      <td>13.800000</td>\n",
       "      <td>73.000000</td>\n",
       "      <td>1.000000</td>\n",
       "    </tr>\n",
       "    <tr>\n",
       "      <th>50%</th>\n",
       "      <td>23.000000</td>\n",
       "      <td>4.000000</td>\n",
       "      <td>146.000000</td>\n",
       "      <td>2800.000000</td>\n",
       "      <td>15.500000</td>\n",
       "      <td>76.000000</td>\n",
       "      <td>1.000000</td>\n",
       "    </tr>\n",
       "    <tr>\n",
       "      <th>75%</th>\n",
       "      <td>29.000000</td>\n",
       "      <td>8.000000</td>\n",
       "      <td>262.000000</td>\n",
       "      <td>3609.000000</td>\n",
       "      <td>17.100000</td>\n",
       "      <td>79.000000</td>\n",
       "      <td>2.000000</td>\n",
       "    </tr>\n",
       "    <tr>\n",
       "      <th>max</th>\n",
       "      <td>46.600000</td>\n",
       "      <td>8.000000</td>\n",
       "      <td>455.000000</td>\n",
       "      <td>5140.000000</td>\n",
       "      <td>24.800000</td>\n",
       "      <td>82.000000</td>\n",
       "      <td>3.000000</td>\n",
       "    </tr>\n",
       "  </tbody>\n",
       "</table>\n",
       "</div>"
      ],
      "text/plain": [
       "              mpg   cylinders  displacement       weight  acceleration  \\\n",
       "count  397.000000  397.000000    397.000000   397.000000    397.000000   \n",
       "mean    23.515869    5.458438    193.532746  2970.261965     15.555668   \n",
       "std      7.825804    1.701577    104.379583   847.904119      2.749995   \n",
       "min      9.000000    3.000000     68.000000  1613.000000      8.000000   \n",
       "25%     17.500000    4.000000    104.000000  2223.000000     13.800000   \n",
       "50%     23.000000    4.000000    146.000000  2800.000000     15.500000   \n",
       "75%     29.000000    8.000000    262.000000  3609.000000     17.100000   \n",
       "max     46.600000    8.000000    455.000000  5140.000000     24.800000   \n",
       "\n",
       "             year      origin  \n",
       "count  397.000000  397.000000  \n",
       "mean    75.994962    1.574307  \n",
       "std      3.690005    0.802549  \n",
       "min     70.000000    1.000000  \n",
       "25%     73.000000    1.000000  \n",
       "50%     76.000000    1.000000  \n",
       "75%     79.000000    2.000000  \n",
       "max     82.000000    3.000000  "
      ]
     },
     "execution_count": 41,
     "metadata": {},
     "output_type": "execute_result"
    }
   ],
   "source": [
    "file.describe()"
   ]
  },
  {
   "cell_type": "code",
   "execution_count": 49,
   "metadata": {},
   "outputs": [
    {
     "data": {
      "text/plain": [
       "u\"0                 chevrolet chevelle malibu\\n1                         buick skylark 320\\n2                        plymouth satellite\\n3                             amc rebel sst\\n4                               ford torino\\n5                          ford galaxie 500\\n6                          chevrolet impala\\n7                         plymouth fury iii\\n8                          pontiac catalina\\n9                        amc ambassador dpl\\n10                      dodge challenger se\\n11                       plymouth 'cuda 340\\n12                    chevrolet monte carlo\\n13                  buick estate wagon (sw)\\n14                    toyota corona mark ii\\n15                          plymouth duster\\n16                               amc hornet\\n17                            ford maverick\\n18                             datsun pl510\\n19             volkswagen 1131 deluxe sedan\\n20                              peugeot 504\\n21                              audi 100 ls\\n22                                 saab 99e\\n23                                 bmw 2002\\n24                              amc gremlin\\n25                                ford f250\\n26                                chevy c20\\n27                               dodge d200\\n28                                 hi 1200d\\n29                             datsun pl510\\n30                      chevrolet vega 2300\\n31                            toyota corona\\n32                               ford pinto\\n33                              amc gremlin\\n34                plymouth satellite custom\\n35                chevrolet chevelle malibu\\n36                          ford torino 500\\n37                              amc matador\\n38                         chevrolet impala\\n39                pontiac catalina brougham\\n40                         ford galaxie 500\\n41                        plymouth fury iii\\n42                        dodge monaco (sw)\\n43                 ford country squire (sw)\\n44                      pontiac safari (sw)\\n45               amc hornet sportabout (sw)\\n46                      chevrolet vega (sw)\\n47                         pontiac firebird\\n48                             ford mustang\\n49                       mercury capri 2000\\n50                                opel 1900\\n51                              peugeot 304\\n52                                fiat 124b\\n53                      toyota corolla 1200\\n54                              datsun 1200\\n55                     volkswagen model 111\\n56                         plymouth cricket\\n57                    toyota corona hardtop\\n58                       dodge colt hardtop\\n59                        volkswagen type 3\\n60                           chevrolet vega\\n61                      ford pinto runabout\\n62                         chevrolet impala\\n63                         pontiac catalina\\n64                        plymouth fury iii\\n65                         ford galaxie 500\\n66                       amc ambassador sst\\n67                          mercury marquis\\n68                     buick lesabre custom\\n69               oldsmobile delta 88 royale\\n70                   chrysler newport royal\\n71                          mazda rx2 coupe\\n72                         amc matador (sw)\\n73         chevrolet chevelle concours (sw)\\n74                    ford gran torino (sw)\\n75           plymouth satellite custom (sw)\\n76                          volvo 145e (sw)\\n77                      volkswagen 411 (sw)\\n78                         peugeot 504 (sw)\\n79                          renault 12 (sw)\\n80                          ford pinto (sw)\\n81                          datsun 510 (sw)\\n82              toyouta corona mark ii (sw)\\n83                          dodge colt (sw)\\n84                 toyota corolla 1600 (sw)\\n85                        buick century 350\\n86                              amc matador\\n87                         chevrolet malibu\\n88                         ford gran torino\\n89                     dodge coronet custom\\n90                 mercury marquis brougham\\n91                chevrolet caprice classic\\n92                                 ford ltd\\n93                 plymouth fury gran sedan\\n94             chrysler new yorker brougham\\n95                 buick electra 225 custom\\n96                  amc ambassador brougham\\n97                         plymouth valiant\\n98                    chevrolet nova custom\\n99                               amc hornet\\n100                           ford maverick\\n101                         plymouth duster\\n102                 volkswagen super beetle\\n103                        chevrolet impala\\n104                            ford country\\n105                  plymouth custom suburb\\n106                oldsmobile vista cruiser\\n107                             amc gremlin\\n108                           toyota carina\\n109                          chevrolet vega\\n110                              datsun 610\\n111                               maxda rx3\\n112                              ford pinto\\n113                        mercury capri v6\\n114                    fiat 124 sport coupe\\n115                 chevrolet monte carlo s\\n116                      pontiac grand prix\\n117                                fiat 128\\n118                              opel manta\\n119                              audi 100ls\\n120                             volvo 144ea\\n121                       dodge dart custom\\n122                               saab 99le\\n123                          toyota mark ii\\n124                        oldsmobile omega\\n125                         plymouth duster\\n126                           ford maverick\\n127                              amc hornet\\n128                          chevrolet nova\\n129                             datsun b210\\n130                              ford pinto\\n131                     toyota corolla 1200\\n132                          chevrolet vega\\n133       chevrolet chevelle malibu classic\\n134                             amc matador\\n135              plymouth satellite sebring\\n136                        ford gran torino\\n137                buick century luxus (sw)\\n138               dodge coronet custom (sw)\\n139                   ford gran torino (sw)\\n140                        amc matador (sw)\\n141                                audi fox\\n142                       volkswagen dasher\\n143                              opel manta\\n144                           toyota corona\\n145                              datsun 710\\n146                              dodge colt\\n147                                fiat 128\\n148                             fiat 124 tc\\n149                             honda civic\\n150                                  subaru\\n151                               fiat x1.9\\n152                 plymouth valiant custom\\n153                          chevrolet nova\\n154                         mercury monarch\\n155                           ford maverick\\n156                        pontiac catalina\\n157                       chevrolet bel air\\n158                     plymouth grand fury\\n159                                ford ltd\\n160                           buick century\\n161               chevroelt chevelle malibu\\n162                             amc matador\\n163                           plymouth fury\\n164                           buick skyhawk\\n165                     chevrolet monza 2+2\\n166                         ford mustang ii\\n167                          toyota corolla\\n168                              ford pinto\\n169                             amc gremlin\\n170                           pontiac astro\\n171                           toyota corona\\n172                       volkswagen dasher\\n173                              datsun 710\\n174                              ford pinto\\n175                       volkswagen rabbit\\n176                               amc pacer\\n177                              audi 100ls\\n178                             peugeot 504\\n179                             volvo 244dl\\n180                               saab 99le\\n181                        honda civic cvcc\\n182                                fiat 131\\n183                               opel 1900\\n184                                capri ii\\n185                              dodge colt\\n186                            renault 12tl\\n187       chevrolet chevelle malibu classic\\n188                  dodge coronet brougham\\n189                             amc matador\\n190                        ford gran torino\\n191                        plymouth valiant\\n192                          chevrolet nova\\n193                           ford maverick\\n194                              amc hornet\\n195                      chevrolet chevette\\n196                         chevrolet woody\\n197                               vw rabbit\\n198                             honda civic\\n199                          dodge aspen se\\n200                       ford granada ghia\\n201                      pontiac ventura sj\\n202                           amc pacer d/l\\n203                       volkswagen rabbit\\n204                            datsun b-210\\n205                          toyota corolla\\n206                              ford pinto\\n207                               volvo 245\\n208              plymouth volare premier v8\\n209                             peugeot 504\\n210                          toyota mark ii\\n211                      mercedes-benz 280s\\n212                        cadillac seville\\n213                               chevy c10\\n214                               ford f108\\n215                              dodge d100\\n216                       honda accord cvcc\\n217                 buick opel isuzu deluxe\\n218                           renault 5 gtl\\n219                       plymouth arrow gs\\n220                   datsun f-10 hatchback\\n221               chevrolet caprice classic\\n222              oldsmobile cutlass supreme\\n223                   dodge monaco brougham\\n224                 mercury cougar brougham\\n225                      chevrolet concours\\n226                           buick skylark\\n227                  plymouth volare custom\\n228                            ford granada\\n229                   pontiac grand prix lj\\n230            chevrolet monte carlo landau\\n231                        chrysler cordoba\\n232                        ford thunderbird\\n233                volkswagen rabbit custom\\n234                   pontiac sunbird coupe\\n235                 toyota corolla liftback\\n236                     ford mustang ii 2+2\\n237                      chevrolet chevette\\n238                          dodge colt m/m\\n239                               subaru dl\\n240                       volkswagen dasher\\n241                              datsun 810\\n242                                bmw 320i\\n243                              mazda rx-4\\n244         volkswagen rabbit custom diesel\\n245                             ford fiesta\\n246                        mazda glc deluxe\\n247                          datsun b210 gx\\n248                        honda civic cvcc\\n249       oldsmobile cutlass salon brougham\\n250                          dodge diplomat\\n251                    mercury monarch ghia\\n252                      pontiac phoenix lj\\n253                        chevrolet malibu\\n254                    ford fairmont (auto)\\n255                     ford fairmont (man)\\n256                         plymouth volare\\n257                             amc concord\\n258                   buick century special\\n259                          mercury zephyr\\n260                             dodge aspen\\n261                         amc concord d/l\\n262            chevrolet monte carlo landau\\n263         buick regal sport coupe (turbo)\\n264                             ford futura\\n265                         dodge magnum xe\\n266                      chevrolet chevette\\n267                           toyota corona\\n268                              datsun 510\\n269                              dodge omni\\n270               toyota celica gt liftback\\n271                        plymouth sapporo\\n272                  oldsmobile starfire sx\\n273                           datsun 200-sx\\n274                               audi 5000\\n275                             volvo 264gl\\n276                              saab 99gle\\n277                           peugeot 604sl\\n278                     volkswagen scirocco\\n279                         honda accord lx\\n280                       pontiac lemans v6\\n281                        mercury zephyr 6\\n282                         ford fairmont 4\\n283                        amc concord dl 6\\n284                           dodge aspen 6\\n285               chevrolet caprice classic\\n286                         ford ltd landau\\n287                   mercury grand marquis\\n288                         dodge st. regis\\n289                 buick estate wagon (sw)\\n290                ford country squire (sw)\\n291           chevrolet malibu classic (sw)\\n292    chrysler lebaron town @ country (sw)\\n293                        vw rabbit custom\\n294                        maxda glc deluxe\\n295             dodge colt hatchback custom\\n296                           amc spirit dl\\n297                      mercedes benz 300d\\n298                       cadillac eldorado\\n299                             peugeot 504\\n300       oldsmobile cutlass salon brougham\\n301                        plymouth horizon\\n302                    plymouth horizon tc3\\n303                              datsun 210\\n304                      fiat strada custom\\n305                   buick skylark limited\\n306                      chevrolet citation\\n307               oldsmobile omega brougham\\n308                         pontiac phoenix\\n309                               vw rabbit\\n310                   toyota corolla tercel\\n311                      chevrolet chevette\\n312                              datsun 310\\n313                      chevrolet citation\\n314                           ford fairmont\\n315                             amc concord\\n316                             dodge aspen\\n317                               audi 4000\\n318                  toyota corona liftback\\n319                               mazda 626\\n320                    datsun 510 hatchback\\n321                          toyota corolla\\n322                               mazda glc\\n323                              dodge colt\\n324                              datsun 210\\n325                    vw rabbit c (diesel)\\n326                      vw dasher (diesel)\\n327                     audi 5000s (diesel)\\n328                      mercedes-benz 240d\\n329                     honda civic 1500 gl\\n330                    renault lecar deluxe\\n331                               subaru dl\\n332                        vokswagen rabbit\\n333                           datsun 280-zx\\n334                           mazda rx-7 gs\\n335                       triumph tr7 coupe\\n336                      ford mustang cobra\\n337                            honda accord\\n338                        plymouth reliant\\n339                           buick skylark\\n340                  dodge aries wagon (sw)\\n341                      chevrolet citation\\n342                        plymouth reliant\\n343                          toyota starlet\\n344                          plymouth champ\\n345                        honda civic 1300\\n346                                  subaru\\n347                          datsun 210 mpg\\n348                           toyota tercel\\n349                             mazda glc 4\\n350                      plymouth horizon 4\\n351                          ford escort 4w\\n352                          ford escort 2h\\n353                        volkswagen jetta\\n354                             renault 18i\\n355                           honda prelude\\n356                          toyota corolla\\n357                            datsun 200sx\\n358                               mazda 626\\n359               peugeot 505s turbo diesel\\n360                            volvo diesel\\n361                         toyota cressida\\n362                       datsun 810 maxima\\n363                           buick century\\n364                   oldsmobile cutlass ls\\n365                         ford granada gl\\n366                  chrysler lebaron salon\\n367                      chevrolet cavalier\\n368                chevrolet cavalier wagon\\n369               chevrolet cavalier 2-door\\n370              pontiac j2000 se hatchback\\n371                          dodge aries se\\n372                         pontiac phoenix\\n373                    ford fairmont futura\\n374                     volkswagen rabbit l\\n375                      mazda glc custom l\\n376                        mazda glc custom\\n377                  plymouth horizon miser\\n378                          mercury lynx l\\n379                        nissan stanza xe\\n380                            honda accord\\n381                          toyota corolla\\n382                             honda civic\\n383                      honda civic (auto)\\n384                           datsun 310 gx\\n385                   buick century limited\\n386       oldsmobile cutlass ciera (diesel)\\n387              chrysler lebaron medallion\\n388                          ford granada l\\n389                        toyota celica gt\\n390                       dodge charger 2.2\\n391                        chevrolet camaro\\n392                         ford mustang gl\\n393                               vw pickup\\n394                           dodge rampage\\n395                             ford ranger\\n396                              chevy s-10\""
      ]
     },
     "execution_count": 49,
     "metadata": {},
     "output_type": "execute_result"
    }
   ],
   "source": [
    "file.name.to_string()"
   ]
  },
  {
   "cell_type": "code",
   "execution_count": 53,
   "metadata": {},
   "outputs": [
    {
     "data": {
      "text/html": [
       "<div>\n",
       "<style>\n",
       "    .dataframe thead tr:only-child th {\n",
       "        text-align: right;\n",
       "    }\n",
       "\n",
       "    .dataframe thead th {\n",
       "        text-align: left;\n",
       "    }\n",
       "\n",
       "    .dataframe tbody tr th {\n",
       "        vertical-align: top;\n",
       "    }\n",
       "</style>\n",
       "<table border=\"1\" class=\"dataframe\">\n",
       "  <thead>\n",
       "    <tr style=\"text-align: right;\">\n",
       "      <th></th>\n",
       "      <th>mpg</th>\n",
       "      <th>cylinders</th>\n",
       "      <th>displacement</th>\n",
       "      <th>horsepower</th>\n",
       "      <th>weight</th>\n",
       "      <th>acceleration</th>\n",
       "      <th>year</th>\n",
       "      <th>origin</th>\n",
       "      <th>name</th>\n",
       "    </tr>\n",
       "  </thead>\n",
       "  <tbody>\n",
       "    <tr>\n",
       "      <th>0</th>\n",
       "      <td>18.0</td>\n",
       "      <td>8</td>\n",
       "      <td>307.0</td>\n",
       "      <td>130</td>\n",
       "      <td>3504</td>\n",
       "      <td>12.0</td>\n",
       "      <td>70</td>\n",
       "      <td>1</td>\n",
       "      <td>chevrolet chevelle malibu</td>\n",
       "    </tr>\n",
       "    <tr>\n",
       "      <th>1</th>\n",
       "      <td>15.0</td>\n",
       "      <td>8</td>\n",
       "      <td>350.0</td>\n",
       "      <td>165</td>\n",
       "      <td>3693</td>\n",
       "      <td>11.5</td>\n",
       "      <td>70</td>\n",
       "      <td>1</td>\n",
       "      <td>buick skylark 320</td>\n",
       "    </tr>\n",
       "    <tr>\n",
       "      <th>2</th>\n",
       "      <td>18.0</td>\n",
       "      <td>8</td>\n",
       "      <td>318.0</td>\n",
       "      <td>150</td>\n",
       "      <td>3436</td>\n",
       "      <td>11.0</td>\n",
       "      <td>70</td>\n",
       "      <td>1</td>\n",
       "      <td>plymouth satellite</td>\n",
       "    </tr>\n",
       "    <tr>\n",
       "      <th>3</th>\n",
       "      <td>16.0</td>\n",
       "      <td>8</td>\n",
       "      <td>304.0</td>\n",
       "      <td>150</td>\n",
       "      <td>3433</td>\n",
       "      <td>12.0</td>\n",
       "      <td>70</td>\n",
       "      <td>1</td>\n",
       "      <td>amc rebel sst</td>\n",
       "    </tr>\n",
       "    <tr>\n",
       "      <th>4</th>\n",
       "      <td>17.0</td>\n",
       "      <td>8</td>\n",
       "      <td>302.0</td>\n",
       "      <td>140</td>\n",
       "      <td>3449</td>\n",
       "      <td>10.5</td>\n",
       "      <td>70</td>\n",
       "      <td>1</td>\n",
       "      <td>ford torino</td>\n",
       "    </tr>\n",
       "  </tbody>\n",
       "</table>\n",
       "</div>"
      ],
      "text/plain": [
       "    mpg  cylinders  displacement horsepower  weight  acceleration  year  \\\n",
       "0  18.0          8         307.0        130    3504          12.0    70   \n",
       "1  15.0          8         350.0        165    3693          11.5    70   \n",
       "2  18.0          8         318.0        150    3436          11.0    70   \n",
       "3  16.0          8         304.0        150    3433          12.0    70   \n",
       "4  17.0          8         302.0        140    3449          10.5    70   \n",
       "\n",
       "   origin                       name  \n",
       "0       1  chevrolet chevelle malibu  \n",
       "1       1          buick skylark 320  \n",
       "2       1         plymouth satellite  \n",
       "3       1              amc rebel sst  \n",
       "4       1                ford torino  "
      ]
     },
     "execution_count": 53,
     "metadata": {},
     "output_type": "execute_result"
    }
   ],
   "source": [
    "file.head()"
   ]
  },
  {
   "cell_type": "code",
   "execution_count": 32,
   "metadata": {
    "collapsed": true
   },
   "outputs": [],
   "source": [
    "import matplotlib.pyplot as plt\n",
    "import seaborn as sns"
   ]
  },
  {
   "cell_type": "code",
   "execution_count": 34,
   "metadata": {},
   "outputs": [
    {
     "data": {
      "image/png": "[encoded data removed]",
      "text/plain": [
       "<matplotlib.figure.Figure at 0x11c524dd0>"
      ]
     },
     "metadata": {},
     "output_type": "display_data"
    }
   ],
   "source": [
    "plt.hist(file['mpg'], color='red')\n",
    "plt.xlabel('mpg')\n",
    "plt.ylabel('count')\n",
    "plt.show()"
   ]
  },
  {
   "cell_type": "code",
   "execution_count": 35,
   "metadata": {},
   "outputs": [
    {
     "data": {
      "image/png": "[encoded data removed]",
      "text/plain": [
       "<matplotlib.figure.Figure at 0x11c2d4210>"
      ]
     },
     "metadata": {},
     "output_type": "display_data"
    }
   ],
   "source": [
    "plt.hist(file['cylinders'], color='yellow')\n",
    "plt.xlabel('mpg')\n",
    "plt.ylabel('count')\n",
    "plt.show()"
   ]
  },
  {
   "cell_type": "code",
   "execution_count": 59,
   "metadata": {},
   "outputs": [
    {
     "ename": "NameError",
     "evalue": "global name 'keys' is not defined",
     "output_type": "error",
     "traceback": [
      "\u001b[0;31m---------------------------------------------------------------------------\u001b[0m",
      "\u001b[0;31mNameError\u001b[0m                                 Traceback (most recent call last)",
      "\u001b[0;32m<ipython-input-59-9996305f6cf7>\u001b[0m in \u001b[0;36m<module>\u001b[0;34m()\u001b[0m\n\u001b[1;32m     29\u001b[0m \u001b[0;34m\u001b[0m\u001b[0m\n\u001b[1;32m     30\u001b[0m \u001b[0mlst2\u001b[0m \u001b[0;34m=\u001b[0m \u001b[0;34m[\u001b[0m\u001b[0;36m100\u001b[0m\u001b[0;34m,\u001b[0m \u001b[0;36m9\u001b[0m\u001b[0;34m,\u001b[0m \u001b[0;36m4\u001b[0m\u001b[0;34m,\u001b[0m \u001b[0;36m7\u001b[0m\u001b[0;34m,\u001b[0m \u001b[0;36m22\u001b[0m\u001b[0;34m,\u001b[0m \u001b[0;36m37\u001b[0m\u001b[0;34m,\u001b[0m \u001b[0;36m44\u001b[0m\u001b[0;34m,\u001b[0m \u001b[0;36m22\u001b[0m\u001b[0;34m,\u001b[0m \u001b[0;36m79\u001b[0m\u001b[0;34m,\u001b[0m \u001b[0;36m88\u001b[0m\u001b[0;34m,\u001b[0m \u001b[0;36m200\u001b[0m\u001b[0;34m,\u001b[0m \u001b[0;36m37\u001b[0m\u001b[0;34m,\u001b[0m \u001b[0;36m22\u001b[0m\u001b[0;34m,\u001b[0m \u001b[0;36m1000\u001b[0m\u001b[0;34m]\u001b[0m\u001b[0;34m\u001b[0m\u001b[0m\n\u001b[0;32m---> 31\u001b[0;31m \u001b[0mget_mode\u001b[0m\u001b[0;34m(\u001b[0m\u001b[0mlst2\u001b[0m\u001b[0;34m)\u001b[0m\u001b[0;34m\u001b[0m\u001b[0m\n\u001b[0m",
      "\u001b[0;32m<ipython-input-59-9996305f6cf7>\u001b[0m in \u001b[0;36mget_mode\u001b[0;34m(lst)\u001b[0m\n\u001b[1;32m     18\u001b[0m         \u001b[0;32melse\u001b[0m\u001b[0;34m:\u001b[0m\u001b[0;34m\u001b[0m\u001b[0m\n\u001b[1;32m     19\u001b[0m             \u001b[0mmodal_dict\u001b[0m\u001b[0;34m[\u001b[0m\u001b[0mval\u001b[0m\u001b[0;34m]\u001b[0m \u001b[0;34m=\u001b[0m \u001b[0;36m1\u001b[0m\u001b[0;34m\u001b[0m\u001b[0m\n\u001b[0;32m---> 20\u001b[0;31m         \u001b[0;32mfor\u001b[0m \u001b[0mkey\u001b[0m \u001b[0;32min\u001b[0m \u001b[0mkeys\u001b[0m\u001b[0;34m[\u001b[0m\u001b[0;36m1\u001b[0m\u001b[0;34m:\u001b[0m\u001b[0;34m]\u001b[0m\u001b[0;34m:\u001b[0m\u001b[0;34m\u001b[0m\u001b[0m\n\u001b[0m\u001b[1;32m     21\u001b[0m             \u001b[0;32mif\u001b[0m \u001b[0mmodal_dict\u001b[0m\u001b[0;34m[\u001b[0m\u001b[0mkey\u001b[0m\u001b[0;34m]\u001b[0m \u001b[0;34m>\u001b[0m \u001b[0mmax\u001b[0m\u001b[0;34m:\u001b[0m\u001b[0;34m\u001b[0m\u001b[0m\n\u001b[1;32m     22\u001b[0m                 \u001b[0mmax\u001b[0m \u001b[0;34m=\u001b[0m \u001b[0mmodal_dict\u001b[0m\u001b[0;34m[\u001b[0m\u001b[0mkey\u001b[0m\u001b[0;34m]\u001b[0m\u001b[0;34m\u001b[0m\u001b[0m\n",
      "\u001b[0;31mNameError\u001b[0m: global name 'keys' is not defined"
     ]
    }
   ],
   "source": [
    "def get_mode(lst):\n",
    "    \"\"\"Return the mode of all the values in lst\n",
    "\n",
    "    Parameters\n",
    "    ----------\n",
    "    lst : list of ints/floats\n",
    "\n",
    "    Returns\n",
    "    -------\n",
    "    float, mode value of the input list (FLOAT)\n",
    "\n",
    "    Do not use scs.mode().\n",
    "    \"\"\"\n",
    "    def mode(list):\n",
    "2\n",
    "     \n",
    "3\n",
    "    d = {}\n",
    "4\n",
    "    for elm in list:\n",
    "5\n",
    "        try:\n",
    "6\n",
    "            d[elm] += 1\n",
    "7\n",
    "        except(KeyError):\n",
    "8\n",
    "            d[elm] = 1\n",
    "9\n",
    "     \n",
    "10\n",
    "    keys = d.keys()\n",
    "11\n",
    "    max = d[keys[0]]\n",
    "12\n",
    "     \n",
    "13\n",
    "    for key in keys[1:]:\n",
    "14\n",
    "        if d[key] > max:\n",
    "15\n",
    "            max = d[key]\n",
    "16\n",
    " \n",
    "17\n",
    "    max_k = []      \n",
    "18\n",
    "    for key in keys:\n",
    "19\n",
    "        if d[key] == max:\n",
    "20\n",
    "            max_k.append(key),\n",
    "21\n",
    "    return max_k,max\n",
    "\n",
    "\n",
    "\n",
    "lst2 = [100, 9, 4, 7, 22, 37, 44, 22, 79, 88, 200, 37, 22, 1000]\n",
    "get_mode(lst2)"
   ]
  },
  {
   "cell_type": "code",
   "execution_count": 58,
   "metadata": {},
   "outputs": [
    {
     "ename": "NameError",
     "evalue": "global name 'keys' is not defined",
     "output_type": "error",
     "traceback": [
      "\u001b[0;31m---------------------------------------------------------------------------\u001b[0m",
      "\u001b[0;31mNameError\u001b[0m                                 Traceback (most recent call last)",
      "\u001b[0;32m<ipython-input-58-5ee5d3fb08af>\u001b[0m in \u001b[0;36m<module>\u001b[0;34m()\u001b[0m\n\u001b[0;32m----> 1\u001b[0;31m \u001b[0mget_mode\u001b[0m\u001b[0;34m(\u001b[0m\u001b[0mlst2\u001b[0m\u001b[0;34m)\u001b[0m\u001b[0;34m\u001b[0m\u001b[0m\n\u001b[0m",
      "\u001b[0;32m<ipython-input-57-2109adaf46f1>\u001b[0m in \u001b[0;36mget_mode\u001b[0;34m(lst)\u001b[0m\n\u001b[1;32m     18\u001b[0m         \u001b[0;32melse\u001b[0m\u001b[0;34m:\u001b[0m\u001b[0;34m\u001b[0m\u001b[0m\n\u001b[1;32m     19\u001b[0m             \u001b[0mmodal_dict\u001b[0m\u001b[0;34m[\u001b[0m\u001b[0mval\u001b[0m\u001b[0;34m]\u001b[0m \u001b[0;34m=\u001b[0m \u001b[0;36m1\u001b[0m\u001b[0;34m\u001b[0m\u001b[0m\n\u001b[0;32m---> 20\u001b[0;31m         \u001b[0;32mfor\u001b[0m \u001b[0mkey\u001b[0m \u001b[0;32min\u001b[0m \u001b[0mkeys\u001b[0m\u001b[0;34m[\u001b[0m\u001b[0;36m1\u001b[0m\u001b[0;34m:\u001b[0m\u001b[0;34m]\u001b[0m\u001b[0;34m:\u001b[0m\u001b[0;34m\u001b[0m\u001b[0m\n\u001b[0m\u001b[1;32m     21\u001b[0m             \u001b[0;32mif\u001b[0m \u001b[0mmodal_dict\u001b[0m\u001b[0;34m[\u001b[0m\u001b[0mkey\u001b[0m\u001b[0;34m]\u001b[0m \u001b[0;34m>\u001b[0m \u001b[0mmax\u001b[0m\u001b[0;34m:\u001b[0m\u001b[0;34m\u001b[0m\u001b[0m\n\u001b[1;32m     22\u001b[0m                 \u001b[0mmax\u001b[0m \u001b[0;34m=\u001b[0m \u001b[0mmodal_dict\u001b[0m\u001b[0;34m[\u001b[0m\u001b[0mkey\u001b[0m\u001b[0;34m]\u001b[0m\u001b[0;34m\u001b[0m\u001b[0m\n",
      "\u001b[0;31mNameError\u001b[0m: global name 'keys' is not defined"
     ]
    }
   ],
   "source": [
    "get_mode(lst2)"
   ]
  },
  {
   "cell_type": "code",
   "execution_count": null,
   "metadata": {
    "collapsed": true
   },
   "outputs": [],
   "source": []
  }
 ],
 "metadata": {
  "kernelspec": {
   "display_name": "Python 2",
   "language": "python",
   "name": "python2"
  },
  "language_info": {
   "codemirror_mode": {
    "name": "ipython",
    "version": 2
   },
   "file_extension": ".py",
   "mimetype": "text/x-python",
   "name": "python",
   "nbconvert_exporter": "python",
   "pygments_lexer": "ipython2",
   "version": "2.7.13"
  }
 },
 "nbformat": 4,
 "nbformat_minor": 2
}
