{
 "cells": [
  {
   "cell_type": "markdown",
   "metadata": {},
   "source": [
    "<img src=\"http://imgur.com/1ZcRyrc.png\" style=\"float: left; margin: 20px; height: 55px\">\n",
    "\n",
    "# Evaluating Classification Models on Humor Styles Data\n",
    "\n",
    "---\n",
    "\n",
    "In this lab you will be practicing evaluating classification models (Logistic Regression in particular) on a \"Humor Styles\" survey.\n",
    "\n",
    "This survey is designed to evaluate what \"style\" of humor subjects have. Your goal will be to classify gender using the responses on the survey."
   ]
  },
  {
   "cell_type": "markdown",
   "metadata": {},
   "source": [
    "### Humor styles questions encoding reference\n",
    "\n",
    "### 32 questions:\n",
    "\n",
    "Subjects answered **32** different questions outlined below:\n",
    "\n",
    "    1. I usually don't laugh or joke with other people.\n",
    "    2. If I feel depressed, I can cheer myself up with humor.\n",
    "    3. If someone makes a mistake, I will tease them about it.\n",
    "    4. I let people laugh at me or make fun of me at my expense more than I should.\n",
    "    5. I don't have to work very hard to make other people laugh. I am a naturally humorous person.\n",
    "    6. Even when I'm alone, I am often amused by the absurdities of life.\n",
    "    7. People are never offended or hurt by my sense of humor.\n",
    "    8. I will often get carried away in putting myself down if it makes family or friends laugh.\n",
    "    9. I rarely make other people laugh by telling funny stories about myself.\n",
    "    10. If I am feeling upset or unhappy I usually try to think of something funny about the situation to make myself feel better.\n",
    "    11. When telling jokes or saying funny things, I am usually not concerned about how other people are taking it.\n",
    "    12. I often try to make people like or accept me more by saying something funny about my own weaknesses, blunders, or faults.\n",
    "    13. I laugh and joke a lot with my closest friends.\n",
    "    14. My humorous outlook on life keeps me from getting overly upset or depressed about things.\n",
    "    15. I do not like it when people use humor as a way of criticizing or putting someone down.\n",
    "    16. I don't often say funny things to put myself down.\n",
    "    17. I usually don't like to tell jokes or amuse people.\n",
    "    18. If I'm by myself and I'm feeling unhappy, I make an effort to think of something funny to cheer myself up.\n",
    "    19. Sometimes I think of something that is so funny that I can't stop myself from saying it, even if it is not appropriate for the situation.\n",
    "    20. I often go overboard in putting myself down when I am making jokes or trying to be funny.\n",
    "    21. I enjoy making people laugh.\n",
    "    22. If I am feeling sad or upset, I usually lose my sense of humor.\n",
    "    23. I never participate in laughing at others even if all my friends are doing it.\n",
    "    24. When I am with friends or family, I often seem to be the one that other people make fun of or joke about.\n",
    "    25. I donít often joke around with my friends.\n",
    "    26. It is my experience that thinking about some amusing aspect of a situation is often a very effective way of coping with problems.\n",
    "    27. If I don't like someone, I often use humor or teasing to put them down.\n",
    "    28. If I am having problems or feeling unhappy, I often cover it up by joking around, so that even my closest friends don't know how I really feel.\n",
    "    29. I usually can't think of witty things to say when I'm with other people.\n",
    "    30. I don't need to be with other people to feel amused. I can usually find things to laugh about even when I'm by myself.\n",
    "    31. Even if something is really funny to me, I will not laugh or joke about it if someone will be offended.\n",
    "    32. Letting others laugh at me is my way of keeping my friends and family in good spirits.\n",
    "\n",
    "---\n",
    "\n",
    "### Response scale:\n",
    "\n",
    "For each question, there are 5 possible response codes (\"likert scale\") that correspond to different answers. There is also a code that indicates there is no response for that subject.\n",
    "\n",
    "    1 == \"Never or very rarely true\"\n",
    "    2 == \"Rarely true\"\n",
    "    3 == \"Sometimes true\"\n",
    "    4 == \"Often true\"\n",
    "    5 == \"Very often or always true\n",
    "    [-1 == Did not select an answer]\n",
    "    \n",
    "---\n",
    "\n",
    "### Demographics:\n",
    "\n",
    "    age: entered as as text then parsed to an interger.\n",
    "    gender: chosen from drop down list (1=male, 2=female, 3=other, 0=declined)\n",
    "    accuracy: How accurate they thought their answers were on a scale from 0 to 100, answers were entered as text and parsed to an integer. They were instructed to enter a 0 if they did not want to be included in research.\t"
   ]
  },
  {
   "cell_type": "code",
   "execution_count": 33,
   "metadata": {
    "collapsed": true
   },
   "outputs": [],
   "source": [
    "import matplotlib.pyplot as plt\n",
    "import numpy as np\n",
    "import pandas as pd\n",
    "\n",
    "import seaborn as sns\n",
    "\n",
    "%matplotlib inline\n",
    "%config InlineBackend.figure_format = 'retina'\n",
    "\n",
    "from sklearn.linear_model import LogisticRegression\n",
    "from sklearn.neighbors import KNeighborsClassifier\n",
    "from sklearn.model_selection import cross_val_score"
   ]
  },
  {
   "cell_type": "markdown",
   "metadata": {},
   "source": [
    "### 1. Load the data and perform any EDA and cleaning you think is necessary.\n",
    "\n",
    "It is worth reading over the description of the data columns above for this."
   ]
  },
  {
   "cell_type": "code",
   "execution_count": 34,
   "metadata": {
    "collapsed": true
   },
   "outputs": [],
   "source": [
    "hsq = pd.read_csv('./hsq_data.csv')"
   ]
  },
  {
   "cell_type": "code",
   "execution_count": 35,
   "metadata": {
    "collapsed": true
   },
   "outputs": [],
   "source": [
    "# correct spelling\n",
    "hsq.rename(columns={'agressive':'aggressive'}, inplace=True)"
   ]
  },
  {
   "cell_type": "code",
   "execution_count": 36,
   "metadata": {},
   "outputs": [
    {
     "data": {
      "text/plain": [
       "(1071, 39)"
      ]
     },
     "execution_count": 36,
     "metadata": {},
     "output_type": "execute_result"
    }
   ],
   "source": [
    "hsq.shape"
   ]
  },
  {
   "cell_type": "code",
   "execution_count": 37,
   "metadata": {},
   "outputs": [
    {
     "name": "stdout",
     "output_type": "stream",
     "text": [
      "[2 1 3 0]\n",
      "1    581\n",
      "2    477\n",
      "3      8\n",
      "0      5\n",
      "Name: gender, dtype: int64\n"
     ]
    }
   ],
   "source": [
    "# looks like there are 4 genders but most are just male and female\n",
    "print hsq.gender.unique()\n",
    "print hsq.gender.value_counts()"
   ]
  },
  {
   "cell_type": "code",
   "execution_count": 38,
   "metadata": {
    "collapsed": true
   },
   "outputs": [],
   "source": [
    "# Set any of the -1 values in the question answers to np.nan\n",
    "for col in [c for c in hsq.columns if c.startswith('Q')]:\n",
    "    hsq[col] = hsq[col].map(lambda x: np.nan if x == -1 else x)"
   ]
  },
  {
   "cell_type": "code",
   "execution_count": 39,
   "metadata": {},
   "outputs": [
    {
     "data": {
      "text/plain": [
       "Q1                3\n",
       "Q2                3\n",
       "Q3                2\n",
       "Q4                1\n",
       "Q5                2\n",
       "Q6                2\n",
       "Q7                2\n",
       "Q8                7\n",
       "Q9                4\n",
       "Q10               3\n",
       "Q11               2\n",
       "Q12               2\n",
       "Q13               2\n",
       "Q14               4\n",
       "Q15               7\n",
       "Q16               5\n",
       "Q17              13\n",
       "Q18               6\n",
       "Q19               4\n",
       "Q20               6\n",
       "Q21               8\n",
       "Q22               7\n",
       "Q23               8\n",
       "Q24               7\n",
       "Q25              10\n",
       "Q26               9\n",
       "Q27               5\n",
       "Q28               4\n",
       "Q29               6\n",
       "Q30               8\n",
       "Q31               7\n",
       "Q32               3\n",
       "affiliative       0\n",
       "selfenhancing     0\n",
       "aggressive        0\n",
       "selfdefeating     0\n",
       "age               0\n",
       "gender            0\n",
       "accuracy          0\n",
       "dtype: int64"
      ]
     },
     "execution_count": 39,
     "metadata": {},
     "output_type": "execute_result"
    }
   ],
   "source": [
    "# check null values:\n",
    "hsq.isnull().sum()"
   ]
  },
  {
   "cell_type": "code",
   "execution_count": 40,
   "metadata": {},
   "outputs": [
    {
     "name": "stdout",
     "output_type": "stream",
     "text": [
      "(993, 39)\n"
     ]
    }
   ],
   "source": [
    "# drop the nulls\n",
    "hsq.dropna(inplace=True)\n",
    "print hsq.shape"
   ]
  },
  {
   "cell_type": "code",
   "execution_count": 41,
   "metadata": {},
   "outputs": [
    {
     "data": {
      "text/plain": [
       "array([   25,    44,    50,    52,    30,    27,    34,    18,    33,\n",
       "          26,    36,    21,    20,    23,    70,    17,    39,    61,\n",
       "          29,    16,    69,    22,    38,    24,    14,    40,    62,\n",
       "          51,    35,    46,    42,    19,    32,    15,    37,    45,\n",
       "          28,    49,    31,    64,    54,    68,    48,    60,    43,\n",
       "          41,    53,    58,   242,   151,    55,    67,    56,    59,\n",
       "          66,    47,  2670,    57, 44849])"
      ]
     },
     "execution_count": 41,
     "metadata": {},
     "output_type": "execute_result"
    }
   ],
   "source": [
    "hsq.age.unique()"
   ]
  },
  {
   "cell_type": "code",
   "execution_count": 42,
   "metadata": {
    "collapsed": true
   },
   "outputs": [],
   "source": [
    "# set hsq to be only valid ages:\n",
    "hsq = hsq[hsq.age <= 100]"
   ]
  },
  {
   "cell_type": "code",
   "execution_count": 43,
   "metadata": {
    "collapsed": true
   },
   "outputs": [],
   "source": [
    "# only keep male and female\n",
    "hsq = hsq[hsq.gender.isin([1,2])]"
   ]
  },
  {
   "cell_type": "markdown",
   "metadata": {},
   "source": [
    "### 2. Set up a predictor matrix to predict `gender` (only male vs. female)\n",
    "\n",
    "Choice of predictors is up to you. Justify which variables you include."
   ]
  },
  {
   "cell_type": "code",
   "execution_count": 44,
   "metadata": {},
   "outputs": [
    {
     "name": "stdout",
     "output_type": "stream",
     "text": [
      "['Q1', 'Q2', 'Q3', 'Q4', 'Q5', 'Q6', 'Q7', 'Q8', 'Q9', 'Q10', 'Q11', 'Q12', 'Q13', 'Q14', 'Q15', 'Q16', 'Q17', 'Q18', 'Q19', 'Q20', 'Q21', 'Q22', 'Q23', 'Q24', 'Q25', 'Q26', 'Q27', 'Q28', 'Q29', 'Q30', 'Q31', 'Q32', 'age', 'accuracy']\n"
     ]
    }
   ],
   "source": [
    "# not including the \"aggregate\" measures (affiliative, selfenhancing, etc.) as they are combinations\n",
    "# of the original questions.\n",
    "predictors = [x for x in hsq.columns if 'Q' in x]\n",
    "predictors = predictors + ['age', 'accuracy']\n",
    "print predictors"
   ]
  },
  {
   "cell_type": "code",
   "execution_count": 45,
   "metadata": {
    "collapsed": true
   },
   "outputs": [],
   "source": [
    "# set up y variable\n",
    "y = hsq.gender.map(lambda x: 1 if x == 1 else 0)"
   ]
  },
  {
   "cell_type": "code",
   "execution_count": 46,
   "metadata": {
    "collapsed": true
   },
   "outputs": [],
   "source": [
    "X = hsq[predictors]"
   ]
  },
  {
   "cell_type": "markdown",
   "metadata": {},
   "source": [
    "### 3. StandardScaler to normalise your data and Fit a Logistic Regression model and compare your cross-validated accuracy to the baseline."
   ]
  },
  {
   "cell_type": "code",
   "execution_count": 47,
   "metadata": {
    "collapsed": true
   },
   "outputs": [],
   "source": [
    "from sklearn.model_selection import cross_val_score\n",
    "from sklearn.preprocessing import StandardScaler\n",
    "ss = StandardScaler()\n",
    "Xs = ss.fit_transform(X)"
   ]
  },
  {
   "cell_type": "code",
   "execution_count": 57,
   "metadata": {},
   "outputs": [
    {
     "data": {
      "text/plain": [
       "(977,)"
      ]
     },
     "execution_count": 57,
     "metadata": {},
     "output_type": "execute_result"
    }
   ],
   "source": [
    "y.shape"
   ]
  },
  {
   "cell_type": "code",
   "execution_count": 67,
   "metadata": {},
   "outputs": [
    {
     "name": "stdout",
     "output_type": "stream",
     "text": [
      "The Score for this model is: 0.633572159672 out of 1\n"
     ]
    }
   ],
   "source": [
    "lr = LogisticRegression()\n",
    "\n",
    "Y = y\n",
    "X = Xs\n",
    "\n",
    "model = lr.fit(X,Y)\n",
    "\n",
    "score = model.score(X,Y)\n",
    "\n",
    "print \"The Score for this model is: \" + str(score) + \" out of 1\""
   ]
  },
  {
   "cell_type": "code",
   "execution_count": 68,
   "metadata": {},
   "outputs": [
    {
     "data": {
      "text/plain": [
       "array([ 0.6       ,  0.6       ,  0.6       ,  0.625     ,  0.675     ,\n",
       "        0.625     ,  0.675     ,  0.575     ,  0.525     ,  0.625     ,\n",
       "        0.53846154,  0.64102564,  0.46153846,  0.64102564,  0.64102564,\n",
       "        0.56410256,  0.71794872,  0.44736842,  0.65789474,  0.65789474,\n",
       "        0.71052632,  0.63157895,  0.57894737,  0.44736842,  0.63157895])"
      ]
     },
     "execution_count": 68,
     "metadata": {},
     "output_type": "execute_result"
    }
   ],
   "source": [
    "cross_val_score(lr,X,y,cv=25)"
   ]
  },
  {
   "cell_type": "code",
   "execution_count": 69,
   "metadata": {},
   "outputs": [
    {
     "data": {
      "text/plain": [
       "0.5475946775844421"
      ]
     },
     "execution_count": 69,
     "metadata": {},
     "output_type": "execute_result"
    }
   ],
   "source": [
    "np.mean(y)"
   ]
  },
  {
   "cell_type": "markdown",
   "metadata": {},
   "source": [
    "### 4. Create a 50-50 train-test split. Fit the model on training and get the predictions and predicted probabilities on the test data."
   ]
  },
  {
   "cell_type": "code",
   "execution_count": 66,
   "metadata": {
    "collapsed": true
   },
   "outputs": [],
   "source": [
    "from sklearn.metrics import classification_report, confusion_matrix, accuracy_score\n",
    "from sklearn.model_selection import train_test_split"
   ]
  },
  {
   "cell_type": "code",
   "execution_count": 59,
   "metadata": {},
   "outputs": [],
   "source": [
    "X_test, X_train, y_test, y_train = train_test_split(Xs, y, test_size=0.5, random_state=42)"
   ]
  },
  {
   "cell_type": "code",
   "execution_count": 61,
   "metadata": {},
   "outputs": [
    {
     "data": {
      "text/plain": [
       "LogisticRegression(C=1.0, class_weight=None, dual=False, fit_intercept=True,\n",
       "          intercept_scaling=1, max_iter=100, multi_class='ovr', n_jobs=1,\n",
       "          penalty='l2', random_state=None, solver='liblinear', tol=0.0001,\n",
       "          verbose=0, warm_start=False)"
      ]
     },
     "execution_count": 61,
     "metadata": {},
     "output_type": "execute_result"
    }
   ],
   "source": [
    "model2 = LogisticRegression()\n",
    "model2.fit(X_train,y_train)"
   ]
  },
  {
   "cell_type": "code",
   "execution_count": 95,
   "metadata": {},
   "outputs": [
    {
     "name": "stdout",
     "output_type": "stream",
     "text": [
      "[0 1 1 1 0 1 0 0 1 1 0 0 1 0 1 1 1 1 0 0 0 0 0 0 0 1 1 1 0 0 1 1 1 1 1 1 1\n",
      " 1 0 0 1 0 1 0 1 1 1 1 1 1 0 1 1 0 1 1 1 1 1 1 1 1 1 0 0 1 1 0 1 0 1 1 1 1\n",
      " 1 0 1 1 1 0 0 0 0 1 1 1 0 0 1 1 0 1 0 0 1 0 1 1 1 0 1 1 1 0 1 0 0 0 0 1 1\n",
      " 1 1 1 0 0 0 1 0 0 1 0 1 0 1 1 0 0 0 0 0 1 0 1 0 1 0 0 1 1 1 1 1 0 1 0 1 1\n",
      " 1 0 1 0 0 1 1 0 0 0 0 0 1 0 0 0 1 0 0 1 0 0 0 0 0 1 1 1 0 1 1 1 0 1 1 0 1\n",
      " 1 1 1 1 0 0 0 0 1 1 1 1 0 0 0 0 1 0 0 0 1 1 0 1 1 0 1 1 0 0 1 0 1 1 0 0 0\n",
      " 0 0 1 1 0 0 1 0 0 1 1 1 1 0 1 0 1 1 0 0 0 0 0 1 1 1 0 1 1 1 1 1 1 1 1 0 1\n",
      " 1 1 0 1 0 0 1 0 1 0 0 1 0 0 0 0 0 0 0 0 1 1 0 1 1 1 0 0 1 1 1 0 0 0 1 1 0\n",
      " 0 1 0 1 1 0 0 1 1 1 0 0 1 1 0 1 1 1 0 1 0 1 0 1 0 1 1 0 1 0 0 0 1 1 1 1 1\n",
      " 1 0 0 0 0 1 1 1 1 0 0 0 1 1 1 1 1 1 1 1 0 0 1 1 1 0 0 0 0 1 1 0 0 0 0 1 0\n",
      " 0 0 0 1 0 0 0 1 0 1 0 0 1 1 0 0 0 0 1 0 1 0 0 1 1 1 1 1 1 1 0 1 1 0 0 1 0\n",
      " 1 1 0 0 1 0 1 1 0 0 0 0 1 1 0 1 1 0 0 1 1 1 1 1 0 1 0 0 0 1 1 1 0 0 0 1 0\n",
      " 1 1 0 0 1 1 0 0 1 1 1 0 1 1 1 0 0 1 1 0 0 1 1 1 1 0 0 1 1 1 1 1 1 1 0 1 0\n",
      " 1 0 0 0 1 0 0]\n"
     ]
    }
   ],
   "source": [
    "# predict class labels for the test set\n",
    "\n",
    "yhat = model2.predict(X_test)\n",
    "print predicted"
   ]
  },
  {
   "cell_type": "code",
   "execution_count": 97,
   "metadata": {},
   "outputs": [
    {
     "name": "stdout",
     "output_type": "stream",
     "text": [
      "[0 1 1 1 0]\n",
      "[[ 0.4210693   0.5789307 ]\n",
      " [ 0.58709318  0.41290682]\n",
      " [ 0.37890251  0.62109749]\n",
      " [ 0.45593807  0.54406193]\n",
      " [ 0.8016377   0.1983623 ]]\n"
     ]
    }
   ],
   "source": [
    "yhat_pp = lr.predict_proba(X_test)\n",
    "print yhat[:5]\n",
    "print yhat_pp[:5]"
   ]
  },
  {
   "cell_type": "markdown",
   "metadata": {},
   "source": [
    "### 5. Manually calculate the true positives, false positives, true negatives, and false negatives."
   ]
  },
  {
   "cell_type": "code",
   "execution_count": 98,
   "metadata": {},
   "outputs": [
    {
     "name": "stdout",
     "output_type": "stream",
     "text": [
      "167 110 116 95\n"
     ]
    }
   ],
   "source": [
    "tp = np.sum((y_test == 1) & (yhat == 1))\n",
    "fp = np.sum((y_test == 1) & (yhat == 0))\n",
    "tn = np.sum((y_test == 0) & (yhat == 0))\n",
    "fn = np.sum((y_test == 0) & (yhat == 1))\n",
    "\n",
    "print tp, fp, tn, fn"
   ]
  },
  {
   "cell_type": "markdown",
   "metadata": {},
   "source": [
    "### 6. Construct the confusion matrix. "
   ]
  },
  {
   "cell_type": "code",
   "execution_count": 99,
   "metadata": {},
   "outputs": [
    {
     "name": "stdout",
     "output_type": "stream",
     "text": [
      "[[116  95]\n",
      " [110 167]]\n"
     ]
    }
   ],
   "source": [
    "print confusion_matrix(y_test, predicted)"
   ]
  },
  {
   "cell_type": "code",
   "execution_count": 101,
   "metadata": {},
   "outputs": [
    {
     "data": {
      "text/plain": [
       "[[167, 110], [95, 116]]"
      ]
     },
     "execution_count": 101,
     "metadata": {},
     "output_type": "execute_result"
    }
   ],
   "source": [
    "confusion_matrix2 = [[tp, fp], [fn,tn]]\n",
    "confusion_matrix2"
   ]
  },
  {
   "cell_type": "markdown",
   "metadata": {},
   "source": [
    "### 7. Print out the false positive count as you change your threshold for predicting label 1."
   ]
  },
  {
   "cell_type": "code",
   "execution_count": 102,
   "metadata": {},
   "outputs": [
    {
     "data": {
      "text/html": [
       "<div>\n",
       "<style>\n",
       "    .dataframe thead tr:only-child th {\n",
       "        text-align: right;\n",
       "    }\n",
       "\n",
       "    .dataframe thead th {\n",
       "        text-align: left;\n",
       "    }\n",
       "\n",
       "    .dataframe tbody tr th {\n",
       "        vertical-align: top;\n",
       "    }\n",
       "</style>\n",
       "<table border=\"1\" class=\"dataframe\">\n",
       "  <thead>\n",
       "    <tr style=\"text-align: right;\">\n",
       "      <th></th>\n",
       "      <th>female</th>\n",
       "      <th>male</th>\n",
       "    </tr>\n",
       "  </thead>\n",
       "  <tbody>\n",
       "    <tr>\n",
       "      <th>0</th>\n",
       "      <td>0.421069</td>\n",
       "      <td>0.578931</td>\n",
       "    </tr>\n",
       "    <tr>\n",
       "      <th>1</th>\n",
       "      <td>0.587093</td>\n",
       "      <td>0.412907</td>\n",
       "    </tr>\n",
       "    <tr>\n",
       "      <th>2</th>\n",
       "      <td>0.378903</td>\n",
       "      <td>0.621097</td>\n",
       "    </tr>\n",
       "    <tr>\n",
       "      <th>3</th>\n",
       "      <td>0.455938</td>\n",
       "      <td>0.544062</td>\n",
       "    </tr>\n",
       "    <tr>\n",
       "      <th>4</th>\n",
       "      <td>0.801638</td>\n",
       "      <td>0.198362</td>\n",
       "    </tr>\n",
       "  </tbody>\n",
       "</table>\n",
       "</div>"
      ],
      "text/plain": [
       "     female      male\n",
       "0  0.421069  0.578931\n",
       "1  0.587093  0.412907\n",
       "2  0.378903  0.621097\n",
       "3  0.455938  0.544062\n",
       "4  0.801638  0.198362"
      ]
     },
     "execution_count": 102,
     "metadata": {},
     "output_type": "execute_result"
    }
   ],
   "source": [
    "pp = pd.DataFrame(yhat_pp, columns = ['female', 'male'])\n",
    "pp.head()"
   ]
  },
  {
   "cell_type": "markdown",
   "metadata": {},
   "source": [
    "### 8. Plot an ROC curve using your predicted probabilities on the test data.\n",
    "\n",
    "Calculate the area under the curve.\n",
    "\n",
    "> *Hint: go back to the lecture to find code for plotting the ROC curve.*"
   ]
  },
  {
   "cell_type": "code",
   "execution_count": null,
   "metadata": {
    "collapsed": true
   },
   "outputs": [],
   "source": [
    "from sklearn.metrics import roc_curve, auc"
   ]
  },
  {
   "cell_type": "code",
   "execution_count": 104,
   "metadata": {},
   "outputs": [
    {
     "ename": "NameError",
     "evalue": "name 'feature_set' is not defined",
     "output_type": "error",
     "traceback": [
      "\u001b[0;31m---------------------------------------------------------------------------\u001b[0m",
      "\u001b[0;31mNameError\u001b[0m                                 Traceback (most recent call last)",
      "\u001b[0;32m<ipython-input-104-9d7b2ed28efb>\u001b[0m in \u001b[0;36m<module>\u001b[0;34m()\u001b[0m\n\u001b[1;32m      3\u001b[0m \u001b[0;32mfrom\u001b[0m \u001b[0msklearn\u001b[0m\u001b[0;34m.\u001b[0m\u001b[0mmetrics\u001b[0m \u001b[0;32mimport\u001b[0m \u001b[0mroc_curve\u001b[0m\u001b[0;34m,\u001b[0m \u001b[0mroc_auc_score\u001b[0m\u001b[0;34m\u001b[0m\u001b[0m\n\u001b[1;32m      4\u001b[0m \u001b[0;34m\u001b[0m\u001b[0m\n\u001b[0;32m----> 5\u001b[0;31m \u001b[0mactuals\u001b[0m \u001b[0;34m=\u001b[0m \u001b[0mlr\u001b[0m\u001b[0;34m.\u001b[0m\u001b[0mpredict\u001b[0m\u001b[0;34m(\u001b[0m\u001b[0mfeature_set\u001b[0m\u001b[0;34m)\u001b[0m\u001b[0;34m\u001b[0m\u001b[0m\n\u001b[0m\u001b[1;32m      6\u001b[0m \u001b[0mprobas\u001b[0m \u001b[0;34m=\u001b[0m \u001b[0mlr\u001b[0m\u001b[0;34m.\u001b[0m\u001b[0mpredict_proba\u001b[0m\u001b[0;34m(\u001b[0m\u001b[0mfeature_set\u001b[0m\u001b[0;34m)\u001b[0m\u001b[0;34m\u001b[0m\u001b[0m\n\u001b[1;32m      7\u001b[0m \u001b[0mplt\u001b[0m\u001b[0;34m.\u001b[0m\u001b[0mplot\u001b[0m\u001b[0;34m(\u001b[0m\u001b[0mroc_curve\u001b[0m\u001b[0;34m(\u001b[0m\u001b[0mtp\u001b[0m\u001b[0;34m)\u001b[0m\u001b[0;34m,\u001b[0m \u001b[0mroc_curve\u001b[0m\u001b[0;34m(\u001b[0m\u001b[0mtn\u001b[0m\u001b[0;34m)\u001b[0m\u001b[0;34m)\u001b[0m\u001b[0;34m\u001b[0m\u001b[0m\n",
      "\u001b[0;31mNameError\u001b[0m: name 'feature_set' is not defined"
     ]
    }
   ],
   "source": [
    "%matplotlib inline\n",
    "import matplotlib.pyplot as plt\n",
    "from sklearn.metrics import roc_curve, roc_auc_score\n",
    "\n",
    "actuals = lr.predict() \n",
    "probas = lr.predict_proba(feature_set)\n",
    "plt.plot(roc_curve(tp), roc_curve(tn))"
   ]
  },
  {
   "cell_type": "markdown",
   "metadata": {},
   "source": [
    "### 9. Cross-validate a logistic regression with a Ridge penalty.\n",
    "\n",
    "Logistic regression can also use the Ridge penalty. Sklearn's `LogisticRegressionCV` class will help you cross-validate an appropriate regularization strength.\n",
    "\n",
    "**Important `LogisticRegressionCV` arguments:**\n",
    "- `penalty`: this can be one of `'l1'` or `'l2'`. L1 is the Lasso, and L2 is the Ridge.\n",
    "- `Cs`: How many different (automatically-selected) regularization strengths should be tested.\n",
    "- `cv`: How many cross-validation folds should be used to test regularization strength.\n",
    "- `solver`: When using the lasso penalty, this should be set to `'liblinear'`\n",
    "\n",
    "> **Note:** The `C` regularization strength is the *inverse* of alpha. That is to say, `C = 1./alpha`"
   ]
  },
  {
   "cell_type": "code",
   "execution_count": null,
   "metadata": {
    "collapsed": true
   },
   "outputs": [],
   "source": [
    "from sklearn.linear_model import LogisticRegressionCV"
   ]
  },
  {
   "cell_type": "code",
   "execution_count": null,
   "metadata": {
    "collapsed": true
   },
   "outputs": [],
   "source": [
    "# A:"
   ]
  },
  {
   "cell_type": "markdown",
   "metadata": {},
   "source": [
    "**9.B Calculate the predicted labels and predicted probabilities on the test set with the Ridge logisitic regression.**"
   ]
  },
  {
   "cell_type": "code",
   "execution_count": null,
   "metadata": {
    "collapsed": true
   },
   "outputs": [],
   "source": [
    "# A:"
   ]
  },
  {
   "cell_type": "markdown",
   "metadata": {},
   "source": [
    "**9.C Construct the confusion matrix for the Ridge LR.**"
   ]
  },
  {
   "cell_type": "code",
   "execution_count": null,
   "metadata": {
    "collapsed": true
   },
   "outputs": [],
   "source": [
    "# A:"
   ]
  },
  {
   "cell_type": "markdown",
   "metadata": {},
   "source": [
    "### 10. Plot the ROC curve for the original and Ridge logistic regressions on the same plot.\n",
    "\n",
    "Which performs better?"
   ]
  },
  {
   "cell_type": "code",
   "execution_count": null,
   "metadata": {
    "collapsed": true
   },
   "outputs": [],
   "source": [
    "# A:"
   ]
  },
  {
   "cell_type": "markdown",
   "metadata": {},
   "source": [
    "### 11. Cross-validate a Lasso logistic regression.\n",
    "\n",
    "**Remember:**\n",
    "- `penalty` must be set to `'l1'`\n",
    "- `solver` must be set to `'liblinear'`\n",
    "\n",
    "> **Note:** The lasso penalty can be considerably slower. You may want to try fewer Cs or use fewer cv folds."
   ]
  },
  {
   "cell_type": "code",
   "execution_count": null,
   "metadata": {
    "collapsed": true
   },
   "outputs": [],
   "source": [
    "# A:"
   ]
  },
  {
   "cell_type": "markdown",
   "metadata": {},
   "source": [
    "### 12. Make the confusion matrix for the Lasso model."
   ]
  },
  {
   "cell_type": "code",
   "execution_count": null,
   "metadata": {
    "collapsed": true
   },
   "outputs": [],
   "source": [
    "# A:"
   ]
  },
  {
   "cell_type": "markdown",
   "metadata": {},
   "source": [
    "### 13. Plot all three logistic regression models on the same ROC plot.\n",
    "\n",
    "Which is the best? (if any)"
   ]
  },
  {
   "cell_type": "code",
   "execution_count": null,
   "metadata": {
    "collapsed": true
   },
   "outputs": [],
   "source": [
    "# A:"
   ]
  },
  {
   "cell_type": "markdown",
   "metadata": {},
   "source": [
    "### 14. Look at the coefficients for the Lasso logistic regression model. Which variables are the most important?"
   ]
  },
  {
   "cell_type": "code",
   "execution_count": null,
   "metadata": {
    "collapsed": true
   },
   "outputs": [],
   "source": [
    "# A:"
   ]
  }
 ],
 "metadata": {
  "anaconda-cloud": {},
  "kernelspec": {
   "display_name": "Python 2",
   "language": "python",
   "name": "python2"
  },
  "language_info": {
   "codemirror_mode": {
    "name": "ipython",
    "version": 2
   },
   "file_extension": ".py",
   "mimetype": "text/x-python",
   "name": "python",
   "nbconvert_exporter": "python",
   "pygments_lexer": "ipython2",
   "version": "2.7.13"
  }
 },
 "nbformat": 4,
 "nbformat_minor": 2
}
